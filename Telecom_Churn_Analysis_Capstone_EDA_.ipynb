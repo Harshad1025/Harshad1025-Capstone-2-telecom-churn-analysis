{
  "nbformat": 4,
  "nbformat_minor": 0,
  "metadata": {
    "colab": {
      "private_outputs": true,
      "provenance": [],
      "collapsed_sections": [
        "vncDsAP0Gaoa",
        "FJNUwmbgGyua",
        "w6K7xa23Elo4",
        "yQaldy8SH6Dl",
        "PH-0ReGfmX4f",
        "mDgbUHAGgjLW",
        "O_i_v8NEhb9l",
        "HhfV-JJviCcP",
        "Y3lxredqlCYt",
        "3RnN4peoiCZX",
        "x71ZqKXriCWQ",
        "7hBIi_osiCS2",
        "JlHwYmJAmNHm",
        "35m5QtbWiB9F",
        "PoPl-ycgm1ru",
        "H0kj-8xxnORC",
        "nA9Y7ga8ng1Z",
        "PBTbrJXOngz2",
        "u3PMJOP6ngxN",
        "dauF4eBmngu3",
        "bKJF3rekwFvQ",
        "MSa1f5Uengrz",
        "GF8Ens_Soomf",
        "0wOQAZs5pc--",
        "K5QZ13OEpz2H",
        "lQ7QKXXCp7Bj",
        "448CDAPjqfQr",
        "KSlN3yHqYklG",
        "t6dVpIINYklI",
        "ijmpgYnKYklI",
        "-JiQyfWJYklI",
        "EM7whBJCYoAo",
        "fge-S5ZAYoAp",
        "85gYPyotYoAp",
        "RoGjAbkUYoAp",
        "4Of9eVA-YrdM",
        "iky9q4vBYrdO",
        "F6T5p64dYrdO",
        "y-Ehk30pYrdP",
        "bamQiAODYuh1",
        "QHF8YVU7Yuh3",
        "GwzvFGzlYuh3",
        "qYpmQ266Yuh3",
        "OH-pJp9IphqM",
        "bbFf2-_FphqN",
        "_ouA3fa0phqN",
        "Seke61FWphqN",
        "PIIx-8_IphqN",
        "t27r6nlMphqO",
        "r2jJGEOYphqO",
        "b0JNsNcRphqO",
        "BZR9WyysphqO",
        "jj7wYXLtphqO",
        "eZrbJ2SmphqO",
        "rFu4xreNphqO",
        "YJ55k-q6phqO",
        "gCFgpxoyphqP",
        "OVtJsKN_phqQ",
        "lssrdh5qphqQ",
        "U2RJ9gkRphqQ",
        "1M8mcRywphqQ",
        "tgIPom80phqQ",
        "JMzcOPDDphqR",
        "x-EpHcCOp1ci",
        "X_VqEhTip1ck",
        "8zGJKyg5p1ck",
        "PVzmfK_Ep1ck",
        "n3dbpmDWp1ck",
        "ylSl6qgtp1ck",
        "ZWILFDl5p1ck",
        "M7G43BXep1ck",
        "Ag9LCva-p1cl",
        "E6MkPsBcp1cl",
        "2cELzS2fp1cl",
        "3MPXvC8up1cl",
        "NC_X3p0fY2L0",
        "UV0SzAkaZNRQ",
        "YPEH6qLeZNRQ",
        "q29F0dvdveiT",
        "EXh0U9oCveiU",
        "22aHeOlLveiV",
        "JcMwzZxoAimU",
        "8G2x9gOozGDZ",
        "gCX9965dhzqZ",
        "gIfDvo9L0UH2"
      ],
      "include_colab_link": true
    },
    "kernelspec": {
      "name": "python3",
      "display_name": "Python 3"
    },
    "language_info": {
      "name": "python"
    }
  },
  "cells": [
    {
      "cell_type": "markdown",
      "metadata": {
        "id": "view-in-github",
        "colab_type": "text"
      },
      "source": [
        "<a href=\"https://colab.research.google.com/github/Harshad1025/Harshad1025-Capstone-2-telecom-churn-analysis/blob/main/Telecom_Churn_Analysis_Capstone_EDA_.ipynb\" target=\"_parent\"><img src=\"https://colab.research.google.com/assets/colab-badge.svg\" alt=\"Open In Colab\"/></a>"
      ]
    },
    {
      "cell_type": "markdown",
      "source": [
        "# **Project Name**    -\n",
        "\n"
      ],
      "metadata": {
        "id": "vncDsAP0Gaoa"
      }
    },
    {
      "cell_type": "markdown",
      "source": [
        "##### **Project Type**    - EDA\n",
        "##### **Contribution**    - Individual\n",
        "##### **Team Member 1 -Harshad Thombre**\n"
      ],
      "metadata": {
        "id": "beRrZCGUAJYm"
      }
    },
    {
      "cell_type": "markdown",
      "source": [
        "# **Project Summary -**"
      ],
      "metadata": {
        "id": "FJNUwmbgGyua"
      }
    },
    {
      "cell_type": "markdown",
      "source": [
        "Write the summary here within 500-600 words."
      ],
      "metadata": {
        "id": "F6v_1wHtG2nS"
      }
    },
    {
      "cell_type": "markdown",
      "source": [
        "# **GitHub Link -**"
      ],
      "metadata": {
        "id": "w6K7xa23Elo4"
      }
    },
    {
      "cell_type": "markdown",
      "source": [
        "Provide your GitHub Link here.<br>\n",
        "https://github.com/Harshad1025?tab=repositories"
      ],
      "metadata": {
        "id": "h1o69JH3Eqqn"
      }
    },
    {
      "cell_type": "markdown",
      "source": [
        "# **Problem Statement**\n"
      ],
      "metadata": {
        "id": "yQaldy8SH6Dl"
      }
    },
    {
      "cell_type": "markdown",
      "source": [
        "**Orange S.A., formerly France Télécom S.A., is a French multinational telecommunications corporation. The Orange Telecom's Churn Dataset, consists of cleaned customer activity data (features), along with a churn label specifying whether a customer cancelled the subscription. Explore and analyze the data to discover key factors responsible for customer churn and come up with ways/recommendations to ensure customer retention.**"
      ],
      "metadata": {
        "id": "DpeJGUA3kjGy"
      }
    },
    {
      "cell_type": "markdown",
      "source": [
        "#### **Define Your Business Objective?**"
      ],
      "metadata": {
        "id": "PH-0ReGfmX4f"
      }
    },
    {
      "cell_type": "markdown",
      "source": [
        "The primary business objective for exploring and analyzing the Orange Telecom's Churn Dataset is to identify key factors influencing customer churn and to formulate strategic recommendations aimed at improving customer retention. The goal is to gain actionable insights from the dataset, understand the patterns, and propose effective measures to reduce churn rates."
      ],
      "metadata": {
        "id": "H7GnZO8K7bCp"
      }
    },
    {
      "cell_type": "markdown",
      "source": [
        "The ultimate goal is to foster a customer-centric approach that not only reduces churn but also enhances overall customer satisfaction. By implementing data-driven strategies, the aim is to create a more resilient and loyal customer base, positively impacting the long-term sustainability and profitability of Orange Telecom."
      ],
      "metadata": {
        "id": "PhDvGCAqmjP1"
      }
    },
    {
      "cell_type": "markdown",
      "source": [
        "# **General Guidelines** : -  "
      ],
      "metadata": {
        "id": "mDgbUHAGgjLW"
      }
    },
    {
      "cell_type": "markdown",
      "source": [
        "1.   Well-structured, formatted, and commented code is required.\n",
        "2.   Exception Handling, Production Grade Code & Deployment Ready Code will be a plus. Those students will be awarded some additional credits.\n",
        "     \n",
        "     The additional credits will have advantages over other students during Star Student selection.\n",
        "       \n",
        "             [ Note: - Deployment Ready Code is defined as, the whole .ipynb notebook should be executable in one go\n",
        "                       without a single error logged. ]\n",
        "\n",
        "3.   Each and every logic should have proper comments.\n",
        "4. You may add as many number of charts you want. Make Sure for each and every chart the following format should be answered.\n",
        "        \n",
        "\n",
        "```\n",
        "# Chart visualization code\n",
        "```\n",
        "            \n",
        "\n",
        "*   Why did you pick the specific chart?\n",
        "*   What is/are the insight(s) found from the chart?\n",
        "* Will the gained insights help creating a positive business impact?\n",
        "Are there any insights that lead to negative growth? Justify with specific reason.\n",
        "\n",
        "5. You have to create at least 20 logical & meaningful charts having important insights.\n",
        "\n",
        "\n",
        "[ Hints : - Do the Vizualization in  a structured way while following \"UBM\" Rule.\n",
        "\n",
        "U - Univariate Analysis,\n",
        "\n",
        "B - Bivariate Analysis (Numerical - Categorical, Numerical - Numerical, Categorical - Categorical)\n",
        "\n",
        "M - Multivariate Analysis\n",
        " ]\n",
        "\n",
        "\n",
        "\n"
      ],
      "metadata": {
        "id": "ZrxVaUj-hHfC"
      }
    },
    {
      "cell_type": "markdown",
      "source": [
        "# ***Let's Begin !***"
      ],
      "metadata": {
        "id": "O_i_v8NEhb9l"
      }
    },
    {
      "cell_type": "markdown",
      "source": [
        "## ***1. Know Your Data***"
      ],
      "metadata": {
        "id": "HhfV-JJviCcP"
      }
    },
    {
      "cell_type": "markdown",
      "source": [
        "### Import Libraries"
      ],
      "metadata": {
        "id": "Y3lxredqlCYt"
      }
    },
    {
      "cell_type": "code",
      "source": [
        "# Import Libraries\n",
        "\n",
        "\n",
        "import functools\n",
        "import os\n",
        "import time\n",
        "import warnings\n",
        "import datetime\n",
        "\n",
        "import numpy as np\n",
        "import pandas as pd\n",
        "import plotly.express as px\n",
        "import seaborn as sns\n",
        "from PIL import Image\n",
        "import matplotlib.pyplot as plt\n",
        "%matplotlib inline\n",
        "\n",
        "warnings.filterwarnings('ignore')\n",
        "\n",
        "\n",
        "pd.set_option('display.max_rows', 20)\n",
        "pd.set_option('display.max_columns', None)\n",
        "pd.set_option('display.width', 200)\n",
        "\n",
        "blue = '\\033[94m'\n",
        "bold = '\\033[1m'\n",
        "italics = '\\033[3m'\n",
        "underline = '\\033[4m'\n",
        "end = '\\033[0m'\n",
        "pretty_print_start = italics+bold+underline+blue\n",
        "pretty_print_end = italics+bold+underline+blue+end"
      ],
      "metadata": {
        "id": "M8Vqi-pPk-HR"
      },
      "execution_count": null,
      "outputs": []
    },
    {
      "cell_type": "markdown",
      "source": [
        "### Dataset Loading"
      ],
      "metadata": {
        "id": "3RnN4peoiCZX"
      }
    },
    {
      "cell_type": "code",
      "source": [
        "# Load Dataset\n",
        "data = pd.read_csv('/content/telecom_churn.csv')"
      ],
      "metadata": {
        "id": "4CkvbW_SlZ_R"
      },
      "execution_count": null,
      "outputs": []
    },
    {
      "cell_type": "markdown",
      "source": [
        "### Dataset First View"
      ],
      "metadata": {
        "id": "x71ZqKXriCWQ"
      }
    },
    {
      "cell_type": "code",
      "source": [
        "# Dataset First Look\n",
        "data.head()"
      ],
      "metadata": {
        "id": "LWNFOSvLl09H"
      },
      "execution_count": null,
      "outputs": []
    },
    {
      "cell_type": "code",
      "source": [
        "data.tail()"
      ],
      "metadata": {
        "id": "IpLOdmif9cMN"
      },
      "execution_count": null,
      "outputs": []
    },
    {
      "cell_type": "code",
      "source": [
        "data.sample(5)"
      ],
      "metadata": {
        "id": "AzMQ52ze9mrF"
      },
      "execution_count": null,
      "outputs": []
    },
    {
      "cell_type": "markdown",
      "source": [
        "### Dataset Rows & Columns count"
      ],
      "metadata": {
        "id": "7hBIi_osiCS2"
      }
    },
    {
      "cell_type": "code",
      "source": [
        "# Dataset Rows & Columns count\n",
        "print(f\"Dataset Rows count: {data.shape[0]}\")\n",
        "print(f\"Dataset Columns count: {data.shape[1]}\")"
      ],
      "metadata": {
        "id": "Kllu7SJgmLij"
      },
      "execution_count": null,
      "outputs": []
    },
    {
      "cell_type": "markdown",
      "source": [
        "### Dataset Information"
      ],
      "metadata": {
        "id": "JlHwYmJAmNHm"
      }
    },
    {
      "cell_type": "code",
      "source": [
        "# Dataset Info\n",
        "data.info()"
      ],
      "metadata": {
        "id": "e9hRXRi6meOf"
      },
      "execution_count": null,
      "outputs": []
    },
    {
      "cell_type": "markdown",
      "source": [
        "#### Duplicate Values"
      ],
      "metadata": {
        "id": "35m5QtbWiB9F"
      }
    },
    {
      "cell_type": "code",
      "source": [
        "# Dataset Duplicate Value Count\n",
        "data.duplicated().sum()"
      ],
      "metadata": {
        "id": "1sLdpKYkmox0"
      },
      "execution_count": null,
      "outputs": []
    },
    {
      "cell_type": "markdown",
      "source": [
        "#### Missing Values/Null Values"
      ],
      "metadata": {
        "id": "PoPl-ycgm1ru"
      }
    },
    {
      "cell_type": "code",
      "source": [
        "# Missing Values/Null Values Count\n",
        "data.isnull().sum()"
      ],
      "metadata": {
        "id": "GgHWkxvamxVg"
      },
      "execution_count": null,
      "outputs": []
    },
    {
      "cell_type": "code",
      "source": [
        "# Visualizing the missing values\n",
        "plt.figure(figsize=(20,10))\n",
        "sns.heatmap(data.isna(), cmap=\"viridis\", cbar_kws={'label': 'Missing Data'})\n",
        "plt.title('Visualization of Missing Values', fontsize=18)\n",
        "plt.show()"
      ],
      "metadata": {
        "id": "3q5wnI3om9sJ"
      },
      "execution_count": null,
      "outputs": []
    },
    {
      "cell_type": "markdown",
      "source": [
        "### What did you know about your dataset?"
      ],
      "metadata": {
        "id": "H0kj-8xxnORC"
      }
    },
    {
      "cell_type": "markdown",
      "source": [
        "\n",
        "\n",
        "1. **Size of the Dataset:**\n",
        "   - The dataset contains 3333 rows and 20 columns.\n",
        "\n",
        "2. **Columns and Data Types:**\n",
        "   - The columns include a mix of numerical and categorical data types.\n",
        "   - There are three main types of data in the dataset: `int64` (integer), `float64` (floating-point), `object` (string or categorical), and `bool` (boolean).\n",
        "\n",
        "3. **Columns and Their Meanings:**\n",
        "   - The dataset includes columns such as 'State,' 'Account length,' 'Area code,' 'International plan,' 'Voice mail plan,' 'Number vmail messages,' and various columns related to the total minutes, calls, and charges for day, evening, night, and international calls.\n",
        "\n",
        "4. **Target Variable:**\n",
        "   - The 'Churn' column appears to be the target variable, indicating whether a customer has canceled the subscription. It is of boolean type (`bool`), it has values of either `True` or `False`.\n",
        "\n",
        "5. **Memory Usage:**\n",
        "   - The memory usage of the dataset is approximately 498.1 KB, indicating the dataset is reasonably sized and should be manageable for analysis.\n",
        "\n",
        "6. **Potential Features:**\n",
        "   - There are features like 'International plan,' 'Voice mail plan,' and 'Customer service calls' that may be crucial for understanding customer behavior and predicting churn.\n",
        "\n",
        "7. **Data Quality:**\n",
        "   - No missing values are reported in the information, suggesting that the dataset is relatively clean. However, further exploration may reveal outliers or anomalies that need attention.\n",
        "\n"
      ],
      "metadata": {
        "id": "Kf2HJ2XLBcxE"
      }
    },
    {
      "cell_type": "markdown",
      "source": [
        "## ***2. Understanding Your Variables***"
      ],
      "metadata": {
        "id": "nA9Y7ga8ng1Z"
      }
    },
    {
      "cell_type": "code",
      "source": [
        "# display only columns that contains text to confirm if dtype is correct or not\n",
        "data.select_dtypes(include=['object','boolean']).columns.tolist()"
      ],
      "metadata": {
        "id": "yNcYzFcS21mg"
      },
      "execution_count": null,
      "outputs": []
    },
    {
      "cell_type": "code",
      "source": [
        "# desplay only columns that contains text to confirm if dtype is correct of not\n",
        "data.select_dtypes(include=['number']).columns.tolist()"
      ],
      "metadata": {
        "id": "mhnFpE4M27C5"
      },
      "execution_count": null,
      "outputs": []
    },
    {
      "cell_type": "code",
      "source": [
        "# Dataset Columns\n",
        "data.columns"
      ],
      "metadata": {
        "id": "j7xfkqrt5Ag5"
      },
      "execution_count": null,
      "outputs": []
    },
    {
      "cell_type": "code",
      "source": [
        "# Dataset Describe\n",
        "data.describe()"
      ],
      "metadata": {
        "id": "DnOaZdaE5Q5t"
      },
      "execution_count": null,
      "outputs": []
    },
    {
      "cell_type": "markdown",
      "source": [
        "In order to see statistics on non-numerical features, one has to explicitly indicate data types of interest in the include parameter."
      ],
      "metadata": {
        "id": "wN6gKyabZjaD"
      }
    },
    {
      "cell_type": "code",
      "source": [
        "# discriptive statistics on non-numerical features\n",
        "data.describe(include=[\"object\", \"bool\"])"
      ],
      "metadata": {
        "id": "Yz3kE3m83AFD"
      },
      "execution_count": null,
      "outputs": []
    },
    {
      "cell_type": "markdown",
      "source": [
        "### Variables Description"
      ],
      "metadata": {
        "id": "PBTbrJXOngz2"
      }
    },
    {
      "cell_type": "markdown",
      "source": [
        "\n",
        "\n",
        "1. **State (Object):**\n",
        "   - The state in which the customer resides.\n",
        "\n",
        "2. **Account length (Integer):**\n",
        "   - The number of days the customer has been an account holder.\n",
        "\n",
        "3. **Area code (Integer):**\n",
        "   - The three-digit area code corresponding to the customer's phone number.\n",
        "\n",
        "4. **International plan (Object):**\n",
        "   - Whether the customer has an international calling plan (Yes/No).\n",
        "\n",
        "5. **Voice mail plan (Object):**\n",
        "   - Whether the customer has a voice mail plan (Yes/No).\n",
        "\n",
        "6. **Number vmail messages (Integer):**\n",
        "   - The number of voice mail messages received by the customer.\n",
        "\n",
        "7. **Total day minutes (Float):**\n",
        "   - The total number of minutes the customer used during the day.\n",
        "\n",
        "8. **Total day calls (Integer):**\n",
        "   - The total number of calls made by the customer during the day.\n",
        "\n",
        "9. **Total day charge (Float):**\n",
        "   - The total charge incurred by the customer for day calls.\n",
        "\n",
        "10. **Total eve minutes (Float):**\n",
        "    - The total number of minutes the customer used during the evening.\n",
        "\n",
        "11. **Total eve calls (Integer):**\n",
        "    - The total number of calls made by the customer during the evening.\n",
        "\n",
        "12. **Total eve charge (Float):**\n",
        "    - The total charge incurred by the customer for evening calls.\n",
        "\n",
        "13. **Total night minutes (Float):**\n",
        "    - The total number of minutes the customer used during the night.\n",
        "\n",
        "14. **Total night calls (Integer):**\n",
        "    - The total number of calls made by the customer during the night.\n",
        "\n",
        "15. **Total night charge (Float):**\n",
        "    - The total charge incurred by the customer for night calls.\n",
        "\n",
        "16. **Total intl minutes (Float):**\n",
        "    - The total number of international minutes used by the customer.\n",
        "\n",
        "17. **Total intl calls (Integer):**\n",
        "    - The total number of international calls made by the customer.\n",
        "\n",
        "18. **Total intl charge (Float):**\n",
        "    - The total charge incurred by the customer for international calls.\n",
        "\n",
        "19. **Customer service calls (Integer):**\n",
        "    - The number of customer service calls made by the customer.\n",
        "\n",
        "20. **Churn (Boolean):**\n",
        "    - The target variable indicating whether the customer has canceled the subscription (True/False).\n",
        "\n"
      ],
      "metadata": {
        "id": "aJV4KIxSnxay"
      }
    },
    {
      "cell_type": "markdown",
      "source": [
        "### Check Unique Values for each variable."
      ],
      "metadata": {
        "id": "u3PMJOP6ngxN"
      }
    },
    {
      "cell_type": "code",
      "source": [
        "print(\"Number of unique values \")\n",
        "for column in data.columns:\n",
        "    unique_values = len(data[column].unique())\n",
        "    print(f\"{column}: {unique_values}\")"
      ],
      "metadata": {
        "id": "QnBQ7Eukbihn"
      },
      "execution_count": null,
      "outputs": []
    },
    {
      "cell_type": "code",
      "source": [
        "data.nunique()"
      ],
      "metadata": {
        "id": "DhEt-d3KDeiC"
      },
      "execution_count": null,
      "outputs": []
    },
    {
      "cell_type": "code",
      "source": [
        "# show all unique values for categorical columns\n",
        "for col in data.select_dtypes(include=['object','boolean']):\n",
        "    print(f\"Feature name : {col}'\\n' values: {data[col].unique()}'\\n'\")"
      ],
      "metadata": {
        "id": "Oq31lReN3yd3"
      },
      "execution_count": null,
      "outputs": []
    },
    {
      "cell_type": "code",
      "source": [
        "columns_to_exclude=[\n",
        "    'Account length',\n",
        "    'Number vmail messages',\n",
        "    'Total day minutes',\n",
        "    'Total day calls',\n",
        "    'Total day charge',\n",
        "    'Total eve minutes',\n",
        "    'Total eve calls',\n",
        "    'Total eve charge',\n",
        "    'Total night minutes',\n",
        "    'Total night calls',\n",
        "    'Total night charge' ,\n",
        "    'Total intl minutes',\n",
        "    'Total intl calls',\n",
        "    'Total intl charge']"
      ],
      "metadata": {
        "id": "PaDj8xx3EYGE"
      },
      "execution_count": null,
      "outputs": []
    },
    {
      "cell_type": "code",
      "source": [
        "# Check Unique Values for each variable\n",
        "for column in data.columns:\n",
        "    if column not in columns_to_exclude:\n",
        "        unique_values = data[column].unique()\n",
        "        print(f\"Unique values for {column}:\", unique_values)\n",
        "        print(\"-\" * 50)\n",
        "\n"
      ],
      "metadata": {
        "id": "zms12Yq5n-jE"
      },
      "execution_count": null,
      "outputs": []
    },
    {
      "cell_type": "markdown",
      "source": [
        "## 3. ***Data Wrangling***"
      ],
      "metadata": {
        "id": "dauF4eBmngu3"
      }
    },
    {
      "cell_type": "markdown",
      "source": [
        "### Data Wrangling Code"
      ],
      "metadata": {
        "id": "bKJF3rekwFvQ"
      }
    },
    {
      "cell_type": "code",
      "source": [
        "# Write your code to make your dataset analysis ready.\n",
        "\n",
        "# created a copy of original dataframe\n",
        "df = data.copy()"
      ],
      "metadata": {
        "id": "wk-9a2fpoLcV"
      },
      "execution_count": null,
      "outputs": []
    },
    {
      "cell_type": "code",
      "source": [
        "# 1) corrected column names\n",
        "df.columns = df.columns.str.strip().str.lower().str.replace(\" \",\"_\" )"
      ],
      "metadata": {
        "id": "Kq6kEp1cGoKN"
      },
      "execution_count": null,
      "outputs": []
    },
    {
      "cell_type": "code",
      "source": [
        "df.columns\n"
      ],
      "metadata": {
        "id": "VLdI5zZy9Dtm"
      },
      "execution_count": null,
      "outputs": []
    },
    {
      "cell_type": "code",
      "source": [
        "# 2) adding new columns\n",
        "\n",
        "# #creating total [calls-minuts-charge] without considering international calls\n",
        "# df[\"no_inter_total_calls\"]=df['total_day_calls']+df['total_eve_calls']+df['total_night_calls']\n",
        "# df[\"no_inter_total_revenue\"]=df['total_day_charge']+df['total_eve_charge']+df['total_night_charge']\n",
        "# df[\"no_inter_total_minutes\"]=df['total_day_minutes']+df['total_eve_minutes']+df['total_night_minutes']\n",
        "\n",
        "#creating total columns with internationl [calls-minuts-charge]\n",
        "# df[\"total_calls\"]=df['total_day_calls']+df['total_eve_calls']+df['total_night_calls']+df['total_intl_calls']\n",
        "# df[\"total_revenue\"]=df['total_day_charge']+df['total_eve_charge']+df['total_night_charge']+df['total_intl_charge']\n",
        "# df[\"total_minutes\"]=df['total_day_minutes']+df['total_eve_minutes']+df['total_night_minutes']+df['total_intl_minutes']"
      ],
      "metadata": {
        "id": "typkLyzDIeyx"
      },
      "execution_count": null,
      "outputs": []
    },
    {
      "cell_type": "code",
      "source": [
        "# 3) Label encoding to  international_plans, voice_mail_plan, churn columns\n",
        "df['international_plan'] = df['international_plan'].replace({'Yes': 1, 'No': 0})\n",
        "df['voice_mail_plan'] = df['voice_mail_plan'].replace({'Yes': 1, 'No': 0})\n",
        "df['churn'] = df['churn'].replace({True: 1, False: 0})\n"
      ],
      "metadata": {
        "id": "ALZWQJ8nJhUK"
      },
      "execution_count": null,
      "outputs": []
    },
    {
      "cell_type": "code",
      "source": [
        "# converted from int data type to category [area_code column]\n",
        "df['area_code'] =df['area_code'].astype('category')"
      ],
      "metadata": {
        "id": "-89ls2oND_Re"
      },
      "execution_count": null,
      "outputs": []
    },
    {
      "cell_type": "code",
      "source": [
        "#  4) full state names\n",
        "state_dict={\n",
        "    'KS': 'Kansas',\n",
        "    'OH': 'Ohio',\n",
        "    'NJ': 'New Jersey',\n",
        "    'OK': 'Oklahoma',\n",
        "    'AL': 'Alabama',\n",
        "    'MA': 'Massachusetts',\n",
        "    'MO': 'Missouri',\n",
        "    'LA': 'Louisiana',\n",
        "    'WV': 'West Virginia',\n",
        "    'IN': 'Indiana',\n",
        "    'RI': 'Rhode Island',\n",
        "    'IA': 'Iowa',\n",
        "    'MT': 'Montana',\n",
        "    'NY': 'New York',\n",
        "    'ID': 'Idaho',\n",
        "    'VT': 'Vermont',\n",
        "    'VA': 'Virginia',\n",
        "    'TX': 'Texas',\n",
        "    'FL': 'Florida',\n",
        "    'CO': 'Colorado',\n",
        "    'AZ': 'Arizona',\n",
        "    'SC': 'South Carolina',\n",
        "    'NE': 'Nebraska',\n",
        "    'WY': 'Wyoming',\n",
        "    'HI': 'Hawaii',\n",
        "    'IL': 'Illinois',\n",
        "    'NH': 'New Hampshire',\n",
        "    'GA': 'Georgia',\n",
        "    'AK': 'Alaska',\n",
        "    'MD': 'Maryland',\n",
        "    'AR': 'Arkansas',\n",
        "    'WI': 'Wisconsin',\n",
        "    'OR': 'Oregon',\n",
        "    'MI': 'Michigan',\n",
        "    'DE': 'Delaware',\n",
        "    'UT': 'Utah',\n",
        "    'CA': 'California',\n",
        "    'MN': 'Minnesota',\n",
        "    'SD': 'South Dakota',\n",
        "    'NC': 'North Carolina',\n",
        "    'WA': 'Washington',\n",
        "    'NM': 'New Mexico',\n",
        "    'NV': 'Nevada',\n",
        "    'DC': 'District of Columbia',\n",
        "    'KY': 'Kentucky',\n",
        "    'ME': 'Maine',\n",
        "    'MS': 'Mississippi',\n",
        "    'TN': 'Tennessee',\n",
        "    'PA': 'Pennsylvania',\n",
        "    'CT': 'Connecticut',\n",
        "    'ND': 'North Dakota'\n",
        "    }\n",
        "\n",
        "df['state'] = df['state'].replace(state_dict)\n"
      ],
      "metadata": {
        "id": "FkWuDx9KK1ko"
      },
      "execution_count": null,
      "outputs": []
    },
    {
      "cell_type": "code",
      "source": [
        "df.head()"
      ],
      "metadata": {
        "id": "8Zz70F4vIN8X"
      },
      "execution_count": null,
      "outputs": []
    },
    {
      "cell_type": "code",
      "source": [
        "df.shape"
      ],
      "metadata": {
        "id": "FY-ObAlcNEhm"
      },
      "execution_count": null,
      "outputs": []
    },
    {
      "cell_type": "code",
      "source": [
        "df.info()"
      ],
      "metadata": {
        "id": "BTqkNp52NHXX"
      },
      "execution_count": null,
      "outputs": []
    },
    {
      "cell_type": "markdown",
      "source": [
        "### What all manipulations have you done and insights you found?"
      ],
      "metadata": {
        "id": "MSa1f5Uengrz"
      }
    },
    {
      "cell_type": "markdown",
      "source": [
        "1) corrected column names <br>\n",
        "\n",
        "2) added new columns <br>\n",
        "\n",
        "3) Label encoding to  international_plans, voice_mail_plan, churn columns <br>\n",
        "\n",
        "4) Area code should be a categorical column <br>\n",
        "\n",
        "5)  Full state names are more readable and intuitive for individuals who may not be familiar with state abbreviations. so using full names."
      ],
      "metadata": {
        "id": "LbyXE7I1olp8"
      }
    },
    {
      "cell_type": "markdown",
      "source": [
        "### Analysis"
      ],
      "metadata": {
        "id": "TKY-hn1xCbc3"
      }
    },
    {
      "cell_type": "markdown",
      "source": [
        "#### cost per min for non international calls"
      ],
      "metadata": {
        "id": "izGCWwdvCmOD"
      }
    },
    {
      "cell_type": "code",
      "source": [
        "# Define the total cost associated with non-international minutes\n",
        "# total_cost = df[\"no_inter_total_revenue\"].sum()\n",
        "\n",
        "# # Convert total duration to minutes\n",
        "# total_duration_minutes = df[\"no_inter_total_minutes\"].sum()\n",
        "\n",
        "# # Calculate the cost per minute\n",
        "# cost_per_minute = total_cost / total_duration_minutes\n",
        "\n",
        "# # Print the result\n",
        "# print(f\"Cost per Minute for Non-International Minutes: ${cost_per_minute:.2f} per minute\")"
      ],
      "metadata": {
        "id": "J58tj2Y58pw5"
      },
      "execution_count": null,
      "outputs": []
    },
    {
      "cell_type": "markdown",
      "source": [
        " #### Revenue is generated without international calls “charge”?"
      ],
      "metadata": {
        "id": "kDiT8vGUC54A"
      }
    },
    {
      "cell_type": "code",
      "source": [
        "# revenue_without_inter = df[\"no_inter_total_revenue\"].sum()\n",
        "# revenue_without_inter"
      ],
      "metadata": {
        "id": "M9vGbgkTCtc8"
      },
      "execution_count": null,
      "outputs": []
    },
    {
      "cell_type": "markdown",
      "source": [
        " #### Revenue is generated with international calls “charge”?"
      ],
      "metadata": {
        "id": "KPuiYyBpDHHX"
      }
    },
    {
      "cell_type": "code",
      "source": [
        "# total_revenue = df[\"total_revenue\"].sum()\n",
        "# total_revenue"
      ],
      "metadata": {
        "id": "q1bzIKhYDAzo"
      },
      "execution_count": null,
      "outputs": []
    },
    {
      "cell_type": "markdown",
      "source": [
        "How much profit generated from international calls from people who have international plan?\n",
        "\n",
        "also how much revenue generated from international calls from people who don’t have international plan?"
      ],
      "metadata": {
        "id": "_p9jcCmoFN8E"
      }
    },
    {
      "cell_type": "code",
      "source": [
        "# # Calculate total cost of international calls for people with an international plan\n",
        "# total_cost_intl_plan = df.loc[df['international_plan'] == 'Yes', 'total_intl_charge'].sum()\n",
        "\n",
        "# # Calculate total cost of international calls for people without an international plan\n",
        "# total_cost_no_intl_plan = df.loc[df['international_plan'] == 'No', 'total_intl_charge'].sum()\n",
        "\n",
        "# print(f\"Profit generated from international calls for people with international plan: {total_cost_intl_plan:.2f}\")\n",
        "# print(f\"Revenue generated from international calls for people without international plan: {total_cost_no_intl_plan:.2f}\")"
      ],
      "metadata": {
        "id": "W1SoE5iHFPTs"
      },
      "execution_count": null,
      "outputs": []
    },
    {
      "cell_type": "markdown",
      "source": [
        "**it looks that cost per minute for international calls doesn't chage for people with and without the plan**"
      ],
      "metadata": {
        "id": "KgdFwerWFoVQ"
      }
    },
    {
      "cell_type": "code",
      "source": [
        "# # Calculate total number of international minutes for people with an international plan\n",
        "# total_minutes_intl_plan = df.loc[df['international_plan'] == 'Yes', 'total_intl_minutes'].sum()\n",
        "\n",
        "# # Calculate total number of international minutes for people without an international plan\n",
        "# total_minutes_no_intl_plan = df.loc[df['international_plan'] == 'No', 'total_intl_minutes'].sum()\n",
        "\n",
        "# # Calculate cost per minute for people with an international plan\n",
        "# cost_per_minute_intl_plan = total_cost_intl_plan / total_minutes_intl_plan\n",
        "\n",
        "# # Calculate cost per minute for people without an international plan\n",
        "# cost_per_minute_no_intl_plan = total_cost_no_intl_plan / total_minutes_no_intl_plan\n",
        "\n",
        "# print(f\"Cost per minute for people with an international plan: ${cost_per_minute_intl_plan:.2f}\")\n",
        "# print(f\"Cost per minute for people without an international plan: ${cost_per_minute_no_intl_plan:.2f}\")"
      ],
      "metadata": {
        "id": "AbaxKvDUFovl"
      },
      "execution_count": null,
      "outputs": []
    },
    {
      "cell_type": "markdown",
      "source": [
        "## ***4. Data Vizualization, Storytelling & Experimenting with charts : Understand the relationships between variables***"
      ],
      "metadata": {
        "id": "GF8Ens_Soomf"
      }
    },
    {
      "cell_type": "markdown",
      "source": [
        "# **Univariate analysis**"
      ],
      "metadata": {
        "id": "tfeNzPNZHR1w"
      }
    },
    {
      "cell_type": "code",
      "source": [
        "numerical_columns = df.select_dtypes(include=['number']).columns.tolist()\n",
        "categorical_columns = df.select_dtypes(exclude=['number']).columns.tolist()\n",
        "\n",
        "# Print the lists of numerical and categorical columns\n",
        "print(\"Numerical Columns:\", numerical_columns)\n",
        "print(\"Categorical Columns:\", categorical_columns)"
      ],
      "metadata": {
        "id": "ChLkkDOKHxr6"
      },
      "execution_count": null,
      "outputs": []
    },
    {
      "cell_type": "markdown",
      "source": [
        "## **Categorical columns**"
      ],
      "metadata": {
        "id": "tRLfwteUHcc5"
      }
    },
    {
      "cell_type": "code",
      "source": [
        "categorical_col = [ 'area_code', 'international_plan', 'voice_mail_plan', 'churn']\n",
        "total_count = len(df)\n",
        "\n",
        "for column in categorical_columns:\n",
        "    print(f\"Column: {column}\")\n",
        "    value_counts = df[column].value_counts()\n",
        "    percentage_values = (value_counts / total_count) * 100\n",
        "\n",
        "    for value, count in value_counts.items():\n",
        "        percentage = percentage_values[value]\n",
        "        print(f\"{value}: Count = {count}, Percentage = {percentage:.2f}%\")\n",
        "\n",
        "    print(\"\\n\")"
      ],
      "metadata": {
        "id": "Ps4lYnQ3EiF5"
      },
      "execution_count": null,
      "outputs": []
    },
    {
      "cell_type": "markdown",
      "source": [
        "### 1) Count plot"
      ],
      "metadata": {
        "id": "SuYhuRk3gX9Q"
      }
    },
    {
      "cell_type": "code",
      "source": [
        "# Distribution of categorical columns using count plots\n",
        "for column in categorical_col:\n",
        "    plt.figure(figsize=(9, 7))\n",
        "    ax = sns.countplot(data=df, x=column, palette='Set2')\n",
        "\n",
        "    # Adding annotations on top of the bars\n",
        "    for p in ax.patches:\n",
        "        ax.annotate(f'{p.get_height()}', (p.get_x() + p.get_width() / 2., p.get_height()),\n",
        "                    ha='center', va='center', xytext=(0, 10), textcoords='offset points')\n",
        "\n",
        "    plt.xlabel(column)\n",
        "    plt.ylabel('Count')\n",
        "    plt.title(f'Count Plot of {column}')\n",
        "    plt.xticks(rotation=90)\n",
        "\n",
        "\n",
        "    # Show the plot\n",
        "    plt.show()\n",
        "\n",
        "    # Close the plot to avoid overlapping when creating the next plot\n",
        "    plt.close()\n"
      ],
      "metadata": {
        "id": "-2m__42QLmd8"
      },
      "execution_count": null,
      "outputs": []
    },
    {
      "cell_type": "markdown",
      "source": [
        "for better visuals created separate plots for each feature"
      ],
      "metadata": {
        "id": "FA_YImf1L0Gv"
      }
    },
    {
      "cell_type": "code",
      "source": [
        "\n",
        "plt.figure(figsize=(5, 4))\n",
        "sns.countplot(data=df, x='area_code', palette='Set2')\n",
        "plt.xlabel('Area Code')\n",
        "plt.ylabel('Count')\n",
        "plt.title(f'Count Plot of area_code')\n",
        "plt.xticks(rotation=90)\n",
        "plt.show()\n",
        "plt.close()"
      ],
      "metadata": {
        "id": "1ikpf3E1I82s"
      },
      "execution_count": null,
      "outputs": []
    },
    {
      "cell_type": "code",
      "source": [],
      "metadata": {
        "id": "ifi2iVC28bgt"
      },
      "execution_count": null,
      "outputs": []
    },
    {
      "cell_type": "code",
      "source": [
        "plt.figure(figsize=(5, 4))\n",
        "sns.countplot(data=df, x='international_plan', palette='Set2')\n",
        "plt.xlabel('international_plan')\n",
        "plt.ylabel('Count')\n",
        "plt.title(f'Count Plot of international_plan')\n",
        "plt.xticks(rotation=90)\n",
        "plt.show()\n",
        "plt.close()"
      ],
      "metadata": {
        "id": "2KRA2CxmNyrC"
      },
      "execution_count": null,
      "outputs": []
    },
    {
      "cell_type": "code",
      "source": [
        "plt.figure(figsize=(5, 4))\n",
        "sns.countplot(data=df, x=column, palette='Set2')\n",
        "plt.xlabel('voice_mail_plan')\n",
        "plt.ylabel('Count')\n",
        "plt.title(f'Count Plot of voice_mail_plan')\n",
        "plt.xticks(rotation=90)\n",
        "plt.show()\n",
        "plt.close()"
      ],
      "metadata": {
        "id": "QcJWlrhmOy9u"
      },
      "execution_count": null,
      "outputs": []
    },
    {
      "cell_type": "code",
      "source": [
        "plt.figure(figsize=(10, 5))\n",
        "sns.countplot(data=df, x='state')\n",
        "plt.xlabel('state')\n",
        "plt.ylabel('Count')\n",
        "plt.title('Count Plot of state')\n",
        "plt.xticks(rotation=90)\n",
        "plt.show()\n",
        "plt.close()"
      ],
      "metadata": {
        "id": "GZlygqtHKLE7"
      },
      "execution_count": null,
      "outputs": []
    },
    {
      "cell_type": "markdown",
      "source": [
        "##### 1. Why did you pick the specific chart?"
      ],
      "metadata": {
        "id": "qudqov8MQL7c"
      }
    },
    {
      "cell_type": "markdown",
      "source": [
        "**countplot** is suitable for visualizing categorical data as it efficiently displays the count of each category, offering a quick overview of the distribution of categorical variables."
      ],
      "metadata": {
        "id": "kP8ml9pwQhR0"
      }
    },
    {
      "cell_type": "markdown",
      "source": [
        "##### 2. What is/are the insight(s) found from the chart?"
      ],
      "metadata": {
        "id": "Gr-tsH9tQL7d"
      }
    },
    {
      "cell_type": "markdown",
      "source": [
        "\n",
        "\n",
        "1) 1st chart reveals a concentration of users in area code 415, with approximately equal numbers in area codes 510 and 408.\n",
        "\n",
        "2) 2nd chart illustrates that the majority of our users, around 90%, do not have an international plan, indicating a low adoption of this service among our customer base.\n",
        "\n",
        "3) According to the 3rd chart, approximately 27.66% of our users have opted for the voicemail plan, suggesting a moderate level of interest in this feature.\n",
        "\n",
        "4) 4rth chart highlights that West Virginia has the highest customer count, contrasting with California, which has the lowest number of customers compared to other states."
      ],
      "metadata": {
        "id": "FZU71O0dRseG"
      }
    },
    {
      "cell_type": "markdown",
      "source": [
        "##### 3. Will the gained insights help creating a positive business impact?\n",
        "\n",
        "##### Are there any insights that lead to negative growth? Justify with specific reason."
      ],
      "metadata": {
        "id": "P-bKU3uRQL7d"
      }
    },
    {
      "cell_type": "markdown",
      "source": [
        "1) **Concentration in Area Code 415:**\n",
        "   - *Positive Impact:* Enables targeted marketing and resource allocation.\n",
        "   - *Negative Growth:* Unlikely, as concentrating resources strategically can be positive.\n",
        "\n",
        "2) **Low Adoption of International Plan:**\n",
        "   - *Positive Impact:* Identifies opportunities for promoting international plans.\n",
        "   - *Negative Growth:* Possible if unaddressed, as it indicates missed revenue opportunities.\n",
        "\n",
        "3) **Moderate Voicemail Plan Adoption:**\n",
        "   - *Positive Impact:* Allows for targeted promotions and improved customer engagement.\n",
        "   - *Negative Growth:* Potential if adoption remains stagnant and the plan is a significant revenue driver.\n",
        "\n",
        "4) **State-wise Customer Distribution:**\n",
        "   - *Positive Impact:* Informs tailored strategies for marketing and service improvements.\n",
        "   - *Negative Growth:* Unlikely from the insight itself, but not addressing low customer counts in certain states could hinder business expansion."
      ],
      "metadata": {
        "id": "PYw1KAlLc5NR"
      }
    },
    {
      "cell_type": "markdown",
      "source": [
        "### 2) Donut Chart"
      ],
      "metadata": {
        "id": "Qzkxg6wGgMRO"
      }
    },
    {
      "cell_type": "code",
      "source": [
        "churn_percentage = (df['churn'].value_counts() / df.shape[0] * 100).round(2).astype(str) + '%'\n",
        "churn_percentage"
      ],
      "metadata": {
        "id": "dfvxW1ObbWk_"
      },
      "execution_count": null,
      "outputs": []
    },
    {
      "cell_type": "code",
      "source": [
        "data = df['churn'].value_counts()\n",
        "\n",
        "plt.pie(data.values, labels=['Not Churned', 'Churned'], autopct='%1.1f%%', startangle=90)\n",
        "centre_circle = plt.Circle((0, 0), 0.50, fc='white')\n",
        "fig = plt.gcf()\n",
        "fig.gca().add_artist(centre_circle)\n",
        "\n",
        "plt.axis('equal')\n",
        "plt.legend(loc='upper left')\n",
        "plt.title('Churn Distribution (Donut Chart)')\n",
        "plt.show()\n",
        "\n"
      ],
      "metadata": {
        "id": "Mv7aZWrla1j9"
      },
      "execution_count": null,
      "outputs": []
    },
    {
      "cell_type": "markdown",
      "source": [
        "##### 1. Why did you pick the specific chart?"
      ],
      "metadata": {
        "id": "dcB1bMN8c3vf"
      }
    },
    {
      "cell_type": "markdown",
      "source": [
        "I chose a donut chart to visually represent the Churn Distribution due to its aesthetic appeal and clear depiction of the proportion of Churned and Not Churned categories. The central hole enhances visual engagement while maintaining data clarity, making it an effective choice for this categorical analysis."
      ],
      "metadata": {
        "id": "EPo_FUpxc3vg"
      }
    },
    {
      "cell_type": "markdown",
      "source": [
        "##### 2. What is/are the insight(s) found from the chart?"
      ],
      "metadata": {
        "id": "msIC1CYbc3vh"
      }
    },
    {
      "cell_type": "markdown",
      "source": [
        "The donut chart provides a visual insight into the churn distribution, revealing that approximately 14.5% of customers have churned. This indicates the proportion of customers who ended their subscription, giving a quick and clear understanding of the overall churn rate in the dataset."
      ],
      "metadata": {
        "id": "1Ot8zznXc3vh"
      }
    },
    {
      "cell_type": "markdown",
      "source": [
        "##### 3. Will the gained insights help creating a positive business impact?\n",
        "Are there any insights that lead to negative growth? Justify with specific reason."
      ],
      "metadata": {
        "id": "WYl2myO6c3vh"
      }
    },
    {
      "cell_type": "markdown",
      "source": [
        "\n",
        "- *Positive Impact:* The pie chart's insight into a 14.5% churn rate provides a quick and clear understanding of the overall churn in the dataset. This information can guide strategic efforts to improve customer retention and loyalty.\n",
        "- *Negative Growth:* If the churn rate is considered high for the industry or business standards, it may lead to negative growth, indicating a potential problem in customer satisfaction and retention strategies.\n",
        "\n",
        "The churn distribution can positively impact business decisions by highlighting the need for effective retention strategies. Conversely, a high churn rate may signal negative growth potential if not addressed promptly."
      ],
      "metadata": {
        "id": "tEp0qy2tc3vi"
      }
    },
    {
      "cell_type": "markdown",
      "source": [
        "## **Numerical data**"
      ],
      "metadata": {
        "id": "R_JXlIGef3Al"
      }
    },
    {
      "cell_type": "code",
      "source": [
        "numerical_columns"
      ],
      "metadata": {
        "id": "A3wVG49ghBTU"
      },
      "execution_count": null,
      "outputs": []
    },
    {
      "cell_type": "markdown",
      "source": [
        "### 3) Box plot"
      ],
      "metadata": {
        "id": "AJhzwS4whU4s"
      }
    },
    {
      "cell_type": "markdown",
      "source": [
        "#### a)"
      ],
      "metadata": {
        "id": "ZtMCuiUJtF-4"
      }
    },
    {
      "cell_type": "code",
      "source": [
        "plt.figure(figsize=(14, 6))\n",
        "\n",
        "plt.subplot(1, 3, 1)\n",
        "sns.boxplot(data=df, y='total_day_calls', color='lightblue')\n",
        "plt.ylabel('Total Day Calls', fontsize=12)\n",
        "plt.ylim(bottom=0)\n",
        "# plt.title('Boxplot of Total Day Calls')\n",
        "\n",
        "plt.subplot(1, 3, 2)\n",
        "sns.boxplot(data=df, y='total_eve_calls', color='lightgreen')\n",
        "plt.ylabel('Total Eve Calls', fontsize=12)\n",
        "plt.ylim(bottom=0)\n",
        "# plt.title('Boxplot of Total Eve Calls')\n",
        "\n",
        "plt.subplot(1, 3, 3)\n",
        "sns.boxplot(data=df, y='total_night_calls', color='orange')\n",
        "plt.ylabel('Total Night Calls', fontsize=12)\n",
        "plt.ylim(bottom=0)\n",
        "# plt.title('Boxplot of Total Night Calls')\n",
        "\n",
        "plt.suptitle('Call Distribution Across Different Times of Day', fontsize=16)  # Overall title\n",
        "\n",
        "plt.subplots_adjust(wspace=0.4)\n",
        "# plt.grid()\n",
        "plt.show()\n",
        "\n"
      ],
      "metadata": {
        "id": "P_DoPtCUhaYH"
      },
      "execution_count": null,
      "outputs": []
    },
    {
      "cell_type": "markdown",
      "source": [
        "##### 1. Why did you pick the specific chart?"
      ],
      "metadata": {
        "id": "t6dVpIINYklI"
      }
    },
    {
      "cell_type": "markdown",
      "source": [
        "I chose boxplots for 'total_day_calls,' 'total_eve_calls,' and 'total_night_calls' because they effectively illustrate the distribution of numerical data, showcasing key statistics like median and quartiles. This visualization choice allows for a clear comparison of call distributions across different times of the day. Boxplots are particularly suitable for displaying variations in multiple categories, making it easy to observe and compare data distribution characteristics."
      ],
      "metadata": {
        "id": "5aaW0BYyYklI"
      }
    },
    {
      "cell_type": "markdown",
      "source": [
        "##### 2. What is/are the insight(s) found from the chart?"
      ],
      "metadata": {
        "id": "ijmpgYnKYklI"
      }
    },
    {
      "cell_type": "markdown",
      "source": [
        "From above plots can see that more calls are made in the morning with respect to the evening and night when it is the lowest"
      ],
      "metadata": {
        "id": "PSx9atu2YklI"
      }
    },
    {
      "cell_type": "markdown",
      "source": [
        "##### 3. Will the gained insights help creating a positive business impact?\n",
        "Are there any insights that lead to negative growth? Justify with specific reason."
      ],
      "metadata": {
        "id": "-JiQyfWJYklI"
      }
    },
    {
      "cell_type": "markdown",
      "source": [
        "**Morning Call Peak:** The graph shows that more calls happen in the morning compared to the evening and night, peaking during those early hours.\n",
        "\n",
        "**Impact on Business:**\n",
        "- *Positive Impact:* Knowing about the morning peak helps the business better plan staff schedules and promotions, making customers happier.\n",
        "\n",
        "- *Negative Growth:* Ignoring the busy morning time might mean missing chances to make customers happier and could lead to slower growth for the business."
      ],
      "metadata": {
        "id": "BcBbebzrYklV"
      }
    },
    {
      "cell_type": "markdown",
      "source": [
        "#### b)\n"
      ],
      "metadata": {
        "id": "MZOkDNBipydF"
      }
    },
    {
      "cell_type": "code",
      "source": [
        "plt.figure(figsize=(14, 6))\n",
        "\n",
        "plt.subplot(1, 3, 1)\n",
        "sns.boxplot(data=df, y='total_day_minutes', color='lightblue')\n",
        "plt.ylabel('Total Day Minutes', fontsize=12)\n",
        "plt.ylim(bottom=0)\n",
        "\n",
        "\n",
        "plt.subplot(1, 3, 2)\n",
        "sns.boxplot(data=df, y='total_eve_minutes', color='lightgreen')\n",
        "plt.ylabel('Total Eve Minutes', fontsize=12)\n",
        "plt.ylim(bottom=0)\n",
        "\n",
        "\n",
        "plt.subplot(1, 3, 3)\n",
        "sns.boxplot(data=df, y='total_night_minutes', color='orange')\n",
        "plt.ylabel('Total Night Minutes', fontsize=12)\n",
        "plt.ylim(bottom=0)\n",
        "\n",
        "plt.suptitle('Call Duration Distribution Across Different Times of Day', fontsize=16)  # Overall title\n",
        "\n",
        "plt.subplots_adjust(wspace=0.4)\n",
        "\n",
        "plt.show()\n"
      ],
      "metadata": {
        "id": "zZzUnwrwlf8H"
      },
      "execution_count": null,
      "outputs": []
    },
    {
      "cell_type": "markdown",
      "source": [
        "##### 1. Why did you pick the specific chart?"
      ],
      "metadata": {
        "id": "fge-S5ZAYoAp"
      }
    },
    {
      "cell_type": "markdown",
      "source": [
        "I chose boxplots for 'total_day_minutes,' 'total_eve_minutes,' and 'total_night_minutes' because they effectively showcase the distribution of call duration, highlighting key statistics like median and quartiles. This visualization choice allows for a clear comparison of call duration across different times of the day. Boxplots are especially suitable for revealing variations in multiple categories, providing a concise summary of the data distribution."
      ],
      "metadata": {
        "id": "5dBItgRVYoAp"
      }
    },
    {
      "cell_type": "markdown",
      "source": [
        "##### 2. What is/are the insight(s) found from the chart?"
      ],
      "metadata": {
        "id": "85gYPyotYoAp"
      }
    },
    {
      "cell_type": "markdown",
      "source": [
        "* Despite having more calls made during the day, we can see that users do not spend longer time on the calls in the evening.\n",
        "* Users tend to talk for longer time in the evening than other times."
      ],
      "metadata": {
        "id": "4jstXR6OYoAp"
      }
    },
    {
      "cell_type": "markdown",
      "source": [
        "##### 3. Will the gained insights help creating a positive business impact?\n",
        "Are there any insights that lead to negative growth? Justify with specific reason."
      ],
      "metadata": {
        "id": "RoGjAbkUYoAp"
      }
    },
    {
      "cell_type": "markdown",
      "source": [
        "**Morning Call Duration:** Despite more calls in the morning, users do not spend longer on calls during this time.\n",
        "\n",
        "**Evening Call Duration:** Users tend to talk for a longer time in the evening compared to other times.\n",
        "\n",
        "**Impact on Business:**\n",
        "- **Positive Impact:** Recognizing that users talk longer in the evening can inform targeted promotions or service enhancements during peak call duration, potentially increasing customer satisfaction.\n",
        "\n",
        "- **Negative Growth:** If the business fails to leverage the insight about shorter morning calls and longer evening calls, it may miss opportunities to tailor services or promotions, potentially leading to stagnation in customer engagement and business growth. Ignoring patterns in call duration might result in misaligned strategies and lower satisfaction during peak usage times."
      ],
      "metadata": {
        "id": "zfJ8IqMcYoAp"
      }
    },
    {
      "cell_type": "markdown",
      "source": [
        "#### c)\n"
      ],
      "metadata": {
        "id": "GngrzOXntMcx"
      }
    },
    {
      "cell_type": "code",
      "source": [
        "# Chart - 4 visualization code\n",
        "import matplotlib.pyplot as plt\n",
        "import seaborn as sns\n",
        "\n",
        "plt.figure(figsize=(14, 6))\n",
        "\n",
        "plt.subplot(1, 3, 1)\n",
        "sns.boxplot(data=df, y='total_day_charge', color='lightblue')\n",
        "plt.ylabel('Total Day Charge', fontsize=12)\n",
        "plt.ylim(bottom=0)\n",
        "\n",
        "\n",
        "plt.subplot(1, 3, 2)\n",
        "sns.boxplot(data=df, y='total_eve_charge', color='lightgreen')\n",
        "plt.ylabel('Total Eve Charge', fontsize=12)\n",
        "plt.ylim(bottom=0)\n",
        "\n",
        "plt.subplot(1, 3, 3)\n",
        "sns.boxplot(data=df, y='total_night_charge', color='orange')\n",
        "plt.ylabel('Total Night Charge', fontsize=12)\n",
        "plt.ylim(bottom=0)\n",
        "\n",
        "plt.suptitle('Charge Distribution Across Different Times of Day', fontsize=16)  # Overall title\n",
        "\n",
        "plt.subplots_adjust(wspace=0.4)\n",
        "\n",
        "plt.show()\n"
      ],
      "metadata": {
        "id": "irlUoxc8YrdO"
      },
      "execution_count": null,
      "outputs": []
    },
    {
      "cell_type": "markdown",
      "source": [
        "##### 1. Why did you pick the specific chart?"
      ],
      "metadata": {
        "id": "iky9q4vBYrdO"
      }
    },
    {
      "cell_type": "markdown",
      "source": [
        "I chose boxplots for 'total_day_charge,' 'total_eve_charge,' and 'total_night_charge' because they effectively visualize the distribution of call charges, emphasizing key statistics like median and quartiles. This choice allows for a clear comparison of charge distribution across different times of the day. Boxplots succinctly summarize the variability in multiple categories, offering insights into how charges vary during specific periods, which is essential for understanding customer behavior and optimizing pricing strategies."
      ],
      "metadata": {
        "id": "aJRCwT6DYrdO"
      }
    },
    {
      "cell_type": "markdown",
      "source": [
        "##### 2. What is/are the insight(s) found from the chart?"
      ],
      "metadata": {
        "id": "F6T5p64dYrdO"
      }
    },
    {
      "cell_type": "markdown",
      "source": [
        "The charges are maximum in the evening time and lowest in the night time.\n",
        "These plots are in conjunction with the minutes spoken."
      ],
      "metadata": {
        "id": "Xx8WAJvtYrdO"
      }
    },
    {
      "cell_type": "markdown",
      "source": [
        "##### 3. Will the gained insights help creating a positive business impact?\n",
        "Are there any insights that lead to negative growth? Justify with specific reason."
      ],
      "metadata": {
        "id": "y-Ehk30pYrdP"
      }
    },
    {
      "cell_type": "markdown",
      "source": [
        "\n",
        "1. **Evening Charges Peak:** Charges are highest in the evening, correlating with the longer call durations during that time.\n",
        "2. **Night Charges Lowest:** Charges are lowest at night, aligning with shorter call durations during this period.\n",
        "\n",
        "**Impact on Business:**\n",
        "- *Positive Impact:* Recognizing the evening charges peak allows the business to optimize pricing strategies or introduce targeted promotions during high-charge periods, potentially increasing revenue. Aligning charges with usage patterns can enhance customer satisfaction.\n",
        "\n",
        "- *Negative Growth:* If the business fails to align pricing strategies with usage patterns, especially during peak evening hours, it may miss opportunities to maximize revenue. Neglecting these insights could lead to misaligned pricing and potential dissatisfaction among customers, impacting long-term growth prospects."
      ],
      "metadata": {
        "id": "jLNxxz7MYrdP"
      }
    },
    {
      "cell_type": "markdown",
      "source": [
        "### 4) Histplot"
      ],
      "metadata": {
        "id": "bamQiAODYuh1"
      }
    },
    {
      "cell_type": "code",
      "source": [
        "df.columns"
      ],
      "metadata": {
        "id": "Dq5oOpA_uQnj"
      },
      "execution_count": null,
      "outputs": []
    },
    {
      "cell_type": "markdown",
      "source": [
        "#### a)"
      ],
      "metadata": {
        "id": "3RL6Yhxs1ogh"
      }
    },
    {
      "cell_type": "code",
      "source": [
        "# Chart - 5 visualization code\n",
        "\n",
        "plt.figure(figsize=(10, 6))\n",
        "\n",
        "\n",
        "sns.histplot(data=df, x='account_length', bins=20, kde=True, color='#5DADE2', edgecolor='black')\n",
        "\n",
        "\n",
        "plt.axvline(df['account_length'].mean(), color='red', linestyle='dashed', linewidth=2, label='Mean')\n",
        "\n",
        "plt.xlabel('Account Length')\n",
        "plt.ylabel('Frequency')\n",
        "plt.title('Distribution of Account Length')\n",
        "plt.legend()  # Show legend with the mean line\n",
        "\n",
        "sns.despine()\n",
        "\n",
        "plt.show()\n",
        "plt.close()\n"
      ],
      "metadata": {
        "id": "TIJwrbroYuh3"
      },
      "execution_count": null,
      "outputs": []
    },
    {
      "cell_type": "markdown",
      "source": [
        "##### 1. Why did you pick the specific chart?"
      ],
      "metadata": {
        "id": "QHF8YVU7Yuh3"
      }
    },
    {
      "cell_type": "markdown",
      "source": [
        "I chose a histogram with a kernel density estimate (KDE) for 'account_length' to visually represent the distribution of customer account durations. This choice effectively highlights the central tendency, spread, and common durations, providing a comprehensive overview. The dashed red line indicating the mean adds clarity to the average account length, facilitating insights into customer tenure patterns."
      ],
      "metadata": {
        "id": "dcxuIMRPYuh3"
      }
    },
    {
      "cell_type": "markdown",
      "source": [
        "##### 2. What is/are the insight(s) found from the chart?"
      ],
      "metadata": {
        "id": "GwzvFGzlYuh3"
      }
    },
    {
      "cell_type": "markdown",
      "source": [
        "**Insight from the Chart:**\n",
        "\n",
        "- **Central Tendency:** The dashed red line represents the mean account length, which is approximately 101.06. This indicates the average duration for which customers have held their accounts.\n",
        "\n",
        "- **Spread of Data:** The histogram and kernel density estimate (KDE) showcase the distribution of account lengths. The spread of data is evident, ranging from a minimum of 1 day to a maximum of 243 days.\n",
        "\n",
        "- **Common Durations:** The quartiles (25th, 50th, and 75th percentiles) provide insights into common durations. For instance, 50% of customers have an account length between 74 and 127 days, emphasizing the concentration of account durations within this range.\n",
        "\n",
        "Overall, the chart provides a visual summary of account length distribution, highlighting the central tendency and variability in customer account durations.\n"
      ],
      "metadata": {
        "id": "uyqkiB8YYuh3"
      }
    },
    {
      "cell_type": "markdown",
      "source": [
        "##### 3. Will the gained insights help creating a positive business impact?\n",
        "Are there any insights that lead to negative growth? Justify with specific reason."
      ],
      "metadata": {
        "id": "qYpmQ266Yuh3"
      }
    },
    {
      "cell_type": "markdown",
      "source": [
        "**Positive Impact:**\n",
        "Understanding the average account length guides tailored retention strategies, enabling the identification of loyal customers and opportunities for exclusive loyalty programs. Recognizing common durations informs targeted promotions for diverse customer segments, allowing for personalized engagement strategies.\n",
        "\n",
        "**Potential Negative Impact:**\n",
        "Neglecting variability in account lengths may lead to generalized strategies, missing opportunities for personalized engagement with loyal customers and negatively affecting customer satisfaction and business growth."
      ],
      "metadata": {
        "id": "_WtzZ_hCYuh4"
      }
    },
    {
      "cell_type": "markdown",
      "source": [
        "#### b)"
      ],
      "metadata": {
        "id": "OH-pJp9IphqM"
      }
    },
    {
      "cell_type": "code",
      "source": [
        "# Chart - 6 visualization code\n",
        "\n",
        "sns.set(style=\"whitegrid\")\n",
        "\n",
        "plt.figure(figsize=(10, 5))\n",
        "sns.histplot(data=df, x='number_vmail_messages', bins=20, kde=True, color='skyblue', edgecolor='black')\n",
        "\n",
        "\n",
        "plt.xlabel('Number of Voicemail Messages', fontsize=12)\n",
        "plt.ylabel('Frequency', fontsize=12)\n",
        "plt.title('Distribution of Voicemail Messages', fontsize=14)\n",
        "\n",
        "plt.grid(axis='y', linestyle='--', alpha=0.7)\n",
        "plt.yscale('log')\n",
        "plt.show()\n"
      ],
      "metadata": {
        "id": "kuRf4wtuphqN"
      },
      "execution_count": null,
      "outputs": []
    },
    {
      "cell_type": "markdown",
      "source": [
        "##### 1. Why did you pick the specific chart?"
      ],
      "metadata": {
        "id": "bbFf2-_FphqN"
      }
    },
    {
      "cell_type": "markdown",
      "source": [
        "I chose a special kind of bar chart to show how many people use different amounts of voicemail messages. I used logarithmic scale to make it easier to see the details, especially for people who don't use voicemail much. This helps us notice that many people hardly use voicemail, and a few use it a lot."
      ],
      "metadata": {
        "id": "loh7H2nzphqN"
      }
    },
    {
      "cell_type": "markdown",
      "source": [
        "##### 2. What is/are the insight(s) found from the chart?"
      ],
      "metadata": {
        "id": "_ouA3fa0phqN"
      }
    },
    {
      "cell_type": "markdown",
      "source": [
        "A substantial number of clients exhibit near to zero voicemail usage, forming a distinct peak, while the distribution for the remaining clients follows a more typical, bell-shaped pattern. This suggests a notable segment of users either does not utilize or has disabled voicemail services, presenting an opportunity for targeted engagement or service customization for this specific group."
      ],
      "metadata": {
        "id": "VECbqPI7phqN"
      }
    },
    {
      "cell_type": "markdown",
      "source": [
        "##### 3. Will the gained insights help creating a positive business impact?\n",
        "Are there any insights that lead to negative growth? Justify with specific reason."
      ],
      "metadata": {
        "id": "Seke61FWphqN"
      }
    },
    {
      "cell_type": "markdown",
      "source": [
        "\n",
        "1. **Distinct Voicemail Peak:** A substantial number of clients show near-zero voicemail usage, forming a distinct peak in the distribution.\n",
        "2. **Typical Bell-Shaped Pattern:** The distribution for the remaining clients follows a more typical, bell-shaped pattern.\n",
        "\n",
        "**Impact on Business:**\n",
        "- *Positive Impact:* Recognizing the significant segment with minimal voicemail usage presents an opportunity for targeted engagement or customized services. This insight can guide personalized marketing strategies or feature enhancements, potentially increasing user satisfaction and loyalty.\n",
        "\n",
        "- *Negative Growth:* Ignoring the distinct voicemail peak might result in missed opportunities for engagement and customization for a notable user segment. Failing to address the specific needs or preferences of this group could lead to dissatisfaction and potential attrition, impacting long-term business growth."
      ],
      "metadata": {
        "id": "DW4_bGpfphqN"
      }
    },
    {
      "cell_type": "markdown",
      "source": [
        "#### c)"
      ],
      "metadata": {
        "id": "PIIx-8_IphqN"
      }
    },
    {
      "cell_type": "code",
      "source": [
        "\n",
        "sns.set(style=\"whitegrid\")\n",
        "sns.set_palette(\"pastel\")\n",
        "\n",
        "# Create subplots\n",
        "fig, axes = plt.subplots(1, 2, figsize=(13, 5))\n",
        "\n",
        "# Plot without log scale\n",
        "sns.histplot(data=df, x='customer_service_calls', bins=20, kde=True, color='skyblue', edgecolor='black', ax=axes[0])\n",
        "axes[0].set_xlabel('Number of Customer Service Calls', fontsize=12)\n",
        "axes[0].set_ylabel('Frequency', fontsize=12)\n",
        "axes[0].set_title('Distribution of Customer Service Calls', fontsize=14)\n",
        "axes[0].grid(axis='y', linestyle='--', alpha=0.7)\n",
        "\n",
        "# Plot with log scale\n",
        "sns.histplot(data=df, x='customer_service_calls', bins=20, kde=True, color='skyblue', edgecolor='black', ax=axes[1])\n",
        "axes[1].set_xlabel('Number of Customer Service Calls', fontsize=12)\n",
        "axes[1].set_ylabel('Frequency (Log Scale)', fontsize=12)\n",
        "axes[1].set_title('Distribution of Customer Service Calls (Log Scale)', fontsize=14)\n",
        "axes[1].grid(axis='y', linestyle='--', alpha=0.7)\n",
        "axes[1].set_yscale('log')\n",
        "\n",
        "\n",
        "plt.tight_layout()\n",
        "\n",
        "plt.show()\n"
      ],
      "metadata": {
        "id": "lqAIGUfyphqO"
      },
      "execution_count": null,
      "outputs": []
    },
    {
      "cell_type": "code",
      "source": [
        "df['customer_service_calls'].describe()"
      ],
      "metadata": {
        "id": "Z-NlWRk_22ea"
      },
      "execution_count": null,
      "outputs": []
    },
    {
      "cell_type": "markdown",
      "source": [
        "##### 1. Why did you pick the specific chart?"
      ],
      "metadata": {
        "id": "t27r6nlMphqO"
      }
    },
    {
      "cell_type": "markdown",
      "source": [
        "Answer Here."
      ],
      "metadata": {
        "id": "iv6ro40sphqO"
      }
    },
    {
      "cell_type": "markdown",
      "source": [
        "##### 2. What is/are the insight(s) found from the chart?"
      ],
      "metadata": {
        "id": "r2jJGEOYphqO"
      }
    },
    {
      "cell_type": "markdown",
      "source": [
        "**Insight(s) from the Chart:**\n",
        "- **Central Tendency:** The histogram reveals that the majority of customers make 1 to 2 customer service calls, as indicated by the peak around the mean of 1.56.\n",
        "  \n",
        "- **Spread of Data:** The distribution has a right-skewed shape, suggesting that while most customers have a low number of service calls, there are instances of higher call frequencies, with a maximum of 9 calls.\n",
        "\n",
        "- **Common Scenarios:** The quartiles indicate that 50% of customers make 1 or fewer calls, while 75% make 2 or fewer calls. This emphasizes the prevalence of relatively low customer service call volumes.\n",
        "\n",
        "Overall, the chart provides insights into the typical customer service call patterns, highlighting a concentration around a moderate number of calls, with a tail indicating instances of higher call frequencies."
      ],
      "metadata": {
        "id": "Po6ZPi4hphqO"
      }
    },
    {
      "cell_type": "markdown",
      "source": [
        "##### 3. Will the gained insights help creating a positive business impact?\n",
        "Are there any insights that lead to negative growth? Justify with specific reason."
      ],
      "metadata": {
        "id": "b0JNsNcRphqO"
      }
    },
    {
      "cell_type": "markdown",
      "source": [
        "**Business Impact:**\n",
        "- **Positive Impact:** Understanding common scenarios allows for targeted and efficient allocation of customer service resources. Recognizing the right-skewed distribution helps in identifying and addressing the needs of customers with higher call frequencies, potentially enhancing customer satisfaction.\n",
        "\n",
        "- **Negative Growth Risk:** Neglecting the instances of higher call frequencies may lead to inadequate resource allocation and a failure to address the needs of a subset of customers. Ignoring this variability might result in negative growth as the business might miss opportunities to improve service quality and customer experience for those with higher service call requirements."
      ],
      "metadata": {
        "id": "xvSq8iUTphqO"
      }
    },
    {
      "cell_type": "markdown",
      "source": [],
      "metadata": {
        "id": "qrjL0wrc9U5C"
      }
    },
    {
      "cell_type": "markdown",
      "source": [
        "# **Bivariate analysis**"
      ],
      "metadata": {
        "id": "k1SbXjwr9VpZ"
      }
    },
    {
      "cell_type": "markdown",
      "source": [
        "##### 1. Why did you pick the specific chart?"
      ],
      "metadata": {
        "id": "qtQL-3yQDjQq"
      }
    },
    {
      "cell_type": "markdown",
      "source": [
        "##### 2. What is/are the insight(s) found from the chart?"
      ],
      "metadata": {
        "id": "CnYNvRIuDn3k"
      }
    },
    {
      "cell_type": "markdown",
      "source": [
        "##### 3. Will the gained insights help creating a positive business impact?\n",
        "Are there any insights that lead to negative growth? Justify with specific reason."
      ],
      "metadata": {
        "id": "UP-xk58cDn3y"
      }
    },
    {
      "cell_type": "markdown",
      "source": [
        "Answer Here"
      ],
      "metadata": {
        "id": "ajrvBWmJDn3z"
      }
    },
    {
      "cell_type": "code",
      "source": [
        "\n",
        "target_column = 'churn'\n",
        "\n",
        "included_columns = df.columns[df.columns != target_column]\n",
        "corr_with_churn = df[included_columns].corrwith(df[target_column])\n",
        "corr_df = pd.DataFrame({'Correlation with Churn': corr_with_churn})\n",
        "\n",
        "corr_df = corr_df.sort_values(by='Correlation with Churn', ascending=False)\n",
        "plt.figure(figsize=(14, 5))\n",
        "sns.barplot(x=corr_df.index, y='Correlation with Churn', data=corr_df, palette='coolwarm')\n",
        "plt.title('Correlation with Churn', fontsize=16)\n",
        "plt.xticks(rotation=45, ha='right')\n",
        "plt.show()\n"
      ],
      "metadata": {
        "id": "wWmpgqOuAKo6"
      },
      "execution_count": null,
      "outputs": []
    },
    {
      "cell_type": "markdown",
      "source": [
        "##### 1. Why did you pick the specific chart?"
      ],
      "metadata": {
        "id": "jj7wYXLtphqO"
      }
    },
    {
      "cell_type": "markdown",
      "source": [],
      "metadata": {
        "id": "Ob8u6rCTphqO"
      }
    },
    {
      "cell_type": "markdown",
      "source": [
        "##### 2. What is/are the insight(s) found from the chart?"
      ],
      "metadata": {
        "id": "eZrbJ2SmphqO"
      }
    },
    {
      "cell_type": "markdown",
      "source": [
        "Answer Here"
      ],
      "metadata": {
        "id": "mZtgC_hjphqO"
      }
    },
    {
      "cell_type": "markdown",
      "source": [
        "##### 3. Will the gained insights help creating a positive business impact?\n",
        "Are there any insights that lead to negative growth? Justify with specific reason."
      ],
      "metadata": {
        "id": "rFu4xreNphqO"
      }
    },
    {
      "cell_type": "markdown",
      "source": [
        "Answer Here"
      ],
      "metadata": {
        "id": "ey_0qi68phqO"
      }
    },
    {
      "cell_type": "markdown",
      "source": [
        "#### Chart - 9"
      ],
      "metadata": {
        "id": "YJ55k-q6phqO"
      }
    },
    {
      "cell_type": "code",
      "source": [
        "# Chart - 9 visualization code"
      ],
      "metadata": {
        "id": "B2aS4O1ophqO"
      },
      "execution_count": null,
      "outputs": []
    },
    {
      "cell_type": "markdown",
      "source": [
        "##### 1. Why did you pick the specific chart?"
      ],
      "metadata": {
        "id": "gCFgpxoyphqP"
      }
    },
    {
      "cell_type": "markdown",
      "source": [
        "Answer Here."
      ],
      "metadata": {
        "id": "TVxDimi2phqP"
      }
    },
    {
      "cell_type": "markdown",
      "source": [
        "##### 2. What is/are the insight(s) found from the chart?"
      ],
      "metadata": {
        "id": "OVtJsKN_phqQ"
      }
    },
    {
      "cell_type": "markdown",
      "source": [
        "Answer Here"
      ],
      "metadata": {
        "id": "ngGi97qjphqQ"
      }
    },
    {
      "cell_type": "markdown",
      "source": [
        "##### 3. Will the gained insights help creating a positive business impact?\n",
        "Are there any insights that lead to negative growth? Justify with specific reason."
      ],
      "metadata": {
        "id": "lssrdh5qphqQ"
      }
    },
    {
      "cell_type": "markdown",
      "source": [
        "Answer Here"
      ],
      "metadata": {
        "id": "tBpY5ekJphqQ"
      }
    },
    {
      "cell_type": "markdown",
      "source": [
        "#### Chart - 10"
      ],
      "metadata": {
        "id": "U2RJ9gkRphqQ"
      }
    },
    {
      "cell_type": "code",
      "source": [
        "# Chart - 10 visualization code"
      ],
      "metadata": {
        "id": "GM7a4YP4phqQ"
      },
      "execution_count": null,
      "outputs": []
    },
    {
      "cell_type": "markdown",
      "source": [
        "##### 1. Why did you pick the specific chart?"
      ],
      "metadata": {
        "id": "1M8mcRywphqQ"
      }
    },
    {
      "cell_type": "markdown",
      "source": [
        "Answer Here."
      ],
      "metadata": {
        "id": "8agQvks0phqQ"
      }
    },
    {
      "cell_type": "markdown",
      "source": [
        "##### 2. What is/are the insight(s) found from the chart?"
      ],
      "metadata": {
        "id": "tgIPom80phqQ"
      }
    },
    {
      "cell_type": "markdown",
      "source": [
        "Answer Here"
      ],
      "metadata": {
        "id": "Qp13pnNzphqQ"
      }
    },
    {
      "cell_type": "markdown",
      "source": [
        "##### 3. Will the gained insights help creating a positive business impact?\n",
        "Are there any insights that lead to negative growth? Justify with specific reason."
      ],
      "metadata": {
        "id": "JMzcOPDDphqR"
      }
    },
    {
      "cell_type": "markdown",
      "source": [
        "Answer Here"
      ],
      "metadata": {
        "id": "R4Ka1PC2phqR"
      }
    },
    {
      "cell_type": "markdown",
      "source": [
        "#### Chart - 11"
      ],
      "metadata": {
        "id": "x-EpHcCOp1ci"
      }
    },
    {
      "cell_type": "code",
      "source": [
        "# Chart - 11 visualization code"
      ],
      "metadata": {
        "id": "mAQTIvtqp1cj"
      },
      "execution_count": null,
      "outputs": []
    },
    {
      "cell_type": "markdown",
      "source": [
        "##### 1. Why did you pick the specific chart?"
      ],
      "metadata": {
        "id": "X_VqEhTip1ck"
      }
    },
    {
      "cell_type": "markdown",
      "source": [
        "Answer Here."
      ],
      "metadata": {
        "id": "-vsMzt_np1ck"
      }
    },
    {
      "cell_type": "markdown",
      "source": [
        "##### 2. What is/are the insight(s) found from the chart?"
      ],
      "metadata": {
        "id": "8zGJKyg5p1ck"
      }
    },
    {
      "cell_type": "markdown",
      "source": [
        "Answer Here"
      ],
      "metadata": {
        "id": "ZYdMsrqVp1ck"
      }
    },
    {
      "cell_type": "markdown",
      "source": [
        "##### 3. Will the gained insights help creating a positive business impact?\n",
        "Are there any insights that lead to negative growth? Justify with specific reason."
      ],
      "metadata": {
        "id": "PVzmfK_Ep1ck"
      }
    },
    {
      "cell_type": "markdown",
      "source": [
        "Answer Here"
      ],
      "metadata": {
        "id": "druuKYZpp1ck"
      }
    },
    {
      "cell_type": "markdown",
      "source": [
        "#### Chart - 12"
      ],
      "metadata": {
        "id": "n3dbpmDWp1ck"
      }
    },
    {
      "cell_type": "code",
      "source": [
        "# Chart - 12 visualization code"
      ],
      "metadata": {
        "id": "bwevp1tKp1ck"
      },
      "execution_count": null,
      "outputs": []
    },
    {
      "cell_type": "markdown",
      "source": [
        "##### 1. Why did you pick the specific chart?"
      ],
      "metadata": {
        "id": "ylSl6qgtp1ck"
      }
    },
    {
      "cell_type": "markdown",
      "source": [
        "Answer Here."
      ],
      "metadata": {
        "id": "m2xqNkiQp1ck"
      }
    },
    {
      "cell_type": "markdown",
      "source": [
        "##### 2. What is/are the insight(s) found from the chart?"
      ],
      "metadata": {
        "id": "ZWILFDl5p1ck"
      }
    },
    {
      "cell_type": "markdown",
      "source": [
        "Answer Here"
      ],
      "metadata": {
        "id": "x-lUsV2mp1ck"
      }
    },
    {
      "cell_type": "markdown",
      "source": [
        "##### 3. Will the gained insights help creating a positive business impact?\n",
        "Are there any insights that lead to negative growth? Justify with specific reason."
      ],
      "metadata": {
        "id": "M7G43BXep1ck"
      }
    },
    {
      "cell_type": "markdown",
      "source": [
        "Answer Here"
      ],
      "metadata": {
        "id": "5wwDJXsLp1cl"
      }
    },
    {
      "cell_type": "markdown",
      "source": [
        "#### Chart - 13"
      ],
      "metadata": {
        "id": "Ag9LCva-p1cl"
      }
    },
    {
      "cell_type": "code",
      "source": [
        "# Chart - 13 visualization code"
      ],
      "metadata": {
        "id": "EUfxeq9-p1cl"
      },
      "execution_count": null,
      "outputs": []
    },
    {
      "cell_type": "markdown",
      "source": [
        "##### 1. Why did you pick the specific chart?"
      ],
      "metadata": {
        "id": "E6MkPsBcp1cl"
      }
    },
    {
      "cell_type": "markdown",
      "source": [
        "Answer Here."
      ],
      "metadata": {
        "id": "V22bRsFWp1cl"
      }
    },
    {
      "cell_type": "markdown",
      "source": [
        "##### 2. What is/are the insight(s) found from the chart?"
      ],
      "metadata": {
        "id": "2cELzS2fp1cl"
      }
    },
    {
      "cell_type": "markdown",
      "source": [
        "Answer Here"
      ],
      "metadata": {
        "id": "ozQPc2_Ip1cl"
      }
    },
    {
      "cell_type": "markdown",
      "source": [
        "##### 3. Will the gained insights help creating a positive business impact?\n",
        "Are there any insights that lead to negative growth? Justify with specific reason."
      ],
      "metadata": {
        "id": "3MPXvC8up1cl"
      }
    },
    {
      "cell_type": "markdown",
      "source": [
        "Answer Here"
      ],
      "metadata": {
        "id": "GL8l1tdLp1cl"
      }
    },
    {
      "cell_type": "markdown",
      "source": [
        "#### Chart - 14 - Correlation Heatmap"
      ],
      "metadata": {
        "id": "NC_X3p0fY2L0"
      }
    },
    {
      "cell_type": "code",
      "source": [
        "\n",
        "corr_matrix = df.drop(to_drop, axis=1).corr()\n",
        "\n",
        "\n",
        "plt.figure(figsize=(15, 10))\n",
        "\n",
        "# Customize the heatmap\n",
        "sns.heatmap(corr_matrix, annot=True, fmt=\".2f\", linewidths=.5)\n",
        "\n",
        "# Add title\n",
        "plt.title('Correlation Heatmap)', fontsize=16)\n",
        "\n",
        "plt.xticks(rotation=45, ha='right')\n",
        "\n",
        "plt.show()\n"
      ],
      "metadata": {
        "id": "RtnwK7e6I5Df"
      },
      "execution_count": null,
      "outputs": []
    },
    {
      "cell_type": "markdown",
      "source": [
        "##### 1. Why did you pick the specific chart?"
      ],
      "metadata": {
        "id": "UV0SzAkaZNRQ"
      }
    },
    {
      "cell_type": "markdown",
      "source": [
        "The heatmap was chosen due to its ability to visually represent correlations in a concise manner. Its color gradients and annotations facilitate the identification of high correlation values. It efficiently communicates relationships between variables, aiding in the interpretation of patterns. Specific details, such as the correlation of 'churn' with various features, become easily noticeable. The heatmap's clarity and visual appeal make it an effective tool for exploring complex interdependencies in the dataset."
      ],
      "metadata": {
        "id": "bfSqtnDqZNRR"
      }
    },
    {
      "cell_type": "markdown",
      "source": [
        "##### 2. What is/are the insight(s) found from the chart?"
      ],
      "metadata": {
        "id": "YPEH6qLeZNRQ"
      }
    },
    {
      "cell_type": "markdown",
      "source": [
        "**With regard to the heatmap we can see high correlation bettween the following variables:¶**\n",
        "\n",
        "**With respect to churn**\n",
        "* Total day minutes to Churn at 0.21\n",
        "* Total day charge to Churn at 0.21\n",
        "* Customer service calls to Churn at 0.21\n",
        "* International plan to Churn at 0.26\n",
        "\n",
        "**Other relations:**\n",
        "* Total day charge to Total day minutes at 1\n",
        "* Total evening charge to total eve minutes at 1\n",
        "* total night charge to total night minutes at 1"
      ],
      "metadata": {
        "id": "5OhWGXSgVIYX"
      }
    },
    {
      "cell_type": "markdown",
      "source": [
        "#### Chart - 15 - Pair Plot"
      ],
      "metadata": {
        "id": "q29F0dvdveiT"
      }
    },
    {
      "cell_type": "code",
      "source": [
        "# Pair Plot visualization code"
      ],
      "metadata": {
        "id": "o58-TEIhveiU"
      },
      "execution_count": null,
      "outputs": []
    },
    {
      "cell_type": "markdown",
      "source": [
        "##### 1. Why did you pick the specific chart?"
      ],
      "metadata": {
        "id": "EXh0U9oCveiU"
      }
    },
    {
      "cell_type": "markdown",
      "source": [
        "Answer Here."
      ],
      "metadata": {
        "id": "eMmPjTByveiU"
      }
    },
    {
      "cell_type": "markdown",
      "source": [
        "##### 2. What is/are the insight(s) found from the chart?"
      ],
      "metadata": {
        "id": "22aHeOlLveiV"
      }
    },
    {
      "cell_type": "markdown",
      "source": [
        "Answer Here"
      ],
      "metadata": {
        "id": "uPQ8RGwHveiV"
      }
    },
    {
      "cell_type": "markdown",
      "source": [
        "## **5. Solution to Business Objective**"
      ],
      "metadata": {
        "id": "JcMwzZxoAimU"
      }
    },
    {
      "cell_type": "markdown",
      "source": [
        "#### What do you suggest the client to achieve Business Objective ?\n",
        "Explain Briefly."
      ],
      "metadata": {
        "id": "8G2x9gOozGDZ"
      }
    },
    {
      "cell_type": "markdown",
      "source": [
        "Answer Here."
      ],
      "metadata": {
        "id": "pASKb0qOza21"
      }
    },
    {
      "cell_type": "markdown",
      "source": [
        "# **Conclusion**"
      ],
      "metadata": {
        "id": "gCX9965dhzqZ"
      }
    },
    {
      "cell_type": "markdown",
      "source": [
        "Write the conclusion here."
      ],
      "metadata": {
        "id": "Fjb1IsQkh3yE"
      }
    },
    {
      "cell_type": "markdown",
      "source": [
        "### ***Hurrah! You have successfully completed your EDA Capstone Project !!!***"
      ],
      "metadata": {
        "id": "gIfDvo9L0UH2"
      }
    }
  ]
}