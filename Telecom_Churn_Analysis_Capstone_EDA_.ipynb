{
  "nbformat": 4,
  "nbformat_minor": 0,
  "metadata": {
    "colab": {
      "private_outputs": true,
      "provenance": [],
      "collapsed_sections": [
        "vncDsAP0Gaoa",
        "FJNUwmbgGyua",
        "w6K7xa23Elo4",
        "yQaldy8SH6Dl",
        "PH-0ReGfmX4f",
        "mDgbUHAGgjLW",
        "O_i_v8NEhb9l",
        "HhfV-JJviCcP",
        "Y3lxredqlCYt",
        "3RnN4peoiCZX",
        "x71ZqKXriCWQ",
        "7hBIi_osiCS2",
        "JlHwYmJAmNHm",
        "35m5QtbWiB9F",
        "PoPl-ycgm1ru",
        "H0kj-8xxnORC",
        "nA9Y7ga8ng1Z",
        "PBTbrJXOngz2",
        "u3PMJOP6ngxN",
        "dauF4eBmngu3",
        "bKJF3rekwFvQ",
        "MSa1f5Uengrz",
        "GF8Ens_Soomf",
        "0wOQAZs5pc--",
        "K5QZ13OEpz2H",
        "lQ7QKXXCp7Bj",
        "448CDAPjqfQr",
        "KSlN3yHqYklG",
        "t6dVpIINYklI",
        "ijmpgYnKYklI",
        "-JiQyfWJYklI",
        "EM7whBJCYoAo",
        "fge-S5ZAYoAp",
        "85gYPyotYoAp",
        "RoGjAbkUYoAp",
        "4Of9eVA-YrdM",
        "iky9q4vBYrdO",
        "F6T5p64dYrdO",
        "y-Ehk30pYrdP",
        "bamQiAODYuh1",
        "QHF8YVU7Yuh3",
        "GwzvFGzlYuh3",
        "qYpmQ266Yuh3",
        "OH-pJp9IphqM",
        "bbFf2-_FphqN",
        "_ouA3fa0phqN",
        "Seke61FWphqN",
        "PIIx-8_IphqN",
        "t27r6nlMphqO",
        "r2jJGEOYphqO",
        "b0JNsNcRphqO",
        "BZR9WyysphqO",
        "jj7wYXLtphqO",
        "eZrbJ2SmphqO",
        "rFu4xreNphqO",
        "YJ55k-q6phqO",
        "gCFgpxoyphqP",
        "OVtJsKN_phqQ",
        "lssrdh5qphqQ",
        "U2RJ9gkRphqQ",
        "1M8mcRywphqQ",
        "tgIPom80phqQ",
        "JMzcOPDDphqR",
        "x-EpHcCOp1ci",
        "X_VqEhTip1ck",
        "8zGJKyg5p1ck",
        "PVzmfK_Ep1ck",
        "n3dbpmDWp1ck",
        "ylSl6qgtp1ck",
        "ZWILFDl5p1ck",
        "M7G43BXep1ck",
        "Ag9LCva-p1cl",
        "E6MkPsBcp1cl",
        "2cELzS2fp1cl",
        "3MPXvC8up1cl",
        "NC_X3p0fY2L0",
        "UV0SzAkaZNRQ",
        "YPEH6qLeZNRQ",
        "q29F0dvdveiT",
        "EXh0U9oCveiU",
        "22aHeOlLveiV",
        "JcMwzZxoAimU",
        "8G2x9gOozGDZ",
        "gCX9965dhzqZ",
        "gIfDvo9L0UH2"
      ],
      "include_colab_link": true
    },
    "kernelspec": {
      "name": "python3",
      "display_name": "Python 3"
    },
    "language_info": {
      "name": "python"
    }
  },
  "cells": [
    {
      "cell_type": "markdown",
      "metadata": {
        "id": "view-in-github",
        "colab_type": "text"
      },
      "source": [
        "<a href=\"https://colab.research.google.com/github/Harshad1025/Harshad1025-Capstone-2-telecom-churn-analysis/blob/main/Telecom_Churn_Analysis_Capstone_EDA_.ipynb\" target=\"_parent\"><img src=\"https://colab.research.google.com/assets/colab-badge.svg\" alt=\"Open In Colab\"/></a>"
      ]
    },
    {
      "cell_type": "markdown",
      "source": [
        "# **Project Name**    -\n",
        "\n"
      ],
      "metadata": {
        "id": "vncDsAP0Gaoa"
      }
    },
    {
      "cell_type": "markdown",
      "source": [
        "##### **Project Type**    - EDA\n",
        "##### **Contribution**    - Individual\n",
        "##### **Team Member 1 -Harshad Thombre**\n"
      ],
      "metadata": {
        "id": "beRrZCGUAJYm"
      }
    },
    {
      "cell_type": "markdown",
      "source": [
        "# **Project Summary -**"
      ],
      "metadata": {
        "id": "FJNUwmbgGyua"
      }
    },
    {
      "cell_type": "markdown",
      "source": [
        "Write the summary here within 500-600 words."
      ],
      "metadata": {
        "id": "F6v_1wHtG2nS"
      }
    },
    {
      "cell_type": "markdown",
      "source": [
        "# **GitHub Link -**"
      ],
      "metadata": {
        "id": "w6K7xa23Elo4"
      }
    },
    {
      "cell_type": "markdown",
      "source": [
        "Provide your GitHub Link here.<br>\n",
        "https://github.com/Harshad1025?tab=repositories"
      ],
      "metadata": {
        "id": "h1o69JH3Eqqn"
      }
    },
    {
      "cell_type": "markdown",
      "source": [
        "# **Problem Statement**\n"
      ],
      "metadata": {
        "id": "yQaldy8SH6Dl"
      }
    },
    {
      "cell_type": "markdown",
      "source": [
        "**Orange S.A., formerly France Télécom S.A., is a French multinational telecommunications corporation. The Orange Telecom's Churn Dataset, consists of cleaned customer activity data (features), along with a churn label specifying whether a customer cancelled the subscription. Explore and analyze the data to discover key factors responsible for customer churn and come up with ways/recommendations to ensure customer retention.**"
      ],
      "metadata": {
        "id": "DpeJGUA3kjGy"
      }
    },
    {
      "cell_type": "markdown",
      "source": [
        "#### **Define Your Business Objective?**"
      ],
      "metadata": {
        "id": "PH-0ReGfmX4f"
      }
    },
    {
      "cell_type": "markdown",
      "source": [
        "The primary business objective for exploring and analyzing the Orange Telecom's Churn Dataset is to identify key factors influencing customer churn and to formulate strategic recommendations aimed at improving customer retention. The goal is to gain actionable insights from the dataset, understand the patterns, and propose effective measures to reduce churn rates."
      ],
      "metadata": {
        "id": "H7GnZO8K7bCp"
      }
    },
    {
      "cell_type": "markdown",
      "source": [
        "The ultimate goal is to foster a customer-centric approach that not only reduces churn but also enhances overall customer satisfaction. By implementing data-driven strategies, the aim is to create a more resilient and loyal customer base, positively impacting the long-term sustainability and profitability of Orange Telecom."
      ],
      "metadata": {
        "id": "PhDvGCAqmjP1"
      }
    },
    {
      "cell_type": "markdown",
      "source": [
        "# **General Guidelines** : -  "
      ],
      "metadata": {
        "id": "mDgbUHAGgjLW"
      }
    },
    {
      "cell_type": "markdown",
      "source": [
        "1.   Well-structured, formatted, and commented code is required.\n",
        "2.   Exception Handling, Production Grade Code & Deployment Ready Code will be a plus. Those students will be awarded some additional credits.\n",
        "     \n",
        "     The additional credits will have advantages over other students during Star Student selection.\n",
        "       \n",
        "             [ Note: - Deployment Ready Code is defined as, the whole .ipynb notebook should be executable in one go\n",
        "                       without a single error logged. ]\n",
        "\n",
        "3.   Each and every logic should have proper comments.\n",
        "4. You may add as many number of charts you want. Make Sure for each and every chart the following format should be answered.\n",
        "        \n",
        "\n",
        "```\n",
        "# Chart visualization code\n",
        "```\n",
        "            \n",
        "\n",
        "*   Why did you pick the specific chart?\n",
        "*   What is/are the insight(s) found from the chart?\n",
        "* Will the gained insights help creating a positive business impact?\n",
        "Are there any insights that lead to negative growth? Justify with specific reason.\n",
        "\n",
        "5. You have to create at least 20 logical & meaningful charts having important insights.\n",
        "\n",
        "\n",
        "[ Hints : - Do the Vizualization in  a structured way while following \"UBM\" Rule.\n",
        "\n",
        "U - Univariate Analysis,\n",
        "\n",
        "B - Bivariate Analysis (Numerical - Categorical, Numerical - Numerical, Categorical - Categorical)\n",
        "\n",
        "M - Multivariate Analysis\n",
        " ]\n",
        "\n",
        "\n",
        "\n"
      ],
      "metadata": {
        "id": "ZrxVaUj-hHfC"
      }
    },
    {
      "cell_type": "markdown",
      "source": [
        "# ***Let's Begin !***"
      ],
      "metadata": {
        "id": "O_i_v8NEhb9l"
      }
    },
    {
      "cell_type": "markdown",
      "source": [
        "## ***1. Know Your Data***"
      ],
      "metadata": {
        "id": "HhfV-JJviCcP"
      }
    },
    {
      "cell_type": "markdown",
      "source": [
        "### Import Libraries"
      ],
      "metadata": {
        "id": "Y3lxredqlCYt"
      }
    },
    {
      "cell_type": "code",
      "source": [
        "# Import Libraries\n",
        "\n",
        "\n",
        "import functools\n",
        "import os\n",
        "import time\n",
        "import warnings\n",
        "import datetime\n",
        "\n",
        "import numpy as np\n",
        "import pandas as pd\n",
        "import plotly.express as px\n",
        "import seaborn as sns\n",
        "from PIL import Image\n",
        "import matplotlib.pyplot as plt\n",
        "%matplotlib inline\n",
        "\n",
        "warnings.filterwarnings('ignore')\n",
        "\n",
        "\n",
        "pd.set_option('display.max_rows', 20)\n",
        "pd.set_option('display.max_columns', None)\n",
        "pd.set_option('display.width', 200)\n",
        "\n",
        "blue = '\\033[94m'\n",
        "bold = '\\033[1m'\n",
        "italics = '\\033[3m'\n",
        "underline = '\\033[4m'\n",
        "end = '\\033[0m'\n",
        "pretty_print_start = italics+bold+underline+blue\n",
        "pretty_print_end = italics+bold+underline+blue+end"
      ],
      "metadata": {
        "id": "M8Vqi-pPk-HR"
      },
      "execution_count": null,
      "outputs": []
    },
    {
      "cell_type": "markdown",
      "source": [
        "### Dataset Loading"
      ],
      "metadata": {
        "id": "3RnN4peoiCZX"
      }
    },
    {
      "cell_type": "code",
      "source": [
        "# Load Dataset\n",
        "data = pd.read_csv('/content/telecom_churn.csv')"
      ],
      "metadata": {
        "id": "4CkvbW_SlZ_R"
      },
      "execution_count": null,
      "outputs": []
    },
    {
      "cell_type": "markdown",
      "source": [
        "### Dataset First View"
      ],
      "metadata": {
        "id": "x71ZqKXriCWQ"
      }
    },
    {
      "cell_type": "code",
      "source": [
        "# Dataset First Look\n",
        "data.head()"
      ],
      "metadata": {
        "id": "LWNFOSvLl09H"
      },
      "execution_count": null,
      "outputs": []
    },
    {
      "cell_type": "code",
      "source": [
        "data.tail()"
      ],
      "metadata": {
        "id": "IpLOdmif9cMN"
      },
      "execution_count": null,
      "outputs": []
    },
    {
      "cell_type": "code",
      "source": [
        "data.sample(5)"
      ],
      "metadata": {
        "id": "AzMQ52ze9mrF"
      },
      "execution_count": null,
      "outputs": []
    },
    {
      "cell_type": "markdown",
      "source": [
        "### Dataset Rows & Columns count"
      ],
      "metadata": {
        "id": "7hBIi_osiCS2"
      }
    },
    {
      "cell_type": "code",
      "source": [
        "# Dataset Rows & Columns count\n",
        "print(f\"Dataset Rows count: {data.shape[0]}\")\n",
        "print(f\"Dataset Columns count: {data.shape[1]}\")"
      ],
      "metadata": {
        "id": "Kllu7SJgmLij"
      },
      "execution_count": null,
      "outputs": []
    },
    {
      "cell_type": "markdown",
      "source": [
        "### Dataset Information"
      ],
      "metadata": {
        "id": "JlHwYmJAmNHm"
      }
    },
    {
      "cell_type": "code",
      "source": [
        "# Dataset Info\n",
        "data.info()"
      ],
      "metadata": {
        "id": "e9hRXRi6meOf"
      },
      "execution_count": null,
      "outputs": []
    },
    {
      "cell_type": "markdown",
      "source": [
        "#### Duplicate Values"
      ],
      "metadata": {
        "id": "35m5QtbWiB9F"
      }
    },
    {
      "cell_type": "code",
      "source": [
        "# Dataset Duplicate Value Count\n",
        "data.duplicated().sum()"
      ],
      "metadata": {
        "id": "1sLdpKYkmox0"
      },
      "execution_count": null,
      "outputs": []
    },
    {
      "cell_type": "markdown",
      "source": [
        "#### Missing Values/Null Values"
      ],
      "metadata": {
        "id": "PoPl-ycgm1ru"
      }
    },
    {
      "cell_type": "code",
      "source": [
        "# Missing Values/Null Values Count\n",
        "data.isnull().sum()"
      ],
      "metadata": {
        "id": "GgHWkxvamxVg"
      },
      "execution_count": null,
      "outputs": []
    },
    {
      "cell_type": "code",
      "source": [
        "# Visualizing the missing values\n",
        "plt.figure(figsize=(20,10))\n",
        "sns.heatmap(data.isna(), cmap=\"viridis\", cbar_kws={'label': 'Missing Data'})\n",
        "plt.title('Visualization of Missing Values', fontsize=18)\n",
        "plt.show()"
      ],
      "metadata": {
        "id": "3q5wnI3om9sJ"
      },
      "execution_count": null,
      "outputs": []
    },
    {
      "cell_type": "markdown",
      "source": [
        "### What did you know about your dataset?"
      ],
      "metadata": {
        "id": "H0kj-8xxnORC"
      }
    },
    {
      "cell_type": "markdown",
      "source": [
        "\n",
        "\n",
        "1. **Size of the Dataset:**\n",
        "   - The dataset contains 3333 rows and 20 columns.\n",
        "\n",
        "2. **Columns and Data Types:**\n",
        "   - The columns include a mix of numerical and categorical data types.\n",
        "   - There are three main types of data in the dataset: `int64` (integer), `float64` (floating-point), `object` (string or categorical), and `bool` (boolean).\n",
        "\n",
        "3. **Columns and Their Meanings:**\n",
        "   - The dataset includes columns such as 'State,' 'Account length,' 'Area code,' 'International plan,' 'Voice mail plan,' 'Number vmail messages,' and various columns related to the total minutes, calls, and charges for day, evening, night, and international calls.\n",
        "\n",
        "4. **Target Variable:**\n",
        "   - The 'Churn' column appears to be the target variable, indicating whether a customer has canceled the subscription. It is of boolean type (`bool`), it has values of either `True` or `False`.\n",
        "\n",
        "5. **Memory Usage:**\n",
        "   - The memory usage of the dataset is approximately 498.1 KB, indicating the dataset is reasonably sized and should be manageable for analysis.\n",
        "\n",
        "6. **Potential Features:**\n",
        "   - There are features like 'International plan,' 'Voice mail plan,' and 'Customer service calls' that may be crucial for understanding customer behavior and predicting churn.\n",
        "\n",
        "7. **Data Quality:**\n",
        "   - No missing values are reported in the information, suggesting that the dataset is relatively clean. However, further exploration may reveal outliers or anomalies that need attention.\n",
        "\n"
      ],
      "metadata": {
        "id": "Kf2HJ2XLBcxE"
      }
    },
    {
      "cell_type": "markdown",
      "source": [
        "## ***2. Understanding Your Variables***"
      ],
      "metadata": {
        "id": "nA9Y7ga8ng1Z"
      }
    },
    {
      "cell_type": "code",
      "source": [
        "# display only columns that contains text to confirm if dtype is correct or not\n",
        "data.select_dtypes(include=['object','boolean']).columns.tolist()"
      ],
      "metadata": {
        "id": "yNcYzFcS21mg"
      },
      "execution_count": null,
      "outputs": []
    },
    {
      "cell_type": "code",
      "source": [
        "# desplay only columns that contains text to confirm if dtype is correct of not\n",
        "data.select_dtypes(include=['number']).columns.tolist()"
      ],
      "metadata": {
        "id": "mhnFpE4M27C5"
      },
      "execution_count": null,
      "outputs": []
    },
    {
      "cell_type": "code",
      "source": [
        "# Dataset Columns\n",
        "data.columns"
      ],
      "metadata": {
        "id": "j7xfkqrt5Ag5"
      },
      "execution_count": null,
      "outputs": []
    },
    {
      "cell_type": "code",
      "source": [
        "# Dataset Describe\n",
        "data.describe()"
      ],
      "metadata": {
        "id": "DnOaZdaE5Q5t"
      },
      "execution_count": null,
      "outputs": []
    },
    {
      "cell_type": "markdown",
      "source": [
        "In order to see statistics on non-numerical features, one has to explicitly indicate data types of interest in the include parameter."
      ],
      "metadata": {
        "id": "wN6gKyabZjaD"
      }
    },
    {
      "cell_type": "code",
      "source": [
        "# discriptive statistics on non-numerical features\n",
        "data.describe(include=[\"object\", \"bool\"])"
      ],
      "metadata": {
        "id": "Yz3kE3m83AFD"
      },
      "execution_count": null,
      "outputs": []
    },
    {
      "cell_type": "markdown",
      "source": [
        "### Variables Description"
      ],
      "metadata": {
        "id": "PBTbrJXOngz2"
      }
    },
    {
      "cell_type": "markdown",
      "source": [
        "\n",
        "\n",
        "1. **State (Object):**\n",
        "   - The state in which the customer resides.\n",
        "\n",
        "2. **Account length (Integer):**\n",
        "   - The number of days the customer has been an account holder.\n",
        "\n",
        "3. **Area code (Integer):**\n",
        "   - The three-digit area code corresponding to the customer's phone number.\n",
        "\n",
        "4. **International plan (Object):**\n",
        "   - Whether the customer has an international calling plan (Yes/No).\n",
        "\n",
        "5. **Voice mail plan (Object):**\n",
        "   - Whether the customer has a voice mail plan (Yes/No).\n",
        "\n",
        "6. **Number vmail messages (Integer):**\n",
        "   - The number of voice mail messages received by the customer.\n",
        "\n",
        "7. **Total day minutes (Float):**\n",
        "   - The total number of minutes the customer used during the day.\n",
        "\n",
        "8. **Total day calls (Integer):**\n",
        "   - The total number of calls made by the customer during the day.\n",
        "\n",
        "9. **Total day charge (Float):**\n",
        "   - The total charge incurred by the customer for day calls.\n",
        "\n",
        "10. **Total eve minutes (Float):**\n",
        "    - The total number of minutes the customer used during the evening.\n",
        "\n",
        "11. **Total eve calls (Integer):**\n",
        "    - The total number of calls made by the customer during the evening.\n",
        "\n",
        "12. **Total eve charge (Float):**\n",
        "    - The total charge incurred by the customer for evening calls.\n",
        "\n",
        "13. **Total night minutes (Float):**\n",
        "    - The total number of minutes the customer used during the night.\n",
        "\n",
        "14. **Total night calls (Integer):**\n",
        "    - The total number of calls made by the customer during the night.\n",
        "\n",
        "15. **Total night charge (Float):**\n",
        "    - The total charge incurred by the customer for night calls.\n",
        "\n",
        "16. **Total intl minutes (Float):**\n",
        "    - The total number of international minutes used by the customer.\n",
        "\n",
        "17. **Total intl calls (Integer):**\n",
        "    - The total number of international calls made by the customer.\n",
        "\n",
        "18. **Total intl charge (Float):**\n",
        "    - The total charge incurred by the customer for international calls.\n",
        "\n",
        "19. **Customer service calls (Integer):**\n",
        "    - The number of customer service calls made by the customer.\n",
        "\n",
        "20. **Churn (Boolean):**\n",
        "    - The target variable indicating whether the customer has canceled the subscription (True/False).\n",
        "\n"
      ],
      "metadata": {
        "id": "aJV4KIxSnxay"
      }
    },
    {
      "cell_type": "markdown",
      "source": [
        "### Check Unique Values for each variable."
      ],
      "metadata": {
        "id": "u3PMJOP6ngxN"
      }
    },
    {
      "cell_type": "code",
      "source": [
        "print(\"Number of unique values \")\n",
        "for column in data.columns:\n",
        "    unique_values = len(data[column].unique())\n",
        "    print(f\"{column}: {unique_values}\")"
      ],
      "metadata": {
        "id": "QnBQ7Eukbihn"
      },
      "execution_count": null,
      "outputs": []
    },
    {
      "cell_type": "code",
      "source": [
        "data.nunique()"
      ],
      "metadata": {
        "id": "DhEt-d3KDeiC"
      },
      "execution_count": null,
      "outputs": []
    },
    {
      "cell_type": "code",
      "source": [
        "# show all unique values for categorical columns\n",
        "for col in data.select_dtypes(include=['object','boolean']):\n",
        "    print(f\"Feature name : {col}'\\n' values: {data[col].unique()}'\\n'\")"
      ],
      "metadata": {
        "id": "Oq31lReN3yd3"
      },
      "execution_count": null,
      "outputs": []
    },
    {
      "cell_type": "code",
      "source": [
        "columns_to_exclude=[\n",
        "    'Account length',\n",
        "    'Number vmail messages',\n",
        "    'Total day minutes',\n",
        "    'Total day calls',\n",
        "    'Total day charge',\n",
        "    'Total eve minutes',\n",
        "    'Total eve calls',\n",
        "    'Total eve charge',\n",
        "    'Total night minutes',\n",
        "    'Total night calls',\n",
        "    'Total night charge' ,\n",
        "    'Total intl minutes',\n",
        "    'Total intl calls',\n",
        "    'Total intl charge']"
      ],
      "metadata": {
        "id": "PaDj8xx3EYGE"
      },
      "execution_count": null,
      "outputs": []
    },
    {
      "cell_type": "code",
      "source": [
        "# Check Unique Values for each variable\n",
        "for column in data.columns:\n",
        "    if column not in columns_to_exclude:\n",
        "        unique_values = data[column].unique()\n",
        "        print(f\"Unique values for {column}:\", unique_values)\n",
        "        print(\"-\" * 50)\n",
        "\n"
      ],
      "metadata": {
        "id": "zms12Yq5n-jE"
      },
      "execution_count": null,
      "outputs": []
    },
    {
      "cell_type": "markdown",
      "source": [
        "## 3. ***Data Wrangling***"
      ],
      "metadata": {
        "id": "dauF4eBmngu3"
      }
    },
    {
      "cell_type": "markdown",
      "source": [
        "### Data Wrangling Code"
      ],
      "metadata": {
        "id": "bKJF3rekwFvQ"
      }
    },
    {
      "cell_type": "code",
      "source": [
        "# Write your code to make your dataset analysis ready.\n",
        "\n",
        "# created a copy of original dataframe\n",
        "df = data.copy()"
      ],
      "metadata": {
        "id": "wk-9a2fpoLcV"
      },
      "execution_count": null,
      "outputs": []
    },
    {
      "cell_type": "code",
      "source": [
        "# 1) corrected column names\n",
        "df.columns = df.columns.str.strip().str.lower().str.replace(\" \",\"_\" )"
      ],
      "metadata": {
        "id": "Kq6kEp1cGoKN"
      },
      "execution_count": null,
      "outputs": []
    },
    {
      "cell_type": "code",
      "source": [
        "df.columns\n"
      ],
      "metadata": {
        "id": "VLdI5zZy9Dtm"
      },
      "execution_count": null,
      "outputs": []
    },
    {
      "cell_type": "code",
      "source": [
        "# # 3) Label encoding to  international_plans, voice_mail_plan, churn columns\n",
        "# df['international_plan'] = df['international_plan'].replace({'Yes': 1, 'No': 0})\n",
        "# df['voice_mail_plan'] = df['voice_mail_plan'].replace({'Yes': 1, 'No': 0})\n",
        "# df['churn'] = df['churn'].replace({True: 1, False: 0})\n"
      ],
      "metadata": {
        "id": "ALZWQJ8nJhUK"
      },
      "execution_count": null,
      "outputs": []
    },
    {
      "cell_type": "code",
      "source": [
        "# converted from int data type to category [area_code column]\n",
        "df['area_code'] =df['area_code'].astype('category')"
      ],
      "metadata": {
        "id": "-89ls2oND_Re"
      },
      "execution_count": null,
      "outputs": []
    },
    {
      "cell_type": "code",
      "source": [
        "#  4) full state names\n",
        "state_dict={\n",
        "    'KS': 'Kansas',\n",
        "    'OH': 'Ohio',\n",
        "    'NJ': 'New Jersey',\n",
        "    'OK': 'Oklahoma',\n",
        "    'AL': 'Alabama',\n",
        "    'MA': 'Massachusetts',\n",
        "    'MO': 'Missouri',\n",
        "    'LA': 'Louisiana',\n",
        "    'WV': 'West Virginia',\n",
        "    'IN': 'Indiana',\n",
        "    'RI': 'Rhode Island',\n",
        "    'IA': 'Iowa',\n",
        "    'MT': 'Montana',\n",
        "    'NY': 'New York',\n",
        "    'ID': 'Idaho',\n",
        "    'VT': 'Vermont',\n",
        "    'VA': 'Virginia',\n",
        "    'TX': 'Texas',\n",
        "    'FL': 'Florida',\n",
        "    'CO': 'Colorado',\n",
        "    'AZ': 'Arizona',\n",
        "    'SC': 'South Carolina',\n",
        "    'NE': 'Nebraska',\n",
        "    'WY': 'Wyoming',\n",
        "    'HI': 'Hawaii',\n",
        "    'IL': 'Illinois',\n",
        "    'NH': 'New Hampshire',\n",
        "    'GA': 'Georgia',\n",
        "    'AK': 'Alaska',\n",
        "    'MD': 'Maryland',\n",
        "    'AR': 'Arkansas',\n",
        "    'WI': 'Wisconsin',\n",
        "    'OR': 'Oregon',\n",
        "    'MI': 'Michigan',\n",
        "    'DE': 'Delaware',\n",
        "    'UT': 'Utah',\n",
        "    'CA': 'California',\n",
        "    'MN': 'Minnesota',\n",
        "    'SD': 'South Dakota',\n",
        "    'NC': 'North Carolina',\n",
        "    'WA': 'Washington',\n",
        "    'NM': 'New Mexico',\n",
        "    'NV': 'Nevada',\n",
        "    'DC': 'District of Columbia',\n",
        "    'KY': 'Kentucky',\n",
        "    'ME': 'Maine',\n",
        "    'MS': 'Mississippi',\n",
        "    'TN': 'Tennessee',\n",
        "    'PA': 'Pennsylvania',\n",
        "    'CT': 'Connecticut',\n",
        "    'ND': 'North Dakota'\n",
        "    }\n",
        "\n",
        "df['state'] = df['state'].replace(state_dict)\n"
      ],
      "metadata": {
        "id": "FkWuDx9KK1ko"
      },
      "execution_count": null,
      "outputs": []
    },
    {
      "cell_type": "code",
      "source": [
        "df.head()"
      ],
      "metadata": {
        "id": "8Zz70F4vIN8X"
      },
      "execution_count": null,
      "outputs": []
    },
    {
      "cell_type": "code",
      "source": [
        "df.shape"
      ],
      "metadata": {
        "id": "FY-ObAlcNEhm"
      },
      "execution_count": null,
      "outputs": []
    },
    {
      "cell_type": "code",
      "source": [
        "df.info()"
      ],
      "metadata": {
        "id": "BTqkNp52NHXX"
      },
      "execution_count": null,
      "outputs": []
    },
    {
      "cell_type": "markdown",
      "source": [
        "### Analysis"
      ],
      "metadata": {
        "id": "TKY-hn1xCbc3"
      }
    },
    {
      "cell_type": "code",
      "source": [
        "churn_df = df[df['churn']==True]\n",
        "churn_df.head()"
      ],
      "metadata": {
        "id": "fTdMk5P4XFcC"
      },
      "execution_count": null,
      "outputs": []
    },
    {
      "cell_type": "code",
      "source": [
        "\n",
        "# Total No of Customers Churning\n",
        "print(\"No. of customers Churning :\",df[df['churn']==True].churn.count())\n",
        "\n",
        "# Variable Assigning to churned data\n",
        "churn_df = df[df['churn']==True]\n",
        "\n",
        "# Total No of Unique Area Code\n",
        "print(\"No of Unique Area Code :\", df['area_code'].nunique())\n",
        "\n",
        "# Customers On which Internaltion plan is activated\n",
        "print(\"No of customer with international plan activated :\", df[df['international_plan']=='Yes']['international_plan'].count())\n",
        "\n",
        "# Customers On which Voice mail plan is activated\n",
        "print(\"No of customer with Voice mail plan activated :\",df[df['voice_mail_plan']=='Yes']['voice_mail_plan'].count())\n",
        "\n",
        "churn_df"
      ],
      "metadata": {
        "id": "_C7BdPLdY5ql"
      },
      "execution_count": null,
      "outputs": []
    },
    {
      "cell_type": "code",
      "source": [
        "churn_df['churn'].count()/df['churn'].count() * 100"
      ],
      "metadata": {
        "id": "HinBj-5ubZCe"
      },
      "execution_count": null,
      "outputs": []
    },
    {
      "cell_type": "code",
      "source": [
        "# Customer churn in percentage\n",
        "cust_churn_perc = churn_df['churn'].count()/df['churn'].count() * 100\n",
        "print(f\"Percentage of customer churning : {round(cust_churn_perc,2)}%\")"
      ],
      "metadata": {
        "id": "94WBs8JWavz8"
      },
      "execution_count": null,
      "outputs": []
    },
    {
      "cell_type": "code",
      "source": [
        "# statistics of churned customers\n",
        "churn_df.describe()"
      ],
      "metadata": {
        "id": "dqP1Bv0v7pX9"
      },
      "execution_count": null,
      "outputs": []
    },
    {
      "cell_type": "code",
      "source": [
        "states = ['Alabama',\n",
        " 'Delaware',\n",
        " 'Georgia',\n",
        " 'Illinois',\n",
        " 'Kansas',\n",
        " 'Maine',\n",
        " 'Maryland',\n",
        " 'Massachusetts',\n",
        " 'Michigan',\n",
        " 'Minnesota',\n",
        " 'Nevada',\n",
        " 'New Jersey',\n",
        " 'North Carolina',\n",
        " 'Ohio',\n",
        " 'Oklahoma',\n",
        " 'South Dakota',\n",
        " 'Texas',\n",
        " 'Vermont',\n",
        " 'West Virginia',\n",
        " 'Wisconsin',\n",
        " 'Wyoming']"
      ],
      "metadata": {
        "id": "1DifaAyg2XsO"
      },
      "execution_count": null,
      "outputs": []
    },
    {
      "cell_type": "code",
      "source": [
        "states_of_interest = ['Alabama', 'Delaware', 'Georgia', 'Illinois', 'Kansas', 'Maine', 'Maryland', 'Massachusetts',\n",
        "                       'Michigan', 'Minnesota', 'Nevada', 'New Jersey', 'North Carolina', 'Ohio', 'Oklahoma',\n",
        "                       'South Dakota', 'Texas', 'Vermont', 'West Virginia', 'Wisconsin', 'Wyoming']\n",
        "\n",
        "filtered_states_df = churn_df[churn_df['state'].isin(states_of_interest)]\n",
        "state_cust_churn_for = filtered_states_df.groupby(['state'])['churn'].value_counts().reset_index(name='churn_customer')\n",
        "print(state_cust_churn_for.sum())\n",
        "state_cust_churn_for.sort_values(by='churn_customer',ascending=False).head(10)\n"
      ],
      "metadata": {
        "id": "bwyW3hHf2jjU"
      },
      "execution_count": null,
      "outputs": []
    },
    {
      "cell_type": "code",
      "source": [
        "# Statewise customer churning\n",
        "# churn_df.groupby('state')['churn'].sum()\n",
        "state_cust_churn = churn_df.groupby(['state'])['churn'].value_counts().reset_index(name='churn_customer')\n",
        "print(state_cust_churn.sum())\n",
        "state_cust_churn"
      ],
      "metadata": {
        "id": "axQgfgTo79Xf"
      },
      "execution_count": null,
      "outputs": []
    },
    {
      "cell_type": "code",
      "source": [
        "# top 10 states with highest churners\n",
        "state_cust_churn.sort_values(by='churn_customer',ascending=False).head(10)"
      ],
      "metadata": {
        "id": "cLkjVZQY9BAd"
      },
      "execution_count": null,
      "outputs": []
    },
    {
      "cell_type": "code",
      "source": [
        "# Account length wise churn data\n",
        "acc_len_churn = churn_df.groupby(['account_length'])['churn'].value_counts().reset_index(name='values')\n",
        "print(acc_len_churn.sum())\n",
        "acc_len_churn"
      ],
      "metadata": {
        "id": "jMWIPYGe9SQH"
      },
      "execution_count": null,
      "outputs": []
    },
    {
      "cell_type": "code",
      "source": [
        "# Area Code wise churn Data\n",
        "Area_code_churn_perc = (df.groupby(['area_code'])['churn'].mean()*100).reset_index()\n",
        "Area_code_churn_perc"
      ],
      "metadata": {
        "id": "ijBnf-OP-mp_"
      },
      "execution_count": null,
      "outputs": []
    },
    {
      "cell_type": "code",
      "source": [
        "# Area code wise Churn Count\n",
        "Area_code_churn_count = churn_df.groupby(['area_code'])['churn'].value_counts().reset_index(name='Counts')\n",
        "Area_code_churn_count"
      ],
      "metadata": {
        "id": "YhOz4Wiu_WnU"
      },
      "execution_count": null,
      "outputs": []
    },
    {
      "cell_type": "code",
      "source": [
        "#Poor Connectivity by intersection of state by area code\n",
        "Area_state_churn = churn_df.groupby(['area_code'])['state'].unique().reset_index(name='unique_state')\n",
        "Area_state_churn"
      ],
      "metadata": {
        "id": "ygxtsj3m_h_f"
      },
      "execution_count": null,
      "outputs": []
    },
    {
      "cell_type": "code",
      "source": [
        "# Assigning the list of state of each area\n",
        "Area_408_state_churn = Area_state_churn.loc[0,'unique_state']\n",
        "Area_415_state_churn = Area_state_churn.loc[1,'unique_state']\n",
        "Area_510_state_churn = Area_state_churn.loc[2,'unique_state']\n",
        "\n",
        "inter_1= set(Area_408_state_churn).intersection(set(Area_415_state_churn))\n",
        "poor_connectivity_states = set(inter_1).intersection(set(Area_510_state_churn))\n",
        "\n",
        "print(f\"Intersection by different areas code of churning gives {len(poor_connectivity_states)} poor connectivity states\")\n",
        "print(\"Try to short down the list of state by different dataset to generate more precise poor connectivity states\")"
      ],
      "metadata": {
        "id": "pgFkSnc0AYK0"
      },
      "execution_count": null,
      "outputs": []
    },
    {
      "cell_type": "code",
      "source": [
        "# Percentage of Customers with and without international Plan churning to other networks\n",
        "intl_plan_churn = (df.groupby(['international_plan'])['churn'].mean()*100).reset_index(name='Churn %')\n",
        "print(intl_plan_churn)\n",
        "\n",
        "# Total number of Customers churning with international plan\n",
        "churn_intl_yes = churn_df[churn_df['international_plan']=='Yes']\n",
        "print(f\"No. of Customers churning having International plan is {churn_intl_yes['international_plan'].value_counts()[0]}\")\n",
        "\n",
        "# Total number of Customers churning without international plan\n",
        "churn_intl_no = churn_df[churn_df['international_plan']=='No']\n",
        "print(f\"No. of Customers churning without having International plan is {churn_intl_no['international_plan'].value_counts()[0]}\")"
      ],
      "metadata": {
        "id": "kRcdHzOlBf4f"
      },
      "execution_count": null,
      "outputs": []
    },
    {
      "cell_type": "code",
      "source": [
        "# Percentage of People with and without Voice mail Plan churning to other networks\n",
        "vmail_plan_churn = (df.groupby(['voice_mail_plan'])['churn'].mean()*100).reset_index(name='Churn %')\n",
        "print(vmail_plan_churn)\n",
        "\n",
        "# Total number of people churning with vmail plan\n",
        "churn_vmail_yes = churn_df[churn_df['voice_mail_plan']=='Yes']\n",
        "print(f\"No of Customers churning having vmail plan is {churn_vmail_yes['voice_mail_plan'].value_counts()[0]}\")\n",
        "\n",
        "# Total number of people churning without vmail plan\n",
        "churn_vmail_no = churn_df[churn_df['voice_mail_plan']=='No']\n",
        "print(f\"No of Customers churning not having vmail plan is {churn_vmail_no['voice_mail_plan'].value_counts()[0]}\")"
      ],
      "metadata": {
        "id": "E5XM8Y3PEIUE"
      },
      "execution_count": null,
      "outputs": []
    },
    {
      "cell_type": "markdown",
      "source": [
        "Churners with plans"
      ],
      "metadata": {
        "id": "Ef4y3pG-UIGx"
      }
    },
    {
      "cell_type": "code",
      "source": [
        "# Customers churning having intl plan and vmail plan\n",
        "intl_vmail_yes = churn_df[(churn_df['international_plan'] == 'Yes') & (churn_df['voice_mail_plan'] == 'Yes')]\n",
        "if len(intl_vmail_yes) > 0:\n",
        "    print(f\"No of Customers churning having intl and vmail plan are {intl_vmail_yes['churn'].value_counts().get(0)}\")\n",
        "else:\n",
        "    print(\"No customers churning with both intl plan and vmail plan.\")\n",
        "print()\n",
        "# Customers churning having no intl plan and no vmail plan\n",
        "intl_vmail_no = churn_df[(churn_df['international_plan'] == 'No') & (churn_df['voice_mail_plan'] == 'No')]\n",
        "if len(intl_vmail_no) > 0:\n",
        "    print(f\"No of Customers churning having no intl plan and no vmail plan are {intl_vmail_no['churn'].value_counts().get(0)}\")\n",
        "else:\n",
        "    print(\"No customers churning with neither intl plan nor vmail plan.\")\n",
        "print()\n",
        "# Customers churning having intl plan but no vmail plan\n",
        "intl_yes_vmail_no = churn_df[(churn_df['international_plan'] == 'Yes') & (churn_df['voice_mail_plan'] == 'No')]\n",
        "if len(intl_yes_vmail_no) > 0:\n",
        "    print(f\"No of Customers churning having intl plan but no vmail plan are {intl_yes_vmail_no['churn'].value_counts().get(0)}\")\n",
        "else:\n",
        "    print(\"No customers churning with intl plan but no vmail plan.\")\n",
        "print()\n",
        "# Customers churning having no intl plan but vmail plan\n",
        "intl_no_vmail_yes = churn_df[(churn_df['international_plan'] == 'No') & (churn_df['voice_mail_plan'] == 'Yes')]\n",
        "if len(intl_no_vmail_yes) > 0:\n",
        "    print(f\"No of Customers churning having no intl plan but vmail plan are {intl_no_vmail_yes['churn'].value_counts().get(0)}\")\n",
        "else:\n",
        "    print(\"No customers churning with no intl plan but vmail plan.\")\n"
      ],
      "metadata": {
        "id": "2NvYTJhBEllW"
      },
      "execution_count": null,
      "outputs": []
    },
    {
      "cell_type": "code",
      "source": [
        "\n",
        "# no of customer having both plan\n",
        "plan_intl_vmail_yes = df[(df['international_plan'] == 'Yes') & (df['voice_mail_plan'] == 'Yes')]\n",
        "print(plan_intl_vmail_yes['voice_mail_plan'].count() )\n",
        "(intl_vmail_yes['churn'].value_counts().get(0)/plan_intl_vmail_yes['voice_mail_plan'].count() )*100"
      ],
      "metadata": {
        "id": "ukSyWxHYx0ug"
      },
      "execution_count": null,
      "outputs": []
    },
    {
      "cell_type": "code",
      "source": [
        "# no of customer having both plan\n",
        "plan_intl_vmail_no = df[(df['international_plan'] == 'No') & (df['voice_mail_plan'] == 'No')]\n",
        "print(plan_intl_vmail_no['voice_mail_plan'].count())\n",
        "(intl_vmail_no['churn'].value_counts().get(0)/plan_intl_vmail_no['voice_mail_plan'].count() )*100\n"
      ],
      "metadata": {
        "id": "f9VMpGvCyps5"
      },
      "execution_count": null,
      "outputs": []
    },
    {
      "cell_type": "code",
      "source": [
        "# no of customer having int plan but no vmail plan\n",
        "plan_yes_intl_vmail_no = df[(df['international_plan'] == 'Yes') & (df['voice_mail_plan'] == 'No')]\n",
        "print(plan_yes_intl_vmail_no['voice_mail_plan'].count())\n",
        "(intl_yes_vmail_no['churn'].value_counts().get(0)/plan_yes_intl_vmail_no['voice_mail_plan'].count() )*100"
      ],
      "metadata": {
        "id": "fE-g9zDEzgvW"
      },
      "execution_count": null,
      "outputs": []
    },
    {
      "cell_type": "code",
      "source": [
        "plan_no_intl_vmail_yes = df[(df['international_plan'] == 'No') & (df['voice_mail_plan'] == 'Yes')]\n",
        "print(plan_no_intl_vmail_yes['voice_mail_plan'].count())\n",
        "(intl_no_vmail_yes['churn'].value_counts().get(0)/plan_no_intl_vmail_yes['voice_mail_plan'].count() )*100"
      ],
      "metadata": {
        "id": "2al5sfkN0IUy"
      },
      "execution_count": null,
      "outputs": []
    },
    {
      "cell_type": "code",
      "source": [
        "\n",
        "\n",
        "# Customers churning having no intl plan and no vmail plan\n",
        "intl_vmail_no = churn_df[(churn_df['international_plan'] == 'No') & (churn_df['voice_mail_plan'] == 'No')]\n",
        "if len(intl_vmail_no) > 0:\n",
        "    print(f\"No of Customers churning having no intl plan and no vmail plan are {intl_vmail_no['churn'].value_counts().get(0)}\")\n",
        "else:\n",
        "    print(\"No customers churning with neither intl plan nor vmail plan.\")\n",
        "print()\n",
        "# Customers churning having intl plan but no vmail plan\n",
        "intl_yes_vmail_no = churn_df[(churn_df['international_plan'] == 'Yes') & (churn_df['voice_mail_plan'] == 'No')]\n",
        "if len(intl_yes_vmail_no) > 0:\n",
        "    print(f\"No of Customers churning having intl plan but no vmail plan are {intl_yes_vmail_no['churn'].value_counts().get(0)}\")\n",
        "else:\n",
        "    print(\"No customers churning with intl plan but no vmail plan.\")\n",
        "print()\n",
        "# Customers churning having no intl plan but vmail plan\n",
        "intl_no_vmail_yes = churn_df[(churn_df['international_plan'] == 'No') & (churn_df['voice_mail_plan'] == 'Yes')]\n",
        "if len(intl_no_vmail_yes) > 0:\n",
        "    print(f\"No of Customers churning having no intl plan but vmail plan are {intl_no_vmail_yes['churn'].value_counts().get(0)}\")\n",
        "else:\n",
        "    print(\"No customers churning with no intl plan but vmail plan.\")"
      ],
      "metadata": {
        "id": "-QDuWMRCxxbE"
      },
      "execution_count": null,
      "outputs": []
    },
    {
      "cell_type": "code",
      "source": [
        "len(churn_df['state'].unique())"
      ],
      "metadata": {
        "id": "WYNnofag2AGP"
      },
      "execution_count": null,
      "outputs": []
    },
    {
      "cell_type": "code",
      "source": [
        "# Poor Connectivity States\n",
        "# States Sorted with respect to international and voice mail plan\n",
        "state_intl_vmail_yes=intl_vmail_yes['state'].unique()\n",
        "state_intl_vmail_no =intl_vmail_no['state'].unique()\n",
        "state_intl_yes_vmail_no= intl_yes_vmail_no['state'].unique()\n",
        "state_intl_no_vmail_yes= intl_no_vmail_yes['state'].unique()\n",
        "\n",
        "# Intersection of 4 types of plan made\n",
        "inter_1 = set(state_intl_vmail_yes).intersection(set(state_intl_vmail_no))\n",
        "inter_2 = set(state_intl_yes_vmail_no).intersection(set(state_intl_no_vmail_yes))\n",
        "Intersection =set(inter_1).intersection(set(inter_2))\n",
        "print(f\"List of poor connectivity states are : {list(Intersection)}\")"
      ],
      "metadata": {
        "id": "zEWsLfH_UM9u"
      },
      "execution_count": null,
      "outputs": []
    },
    {
      "cell_type": "code",
      "source": [
        "# Percentage of People with number of Voice mail messages churning/not-churning to other networks\n",
        "vmail_mssg_churn = df.groupby(['churn'])['number_vmail_messages'].mean().reset_index(name='perc_vmail_mssg')\n",
        "vmail_mssg_churn"
      ],
      "metadata": {
        "id": "NohqCHlgVIo3"
      },
      "execution_count": null,
      "outputs": []
    },
    {
      "cell_type": "code",
      "source": [
        "numeric = df.columns.astype()"
      ],
      "metadata": {
        "id": "m1OSnWkGYRZQ"
      },
      "execution_count": null,
      "outputs": []
    },
    {
      "cell_type": "code",
      "source": [
        "# Average of feature for churners and non churners\n",
        "for col in numerical_columns:\n",
        "  print(df.groupby('churn')[col].mean().reset_index())\n",
        "  print()\n",
        "\n"
      ],
      "metadata": {
        "id": "pGCCjYM2XxkN"
      },
      "execution_count": null,
      "outputs": []
    },
    {
      "cell_type": "code",
      "source": [
        "#creating total [calls-minuts-charge] without considering international calls\n",
        "df[\"no_inter_total_calls\"]=df['total_day_calls']+df['total_eve_calls']+df['total_night_calls']\n",
        "df[\"no_inter_total_revenue\"]=df['total_day_charge']+df['total_eve_charge']+df['total_night_charge']\n",
        "df[\"no_inter_total_minutes\"]=df['total_day_minutes']+df['total_eve_minutes']+df['total_night_minutes']\n",
        "\n",
        "# creating total columns with internationl [calls-minuts-charge]\n",
        "df[\"total_calls\"]=df['total_day_calls']+df['total_eve_calls']+df['total_night_calls']+df['total_intl_calls']\n",
        "df[\"total_revenue\"]=df['total_day_charge']+df['total_eve_charge']+df['total_night_charge']+df['total_intl_charge']\n",
        "df[\"total_minutes\"]=df['total_day_minutes']+df['total_eve_minutes']+df['total_night_minutes']+df['total_intl_minutes']"
      ],
      "metadata": {
        "id": "typkLyzDIeyx"
      },
      "execution_count": null,
      "outputs": []
    },
    {
      "cell_type": "code",
      "source": [
        "df.columns"
      ],
      "metadata": {
        "id": "DphbLSGGf1Ye"
      },
      "execution_count": null,
      "outputs": []
    },
    {
      "cell_type": "code",
      "source": [
        "mins_per_call = df[\"no_inter_total_minutes\"].sum()/ df[\"no_inter_total_calls\"].sum()\n",
        "print(f\"Minute per call for Non-International calls: {mins_per_call:.2f} min per call\")\n",
        "print()\n",
        "\n",
        "charge_per_min = df[\"no_inter_total_revenue\"].sum()/ df[\"no_inter_total_minutes\"].sum()\n",
        "print(f\"Cost per Minute for Non-International Minutes: ${charge_per_min:.2f} per minute\")\n",
        "print()\n",
        "\n",
        "mins_per_call_int = df[\"total_intl_minutes\"].sum()/ df[\"total_intl_calls\"].sum()\n",
        "print(f\"Minute per call for International calls: {mins_per_call_int:.2f} min per call\")\n",
        "print()\n",
        "\n",
        "charge_per_min_int =  df[\"total_intl_charge\"].sum() /df[\"total_intl_minutes\"].sum()\n",
        "print(f\"Cost per Minute for International Minutes: ${charge_per_min_int:.2f} per minute\")"
      ],
      "metadata": {
        "id": "vGeIJSIBdacP"
      },
      "execution_count": null,
      "outputs": []
    },
    {
      "cell_type": "markdown",
      "source": [
        " #### Revenue is generated without international calls “charge”?"
      ],
      "metadata": {
        "id": "kDiT8vGUC54A"
      }
    },
    {
      "cell_type": "code",
      "source": [
        "# Revenue is generated without international calls “charge”?\n",
        "revenue_without_inter = df[\"no_inter_total_revenue\"].sum()\n",
        "print(f\"Revenue is generated without international calls: ${revenue_without_inter}\")\n",
        "print()\n",
        "\n",
        "# Revenue is generated with international calls “charge”?\n",
        "total_revenue = df[\"total_revenue\"].sum()\n",
        "print(f\"Revenue is generated with international calls: ${total_revenue}\")\n",
        "print()\n",
        "\n",
        "# Revenue is generated only from international calls\n",
        "print(f\"Revenue is generated only from international calls: ${round(total_revenue - revenue_without_inter,2)}\")"
      ],
      "metadata": {
        "id": "M9vGbgkTCtc8"
      },
      "execution_count": null,
      "outputs": []
    },
    {
      "cell_type": "markdown",
      "source": [
        "How much profit generated from international calls from people who have international plan?\n",
        "\n",
        "also how much revenue generated from international calls from people who don’t have international plan?"
      ],
      "metadata": {
        "id": "_p9jcCmoFN8E"
      }
    },
    {
      "cell_type": "code",
      "source": [
        "# Calculate total cost of international calls for people with an international plan\n",
        "total_cost_intl_plan = df.loc[df['international_plan'] == 'Yes', 'total_intl_charge'].sum()\n",
        "\n",
        "# Calculate total cost of international calls for people without an international plan\n",
        "total_cost_no_intl_plan = df.loc[df['international_plan'] == 'No', 'total_intl_charge'].sum()\n",
        "\n",
        "print(f\"Revenue generated from international calls for people with international plan: ${total_cost_intl_plan:.2f}\")\n",
        "print()\n",
        "print(f\"Revenue generated from international calls for people without international plan: ${total_cost_no_intl_plan:.2f}\")"
      ],
      "metadata": {
        "id": "W1SoE5iHFPTs"
      },
      "execution_count": null,
      "outputs": []
    },
    {
      "cell_type": "markdown",
      "source": [
        "**it looks that cost per minute for international calls doesn't chage for people with and without the plan**"
      ],
      "metadata": {
        "id": "KgdFwerWFoVQ"
      }
    },
    {
      "cell_type": "code",
      "source": [
        "# Calculate total number of international minutes for people with an international plan\n",
        "total_minutes_intl_plan = df.loc[df['international_plan'] == 'Yes', 'total_intl_minutes'].sum()\n",
        "\n",
        "# Calculate total number of international minutes for people without an international plan\n",
        "total_minutes_no_intl_plan = df.loc[df['international_plan'] == 'No', 'total_intl_minutes'].sum()\n",
        "\n",
        "# Calculate cost per minute for people with an international plan\n",
        "cost_per_minute_intl_plan = total_cost_intl_plan / total_minutes_intl_plan\n",
        "\n",
        "# Calculate cost per minute for people without an international plan\n",
        "cost_per_minute_no_intl_plan = total_cost_no_intl_plan / total_minutes_no_intl_plan\n",
        "\n",
        "print(f\"Cost per minute for people with an international plan: ${cost_per_minute_intl_plan:.2f}\")\n",
        "print()\n",
        "print(f\"Cost per minute for people without an international plan: ${cost_per_minute_no_intl_plan:.2f}\")"
      ],
      "metadata": {
        "id": "AbaxKvDUFovl"
      },
      "execution_count": null,
      "outputs": []
    },
    {
      "cell_type": "code",
      "source": [
        "# Customer Service Call data\n",
        "print(\"No of unique service calls made :\", df['customer_service_calls'].nunique())\n",
        "\n",
        "# Percentage of churning based on the customer service calls made\n",
        "(df.groupby(['customer_service_calls'])['churn'].mean()*100).reset_index(name='Perc_churned')"
      ],
      "metadata": {
        "id": "Qj-fohbvoi0a"
      },
      "execution_count": null,
      "outputs": []
    },
    {
      "cell_type": "markdown",
      "source": [
        "### What all manipulations have you done and insights you found?"
      ],
      "metadata": {
        "id": "MSa1f5Uengrz"
      }
    },
    {
      "cell_type": "markdown",
      "source": [
        "1) corrected column names <br>\n",
        "\n",
        "2) added new columns <br>\n",
        "\n",
        "3) Label encoding to  international_plans, voice_mail_plan, churn columns <br>\n",
        "\n",
        "4) Area code should be a categorical column <br>\n",
        "\n",
        "5)  Full state names are more readable and intuitive for individuals who may not be familiar with state abbreviations. so using full names.\n"
      ],
      "metadata": {
        "id": "LbyXE7I1olp8"
      }
    },
    {
      "cell_type": "code",
      "source": [
        "churn_df.groupby('international_plan')['churn'].sum()"
      ],
      "metadata": {
        "id": "H3oNjBjkurON"
      },
      "execution_count": null,
      "outputs": []
    },
    {
      "cell_type": "markdown",
      "source": [
        "1) **Total day charge is comparatively higher for the users who has churned**\n",
        "```\n",
        "   churn     Mean total_day_charge\n",
        "0  No         29.780421\n",
        "1  Yes        35.175921\n",
        "\n",
        "```\n",
        "1) **Users Having inernational plan activated are more likely to churn**\n",
        "\n",
        "```\n",
        "  international_plan    Churn %\n",
        "0                 No  11.495017\n",
        "1                Yes  42.414861\n",
        "```\n",
        "\n",
        "\n",
        "\n",
        "```\n",
        "  voice_mail_plan    Churn %\n",
        "0              No  16.715056\n",
        "1             Yes   8.676790\n",
        "```\n",
        "\n",
        "3) **Churners based on int and vmail plan**\n",
        "\n",
        "    i) having both plan 39% churn rate\n",
        "\n",
        "    ii) having int plan but no vmail plan 43% churn rate\n",
        "\n",
        "4) states having churning % greater than 20%"
      ],
      "metadata": {
        "id": "HI8hGQPstPSr"
      }
    },
    {
      "cell_type": "markdown",
      "source": [
        "In data wrangling the first thing we did is to find out how customers have churn and how many are not and their rate. We know that plotting charts will give us more visual representation. So from this we got to know that there are ~14.5 % churn customers are there.\n",
        "\n",
        "After that we did some manipulations on basis of area code which we tabularised it.\n",
        "\n",
        "![download (1).png](data:image/png;base64,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)\n",
        "\n",
        "From above table we can see that more customer are from area code 415 but if we check the distribution of churn it almost same in all area code.\n",
        "* **cost per min**\n",
        "     \n",
        "  - For International calling with and without *International plan*\n",
        "\n",
        "    - With : $0.27\n",
        "\n",
        "    - Without : $0.27\n",
        "  - for international and non international call ( without considering plan)\n",
        "    - international : $0.27\n",
        "    - non international : $0.10\n",
        "\n",
        "\n",
        "**Churn on basis of international plan**\n",
        "\n",
        "In this we found out that those who has international plan their churn rate is higher, almost 42.41 % customers are churned.\n",
        "\n",
        "\n",
        "**Churn on basis of International & Voice mail plan**\n",
        "\n",
        "Total Customer churn are :- 483\n",
        "\n",
        "![download (2).png](data:image/png;base64,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)\n",
        "\n",
        "So, from this table we can say that those who has neither international plan nor having vmail plan are churned high, almost around 62 %."
      ],
      "metadata": {
        "id": "9ytXndWXr46I"
      }
    },
    {
      "cell_type": "code",
      "source": [],
      "metadata": {
        "id": "cgZph1_Jlur7"
      },
      "execution_count": null,
      "outputs": []
    },
    {
      "cell_type": "markdown",
      "source": [
        "## ***4. Data Vizualization, Storytelling & Experimenting with charts : Understand the relationships between variables***"
      ],
      "metadata": {
        "id": "GF8Ens_Soomf"
      }
    },
    {
      "cell_type": "markdown",
      "source": [
        "# **Univariate analysis**"
      ],
      "metadata": {
        "id": "tfeNzPNZHR1w"
      }
    },
    {
      "cell_type": "code",
      "source": [
        "numerical_columns = df.select_dtypes(include=['number']).columns.tolist()\n",
        "categorical_columns = df.select_dtypes(exclude=['number']).columns.tolist()\n",
        "\n",
        "# Print the lists of numerical and categorical columns\n",
        "print(\"Numerical Columns:\", numerical_columns)\n",
        "print(\"Categorical Columns:\", categorical_columns)"
      ],
      "metadata": {
        "id": "ChLkkDOKHxr6"
      },
      "execution_count": null,
      "outputs": []
    },
    {
      "cell_type": "markdown",
      "source": [
        "## **Categorical columns**"
      ],
      "metadata": {
        "id": "tRLfwteUHcc5"
      }
    },
    {
      "cell_type": "code",
      "source": [
        "categorical_col = [ 'area_code', 'international_plan', 'voice_mail_plan', 'churn']\n",
        "total_count = len(df)\n",
        "\n",
        "for column in categorical_columns:\n",
        "    print(f\"Column: {column}\")\n",
        "    value_counts = df[column].value_counts()\n",
        "    percentage_values = (value_counts / total_count) * 100\n",
        "\n",
        "    for value, count in value_counts.items():\n",
        "        percentage = percentage_values[value]\n",
        "        print(f\"{value}: Count = {count}, Percentage = {percentage:.2f}%\")\n",
        "\n",
        "    print(\"\\n\")"
      ],
      "metadata": {
        "id": "Ps4lYnQ3EiF5"
      },
      "execution_count": null,
      "outputs": []
    },
    {
      "cell_type": "markdown",
      "source": [
        "### 1) Count plot"
      ],
      "metadata": {
        "id": "SuYhuRk3gX9Q"
      }
    },
    {
      "cell_type": "code",
      "source": [
        "# Distribution of categorical columns using count plots\n",
        "for column in categorical_col:\n",
        "    plt.figure(figsize=(9, 7))\n",
        "    ax = sns.countplot(data=df, x=column, palette='Set2')\n",
        "\n",
        "    # Adding annotations on top of the bars\n",
        "    for p in ax.patches:\n",
        "        ax.annotate(f'{p.get_height()}', (p.get_x() + p.get_width() / 2., p.get_height()),\n",
        "                    ha='center', va='center', xytext=(0, 10), textcoords='offset points')\n",
        "\n",
        "    plt.xlabel(column)\n",
        "    plt.ylabel('Count')\n",
        "    plt.title(f'Count Plot of {column}')\n",
        "    plt.xticks(rotation=90)\n",
        "\n",
        "\n",
        "    # Show the plot\n",
        "    plt.show()\n",
        "\n",
        "    # Close the plot to avoid overlapping when creating the next plot\n",
        "    plt.close()\n"
      ],
      "metadata": {
        "id": "-2m__42QLmd8"
      },
      "execution_count": null,
      "outputs": []
    },
    {
      "cell_type": "markdown",
      "source": [
        "for better visuals created separate plots for each feature"
      ],
      "metadata": {
        "id": "FA_YImf1L0Gv"
      }
    },
    {
      "cell_type": "code",
      "source": [
        "\n",
        "plt.figure(figsize=(5, 4))\n",
        "sns.countplot(data=df, x='area_code', palette='Set2')\n",
        "plt.xlabel('Area Code')\n",
        "plt.ylabel('Count')\n",
        "plt.title(f'Count Plot of area_code')\n",
        "plt.xticks(rotation=90)\n",
        "plt.show()\n",
        "plt.close()"
      ],
      "metadata": {
        "id": "1ikpf3E1I82s"
      },
      "execution_count": null,
      "outputs": []
    },
    {
      "cell_type": "code",
      "source": [],
      "metadata": {
        "id": "ifi2iVC28bgt"
      },
      "execution_count": null,
      "outputs": []
    },
    {
      "cell_type": "code",
      "source": [
        "plt.figure(figsize=(5, 4))\n",
        "sns.countplot(data=df, x='international_plan', palette='Set2')\n",
        "plt.xlabel('international_plan')\n",
        "plt.ylabel('Count')\n",
        "plt.title(f'Count Plot of international_plan')\n",
        "plt.xticks(rotation=90)\n",
        "plt.show()\n",
        "plt.close()"
      ],
      "metadata": {
        "id": "2KRA2CxmNyrC"
      },
      "execution_count": null,
      "outputs": []
    },
    {
      "cell_type": "code",
      "source": [
        "plt.figure(figsize=(5, 4))\n",
        "sns.countplot(data=df, x=column, palette='Set2')\n",
        "plt.xlabel('voice_mail_plan')\n",
        "plt.ylabel('Count')\n",
        "plt.title(f'Count Plot of voice_mail_plan')\n",
        "plt.xticks(rotation=90)\n",
        "plt.show()\n",
        "plt.close()"
      ],
      "metadata": {
        "id": "QcJWlrhmOy9u"
      },
      "execution_count": null,
      "outputs": []
    },
    {
      "cell_type": "code",
      "source": [
        "plt.figure(figsize=(10, 5))\n",
        "sns.countplot(data=df, x='state')\n",
        "plt.xlabel('state')\n",
        "plt.ylabel('Count')\n",
        "plt.title('Count Plot of state')\n",
        "plt.xticks(rotation=90)\n",
        "plt.show()\n",
        "plt.close()"
      ],
      "metadata": {
        "id": "GZlygqtHKLE7"
      },
      "execution_count": null,
      "outputs": []
    },
    {
      "cell_type": "markdown",
      "source": [
        "##### 1. Why did you pick the specific chart?"
      ],
      "metadata": {
        "id": "qudqov8MQL7c"
      }
    },
    {
      "cell_type": "markdown",
      "source": [
        "**countplot** is suitable for visualizing categorical data as it efficiently displays the count of each category, offering a quick overview of the distribution of categorical variables."
      ],
      "metadata": {
        "id": "kP8ml9pwQhR0"
      }
    },
    {
      "cell_type": "markdown",
      "source": [
        "##### 2. What is/are the insight(s) found from the chart?"
      ],
      "metadata": {
        "id": "Gr-tsH9tQL7d"
      }
    },
    {
      "cell_type": "markdown",
      "source": [
        "\n",
        "\n",
        "1) 1st chart reveals a concentration of users in area code 415, with approximately equal numbers in area codes 510 and 408.\n",
        "\n",
        "2) 2nd chart illustrates that the majority of our users, around 90%, do not have an international plan, indicating a low adoption of this service among our customer base.\n",
        "\n",
        "3) According to the 3rd chart, approximately 27.66% of our users have opted for the voicemail plan, suggesting a moderate level of interest in this feature.\n",
        "\n",
        "4) 4rth chart highlights that West Virginia has the highest customer count, contrasting with California, which has the lowest number of customers compared to other states."
      ],
      "metadata": {
        "id": "FZU71O0dRseG"
      }
    },
    {
      "cell_type": "markdown",
      "source": [
        "##### 3. Will the gained insights help creating a positive business impact?\n",
        "\n",
        "##### Are there any insights that lead to negative growth? Justify with specific reason."
      ],
      "metadata": {
        "id": "P-bKU3uRQL7d"
      }
    },
    {
      "cell_type": "markdown",
      "source": [
        "1) **Concentration in Area Code 415:**\n",
        "   - *Positive Impact:* Enables targeted marketing and resource allocation.\n",
        "   - *Negative Growth:* Unlikely, as concentrating resources strategically can be positive.\n",
        "\n",
        "2) **Low Adoption of International Plan:**\n",
        "   - *Positive Impact:* Identifies opportunities for promoting international plans.\n",
        "   - *Negative Growth:* Possible if unaddressed, as it indicates missed revenue opportunities.\n",
        "\n",
        "3) **Moderate Voicemail Plan Adoption:**\n",
        "   - *Positive Impact:* Allows for targeted promotions and improved customer engagement.\n",
        "   - *Negative Growth:* Potential if adoption remains stagnant and the plan is a significant revenue driver.\n",
        "\n",
        "4) **State-wise Customer Distribution:**\n",
        "   - *Positive Impact:* Informs tailored strategies for marketing and service improvements.\n",
        "   - *Negative Growth:* Unlikely from the insight itself, but not addressing low customer counts in certain states could hinder business expansion."
      ],
      "metadata": {
        "id": "PYw1KAlLc5NR"
      }
    },
    {
      "cell_type": "markdown",
      "source": [
        "### 2) Donut Chart"
      ],
      "metadata": {
        "id": "Qzkxg6wGgMRO"
      }
    },
    {
      "cell_type": "code",
      "source": [
        "churn_percentage = (df['churn'].value_counts() / df.shape[0] * 100).round(2).astype(str) + '%'\n",
        "churn_percentage"
      ],
      "metadata": {
        "id": "dfvxW1ObbWk_"
      },
      "execution_count": null,
      "outputs": []
    },
    {
      "cell_type": "code",
      "source": [
        "data = df['churn'].value_counts()\n",
        "\n",
        "plt.pie(data.values, labels=['Not Churned', 'Churned'], autopct='%1.1f%%', startangle=90)\n",
        "centre_circle = plt.Circle((0, 0), 0.50, fc='white')\n",
        "fig = plt.gcf()\n",
        "fig.gca().add_artist(centre_circle)\n",
        "\n",
        "plt.axis('equal')\n",
        "plt.legend(loc='upper left')\n",
        "plt.title('Churn Distribution (Donut Chart)')\n",
        "plt.show()\n",
        "\n"
      ],
      "metadata": {
        "id": "Mv7aZWrla1j9"
      },
      "execution_count": null,
      "outputs": []
    },
    {
      "cell_type": "markdown",
      "source": [
        "##### 1. Why did you pick the specific chart?"
      ],
      "metadata": {
        "id": "dcB1bMN8c3vf"
      }
    },
    {
      "cell_type": "markdown",
      "source": [
        "I chose a donut chart to visually represent the Churn Distribution due to its aesthetic appeal and clear depiction of the proportion of Churned and Not Churned categories. The central hole enhances visual engagement while maintaining data clarity, making it an effective choice for this categorical analysis."
      ],
      "metadata": {
        "id": "EPo_FUpxc3vg"
      }
    },
    {
      "cell_type": "markdown",
      "source": [
        "##### 2. What is/are the insight(s) found from the chart?"
      ],
      "metadata": {
        "id": "msIC1CYbc3vh"
      }
    },
    {
      "cell_type": "markdown",
      "source": [
        "The donut chart provides a visual insight into the churn distribution, revealing that approximately 14.5% of customers have churned. This indicates the proportion of customers who ended their subscription, giving a quick and clear understanding of the overall churn rate in the dataset."
      ],
      "metadata": {
        "id": "1Ot8zznXc3vh"
      }
    },
    {
      "cell_type": "markdown",
      "source": [
        "##### 3. Will the gained insights help creating a positive business impact?\n",
        "Are there any insights that lead to negative growth? Justify with specific reason."
      ],
      "metadata": {
        "id": "WYl2myO6c3vh"
      }
    },
    {
      "cell_type": "markdown",
      "source": [
        "\n",
        "- *Positive Impact:* The pie chart's insight into a 14.5% churn rate provides a quick and clear understanding of the overall churn in the dataset. This information can guide strategic efforts to improve customer retention and loyalty.\n",
        "- *Negative Growth:* If the churn rate is considered high for the industry or business standards, it may lead to negative growth, indicating a potential problem in customer satisfaction and retention strategies.\n",
        "\n",
        "The churn distribution can positively impact business decisions by highlighting the need for effective retention strategies. Conversely, a high churn rate may signal negative growth potential if not addressed promptly."
      ],
      "metadata": {
        "id": "tEp0qy2tc3vi"
      }
    },
    {
      "cell_type": "markdown",
      "source": [
        "## **Numerical data**"
      ],
      "metadata": {
        "id": "R_JXlIGef3Al"
      }
    },
    {
      "cell_type": "code",
      "source": [
        "numerical_columns"
      ],
      "metadata": {
        "id": "A3wVG49ghBTU"
      },
      "execution_count": null,
      "outputs": []
    },
    {
      "cell_type": "markdown",
      "source": [
        "### 3) Box plot"
      ],
      "metadata": {
        "id": "AJhzwS4whU4s"
      }
    },
    {
      "cell_type": "markdown",
      "source": [
        "#### a)"
      ],
      "metadata": {
        "id": "ZtMCuiUJtF-4"
      }
    },
    {
      "cell_type": "code",
      "source": [
        "plt.figure(figsize=(14, 6))\n",
        "\n",
        "plt.subplot(1, 3, 1)\n",
        "sns.boxplot(data=df, y='total_day_calls', color='lightblue')\n",
        "plt.ylabel('Total Day Calls', fontsize=12)\n",
        "plt.ylim(bottom=0)\n",
        "# plt.title('Boxplot of Total Day Calls')\n",
        "\n",
        "plt.subplot(1, 3, 2)\n",
        "sns.boxplot(data=df, y='total_eve_calls', color='lightgreen')\n",
        "plt.ylabel('Total Eve Calls', fontsize=12)\n",
        "plt.ylim(bottom=0)\n",
        "# plt.title('Boxplot of Total Eve Calls')\n",
        "\n",
        "plt.subplot(1, 3, 3)\n",
        "sns.boxplot(data=df, y='total_night_calls', color='orange')\n",
        "plt.ylabel('Total Night Calls', fontsize=12)\n",
        "plt.ylim(bottom=0)\n",
        "# plt.title('Boxplot of Total Night Calls')\n",
        "\n",
        "plt.suptitle('Call Distribution Across Different Times of Day', fontsize=16)  # Overall title\n",
        "\n",
        "plt.subplots_adjust(wspace=0.4)\n",
        "# plt.grid()\n",
        "plt.show()\n",
        "\n"
      ],
      "metadata": {
        "id": "P_DoPtCUhaYH"
      },
      "execution_count": null,
      "outputs": []
    },
    {
      "cell_type": "markdown",
      "source": [
        "##### 1. Why did you pick the specific chart?"
      ],
      "metadata": {
        "id": "t6dVpIINYklI"
      }
    },
    {
      "cell_type": "markdown",
      "source": [
        "I chose boxplots for 'total_day_calls,' 'total_eve_calls,' and 'total_night_calls' because they effectively illustrate the distribution of numerical data, showcasing key statistics like median and quartiles. This visualization choice allows for a clear comparison of call distributions across different times of the day. Boxplots are particularly suitable for displaying variations in multiple categories, making it easy to observe and compare data distribution characteristics."
      ],
      "metadata": {
        "id": "5aaW0BYyYklI"
      }
    },
    {
      "cell_type": "markdown",
      "source": [
        "##### 2. What is/are the insight(s) found from the chart?"
      ],
      "metadata": {
        "id": "ijmpgYnKYklI"
      }
    },
    {
      "cell_type": "markdown",
      "source": [
        "From above plots can see that more calls are made in the morning with respect to the evening and night when it is the lowest"
      ],
      "metadata": {
        "id": "PSx9atu2YklI"
      }
    },
    {
      "cell_type": "markdown",
      "source": [
        "##### 3. Will the gained insights help creating a positive business impact?\n",
        "Are there any insights that lead to negative growth? Justify with specific reason."
      ],
      "metadata": {
        "id": "-JiQyfWJYklI"
      }
    },
    {
      "cell_type": "markdown",
      "source": [
        "**Morning Call Peak:** The graph shows that more calls happen in the morning compared to the evening and night, peaking during those early hours.\n",
        "\n",
        "**Impact on Business:**\n",
        "- *Positive Impact:* Knowing about the morning peak helps the business better plan staff schedules and promotions, making customers happier.\n",
        "\n",
        "- *Negative Growth:* Ignoring the busy morning time might mean missing chances to make customers happier and could lead to slower growth for the business."
      ],
      "metadata": {
        "id": "BcBbebzrYklV"
      }
    },
    {
      "cell_type": "markdown",
      "source": [
        "#### b)\n"
      ],
      "metadata": {
        "id": "MZOkDNBipydF"
      }
    },
    {
      "cell_type": "code",
      "source": [
        "plt.figure(figsize=(14, 6))\n",
        "\n",
        "plt.subplot(1, 3, 1)\n",
        "sns.boxplot(data=df, y='total_day_minutes', color='lightblue')\n",
        "plt.ylabel('Total Day Minutes', fontsize=12)\n",
        "plt.ylim(bottom=0)\n",
        "\n",
        "\n",
        "plt.subplot(1, 3, 2)\n",
        "sns.boxplot(data=df, y='total_eve_minutes', color='lightgreen')\n",
        "plt.ylabel('Total Eve Minutes', fontsize=12)\n",
        "plt.ylim(bottom=0)\n",
        "\n",
        "\n",
        "plt.subplot(1, 3, 3)\n",
        "sns.boxplot(data=df, y='total_night_minutes', color='orange')\n",
        "plt.ylabel('Total Night Minutes', fontsize=12)\n",
        "plt.ylim(bottom=0)\n",
        "\n",
        "plt.suptitle('Call Duration Distribution Across Different Times of Day', fontsize=16)  # Overall title\n",
        "\n",
        "plt.subplots_adjust(wspace=0.4)\n",
        "\n",
        "plt.show()\n"
      ],
      "metadata": {
        "id": "zZzUnwrwlf8H"
      },
      "execution_count": null,
      "outputs": []
    },
    {
      "cell_type": "markdown",
      "source": [
        "##### 1. Why did you pick the specific chart?"
      ],
      "metadata": {
        "id": "fge-S5ZAYoAp"
      }
    },
    {
      "cell_type": "markdown",
      "source": [
        "I chose boxplots for 'total_day_minutes,' 'total_eve_minutes,' and 'total_night_minutes' because they effectively showcase the distribution of call duration, highlighting key statistics like median and quartiles. This visualization choice allows for a clear comparison of call duration across different times of the day. Boxplots are especially suitable for revealing variations in multiple categories, providing a concise summary of the data distribution."
      ],
      "metadata": {
        "id": "5dBItgRVYoAp"
      }
    },
    {
      "cell_type": "markdown",
      "source": [
        "##### 2. What is/are the insight(s) found from the chart?"
      ],
      "metadata": {
        "id": "85gYPyotYoAp"
      }
    },
    {
      "cell_type": "markdown",
      "source": [
        "* Despite having more calls made during the day, we can see that users do not spend longer time on the calls in the evening.\n",
        "* Users tend to talk for longer time in the evening than other times."
      ],
      "metadata": {
        "id": "4jstXR6OYoAp"
      }
    },
    {
      "cell_type": "markdown",
      "source": [
        "##### 3. Will the gained insights help creating a positive business impact?\n",
        "Are there any insights that lead to negative growth? Justify with specific reason."
      ],
      "metadata": {
        "id": "RoGjAbkUYoAp"
      }
    },
    {
      "cell_type": "markdown",
      "source": [
        "**Morning Call Duration:** Despite more calls in the morning, users do not spend longer on calls during this time.\n",
        "\n",
        "**Evening Call Duration:** Users tend to talk for a longer time in the evening compared to other times.\n",
        "\n",
        "**Impact on Business:**\n",
        "- **Positive Impact:** Recognizing that users talk longer in the evening can inform targeted promotions or service enhancements during peak call duration, potentially increasing customer satisfaction.\n",
        "\n",
        "- **Negative Growth:** If the business fails to leverage the insight about shorter morning calls and longer evening calls, it may miss opportunities to tailor services or promotions, potentially leading to stagnation in customer engagement and business growth. Ignoring patterns in call duration might result in misaligned strategies and lower satisfaction during peak usage times."
      ],
      "metadata": {
        "id": "zfJ8IqMcYoAp"
      }
    },
    {
      "cell_type": "markdown",
      "source": [
        "#### c)\n"
      ],
      "metadata": {
        "id": "GngrzOXntMcx"
      }
    },
    {
      "cell_type": "code",
      "source": [
        "# Chart - 4 visualization code\n",
        "import matplotlib.pyplot as plt\n",
        "import seaborn as sns\n",
        "\n",
        "plt.figure(figsize=(14, 6))\n",
        "\n",
        "plt.subplot(1, 3, 1)\n",
        "sns.boxplot(data=df, y='total_day_charge', color='lightblue')\n",
        "plt.ylabel('Total Day Charge', fontsize=12)\n",
        "plt.ylim(bottom=0)\n",
        "\n",
        "\n",
        "plt.subplot(1, 3, 2)\n",
        "sns.boxplot(data=df, y='total_eve_charge', color='lightgreen')\n",
        "plt.ylabel('Total Eve Charge', fontsize=12)\n",
        "plt.ylim(bottom=0)\n",
        "\n",
        "plt.subplot(1, 3, 3)\n",
        "sns.boxplot(data=df, y='total_night_charge', color='orange')\n",
        "plt.ylabel('Total Night Charge', fontsize=12)\n",
        "plt.ylim(bottom=0)\n",
        "\n",
        "plt.suptitle('Charge Distribution Across Different Times of Day', fontsize=16)  # Overall title\n",
        "\n",
        "plt.subplots_adjust(wspace=0.4)\n",
        "\n",
        "plt.show()\n"
      ],
      "metadata": {
        "id": "irlUoxc8YrdO"
      },
      "execution_count": null,
      "outputs": []
    },
    {
      "cell_type": "markdown",
      "source": [
        "##### 1. Why did you pick the specific chart?"
      ],
      "metadata": {
        "id": "iky9q4vBYrdO"
      }
    },
    {
      "cell_type": "markdown",
      "source": [
        "I chose boxplots for 'total_day_charge,' 'total_eve_charge,' and 'total_night_charge' because they effectively visualize the distribution of call charges, emphasizing key statistics like median and quartiles. This choice allows for a clear comparison of charge distribution across different times of the day. Boxplots succinctly summarize the variability in multiple categories, offering insights into how charges vary during specific periods, which is essential for understanding customer behavior and optimizing pricing strategies."
      ],
      "metadata": {
        "id": "aJRCwT6DYrdO"
      }
    },
    {
      "cell_type": "markdown",
      "source": [
        "##### 2. What is/are the insight(s) found from the chart?"
      ],
      "metadata": {
        "id": "F6T5p64dYrdO"
      }
    },
    {
      "cell_type": "markdown",
      "source": [
        "The charges are maximum in the evening time and lowest in the night time.\n",
        "These plots are in conjunction with the minutes spoken."
      ],
      "metadata": {
        "id": "Xx8WAJvtYrdO"
      }
    },
    {
      "cell_type": "markdown",
      "source": [
        "##### 3. Will the gained insights help creating a positive business impact?\n",
        "Are there any insights that lead to negative growth? Justify with specific reason."
      ],
      "metadata": {
        "id": "y-Ehk30pYrdP"
      }
    },
    {
      "cell_type": "markdown",
      "source": [
        "\n",
        "1. **Evening Charges Peak:** Charges are highest in the evening, correlating with the longer call durations during that time.\n",
        "2. **Night Charges Lowest:** Charges are lowest at night, aligning with shorter call durations during this period.\n",
        "\n",
        "**Impact on Business:**\n",
        "- *Positive Impact:* Recognizing the evening charges peak allows the business to optimize pricing strategies or introduce targeted promotions during high-charge periods, potentially increasing revenue. Aligning charges with usage patterns can enhance customer satisfaction.\n",
        "\n",
        "- *Negative Growth:* If the business fails to align pricing strategies with usage patterns, especially during peak evening hours, it may miss opportunities to maximize revenue. Neglecting these insights could lead to misaligned pricing and potential dissatisfaction among customers, impacting long-term growth prospects."
      ],
      "metadata": {
        "id": "jLNxxz7MYrdP"
      }
    },
    {
      "cell_type": "markdown",
      "source": [
        "### 4) Histplot"
      ],
      "metadata": {
        "id": "bamQiAODYuh1"
      }
    },
    {
      "cell_type": "code",
      "source": [
        "df.columns"
      ],
      "metadata": {
        "id": "Dq5oOpA_uQnj"
      },
      "execution_count": null,
      "outputs": []
    },
    {
      "cell_type": "markdown",
      "source": [
        "#### a)"
      ],
      "metadata": {
        "id": "3RL6Yhxs1ogh"
      }
    },
    {
      "cell_type": "code",
      "source": [
        "# Chart - 5 visualization code\n",
        "\n",
        "plt.figure(figsize=(10, 6))\n",
        "\n",
        "\n",
        "sns.histplot(data=df, x='account_length', bins=20, kde=True, color='#5DADE2', edgecolor='black')\n",
        "\n",
        "\n",
        "plt.axvline(df['account_length'].mean(), color='red', linestyle='dashed', linewidth=2, label='Mean')\n",
        "\n",
        "plt.xlabel('Account Length')\n",
        "plt.ylabel('Frequency')\n",
        "plt.title('Distribution of Account Length')\n",
        "plt.legend()  # Show legend with the mean line\n",
        "\n",
        "sns.despine()\n",
        "\n",
        "plt.show()\n",
        "plt.close()\n"
      ],
      "metadata": {
        "id": "TIJwrbroYuh3"
      },
      "execution_count": null,
      "outputs": []
    },
    {
      "cell_type": "markdown",
      "source": [
        "##### 1. Why did you pick the specific chart?"
      ],
      "metadata": {
        "id": "QHF8YVU7Yuh3"
      }
    },
    {
      "cell_type": "markdown",
      "source": [
        "I chose a histogram with a kernel density estimate (KDE) for 'account_length' to visually represent the distribution of customer account durations. This choice effectively highlights the central tendency, spread, and common durations, providing a comprehensive overview. The dashed red line indicating the mean adds clarity to the average account length, facilitating insights into customer tenure patterns."
      ],
      "metadata": {
        "id": "dcxuIMRPYuh3"
      }
    },
    {
      "cell_type": "markdown",
      "source": [
        "##### 2. What is/are the insight(s) found from the chart?"
      ],
      "metadata": {
        "id": "GwzvFGzlYuh3"
      }
    },
    {
      "cell_type": "markdown",
      "source": [
        "**Insight from the Chart:**\n",
        "\n",
        "- **Central Tendency:** The dashed red line represents the mean account length, which is approximately 101.06. This indicates the average duration for which customers have held their accounts.\n",
        "\n",
        "- **Spread of Data:** The histogram and kernel density estimate (KDE) showcase the distribution of account lengths. The spread of data is evident, ranging from a minimum of 1 day to a maximum of 243 days.\n",
        "\n",
        "- **Common Durations:** The quartiles (25th, 50th, and 75th percentiles) provide insights into common durations. For instance, 50% of customers have an account length between 74 and 127 days, emphasizing the concentration of account durations within this range.\n",
        "\n",
        "Overall, the chart provides a visual summary of account length distribution, highlighting the central tendency and variability in customer account durations.\n"
      ],
      "metadata": {
        "id": "uyqkiB8YYuh3"
      }
    },
    {
      "cell_type": "markdown",
      "source": [
        "##### 3. Will the gained insights help creating a positive business impact?\n",
        "Are there any insights that lead to negative growth? Justify with specific reason."
      ],
      "metadata": {
        "id": "qYpmQ266Yuh3"
      }
    },
    {
      "cell_type": "markdown",
      "source": [
        "**Positive Impact:**\n",
        "Understanding the average account length guides tailored retention strategies, enabling the identification of loyal customers and opportunities for exclusive loyalty programs. Recognizing common durations informs targeted promotions for diverse customer segments, allowing for personalized engagement strategies.\n",
        "\n",
        "**Potential Negative Impact:**\n",
        "Neglecting variability in account lengths may lead to generalized strategies, missing opportunities for personalized engagement with loyal customers and negatively affecting customer satisfaction and business growth."
      ],
      "metadata": {
        "id": "_WtzZ_hCYuh4"
      }
    },
    {
      "cell_type": "markdown",
      "source": [
        "#### b)"
      ],
      "metadata": {
        "id": "OH-pJp9IphqM"
      }
    },
    {
      "cell_type": "code",
      "source": [
        "# Chart - 6 visualization code\n",
        "\n",
        "sns.set(style=\"whitegrid\")\n",
        "\n",
        "plt.figure(figsize=(10, 5))\n",
        "sns.histplot(data=df, x='number_vmail_messages', bins=20, kde=True, color='skyblue', edgecolor='black')\n",
        "\n",
        "\n",
        "plt.xlabel('Number of Voicemail Messages', fontsize=12)\n",
        "plt.ylabel('Frequency', fontsize=12)\n",
        "plt.title('Distribution of Voicemail Messages', fontsize=14)\n",
        "\n",
        "plt.grid(axis='y', linestyle='--', alpha=0.7)\n",
        "plt.yscale('log')\n",
        "plt.show()\n"
      ],
      "metadata": {
        "id": "kuRf4wtuphqN"
      },
      "execution_count": null,
      "outputs": []
    },
    {
      "cell_type": "markdown",
      "source": [
        "##### 1. Why did you pick the specific chart?"
      ],
      "metadata": {
        "id": "bbFf2-_FphqN"
      }
    },
    {
      "cell_type": "markdown",
      "source": [
        "I chose a special kind of bar chart to show how many people use different amounts of voicemail messages. I used logarithmic scale to make it easier to see the details, especially for people who don't use voicemail much. This helps us notice that many people hardly use voicemail, and a few use it a lot."
      ],
      "metadata": {
        "id": "loh7H2nzphqN"
      }
    },
    {
      "cell_type": "markdown",
      "source": [
        "##### 2. What is/are the insight(s) found from the chart?"
      ],
      "metadata": {
        "id": "_ouA3fa0phqN"
      }
    },
    {
      "cell_type": "markdown",
      "source": [
        "A substantial number of clients exhibit near to zero voicemail usage, forming a distinct peak, while the distribution for the remaining clients follows a more typical, bell-shaped pattern. This suggests a notable segment of users either does not utilize or has disabled voicemail services, presenting an opportunity for targeted engagement or service customization for this specific group."
      ],
      "metadata": {
        "id": "VECbqPI7phqN"
      }
    },
    {
      "cell_type": "markdown",
      "source": [
        "##### 3. Will the gained insights help creating a positive business impact?\n",
        "Are there any insights that lead to negative growth? Justify with specific reason."
      ],
      "metadata": {
        "id": "Seke61FWphqN"
      }
    },
    {
      "cell_type": "markdown",
      "source": [
        "\n",
        "1. **Distinct Voicemail Peak:** A substantial number of clients show near-zero voicemail usage, forming a distinct peak in the distribution.\n",
        "2. **Typical Bell-Shaped Pattern:** The distribution for the remaining clients follows a more typical, bell-shaped pattern.\n",
        "\n",
        "**Impact on Business:**\n",
        "- *Positive Impact:* Recognizing the significant segment with minimal voicemail usage presents an opportunity for targeted engagement or customized services. This insight can guide personalized marketing strategies or feature enhancements, potentially increasing user satisfaction and loyalty.\n",
        "\n",
        "- *Negative Growth:* Ignoring the distinct voicemail peak might result in missed opportunities for engagement and customization for a notable user segment. Failing to address the specific needs or preferences of this group could lead to dissatisfaction and potential attrition, impacting long-term business growth."
      ],
      "metadata": {
        "id": "DW4_bGpfphqN"
      }
    },
    {
      "cell_type": "markdown",
      "source": [
        "#### c)"
      ],
      "metadata": {
        "id": "PIIx-8_IphqN"
      }
    },
    {
      "cell_type": "code",
      "source": [
        "\n",
        "sns.set(style=\"whitegrid\")\n",
        "sns.set_palette(\"pastel\")\n",
        "\n",
        "# Create subplots\n",
        "fig, axes = plt.subplots(1, 2, figsize=(13, 5))\n",
        "\n",
        "# Plot without log scale\n",
        "sns.histplot(data=df, x='customer_service_calls', bins=20, kde=True, color='skyblue', edgecolor='black', ax=axes[0])\n",
        "axes[0].set_xlabel('Number of Customer Service Calls', fontsize=12)\n",
        "axes[0].set_ylabel('Frequency', fontsize=12)\n",
        "axes[0].set_title('Distribution of Customer Service Calls', fontsize=14)\n",
        "axes[0].grid(axis='y', linestyle='--', alpha=0.7)\n",
        "\n",
        "# Plot with log scale\n",
        "sns.histplot(data=df, x='customer_service_calls', bins=20, kde=True, color='skyblue', edgecolor='black', ax=axes[1])\n",
        "axes[1].set_xlabel('Number of Customer Service Calls', fontsize=12)\n",
        "axes[1].set_ylabel('Frequency (Log Scale)', fontsize=12)\n",
        "axes[1].set_title('Distribution of Customer Service Calls (Log Scale)', fontsize=14)\n",
        "axes[1].grid(axis='y', linestyle='--', alpha=0.7)\n",
        "axes[1].set_yscale('log')\n",
        "\n",
        "\n",
        "plt.tight_layout()\n",
        "\n",
        "plt.show()\n"
      ],
      "metadata": {
        "id": "lqAIGUfyphqO"
      },
      "execution_count": null,
      "outputs": []
    },
    {
      "cell_type": "code",
      "source": [
        "df['customer_service_calls'].describe()"
      ],
      "metadata": {
        "id": "Z-NlWRk_22ea"
      },
      "execution_count": null,
      "outputs": []
    },
    {
      "cell_type": "markdown",
      "source": [
        "##### 1. Why did you pick the specific chart?"
      ],
      "metadata": {
        "id": "t27r6nlMphqO"
      }
    },
    {
      "cell_type": "markdown",
      "source": [
        "Answer Here."
      ],
      "metadata": {
        "id": "iv6ro40sphqO"
      }
    },
    {
      "cell_type": "markdown",
      "source": [
        "##### 2. What is/are the insight(s) found from the chart?"
      ],
      "metadata": {
        "id": "r2jJGEOYphqO"
      }
    },
    {
      "cell_type": "markdown",
      "source": [
        "**Insight(s) from the Chart:**\n",
        "- **Central Tendency:** The histogram reveals that the majority of customers make 1 to 2 customer service calls, as indicated by the peak around the mean of 1.56.\n",
        "  \n",
        "- **Spread of Data:** The distribution has a right-skewed shape, suggesting that while most customers have a low number of service calls, there are instances of higher call frequencies, with a maximum of 9 calls.\n",
        "\n",
        "- **Common Scenarios:** The quartiles indicate that 50% of customers make 1 or fewer calls, while 75% make 2 or fewer calls. This emphasizes the prevalence of relatively low customer service call volumes.\n",
        "\n",
        "Overall, the chart provides insights into the typical customer service call patterns, highlighting a concentration around a moderate number of calls, with a tail indicating instances of higher call frequencies."
      ],
      "metadata": {
        "id": "Po6ZPi4hphqO"
      }
    },
    {
      "cell_type": "markdown",
      "source": [
        "##### 3. Will the gained insights help creating a positive business impact?\n",
        "Are there any insights that lead to negative growth? Justify with specific reason."
      ],
      "metadata": {
        "id": "b0JNsNcRphqO"
      }
    },
    {
      "cell_type": "markdown",
      "source": [
        "**Business Impact:**\n",
        "- **Positive Impact:** Understanding common scenarios allows for targeted and efficient allocation of customer service resources. Recognizing the right-skewed distribution helps in identifying and addressing the needs of customers with higher call frequencies, potentially enhancing customer satisfaction.\n",
        "\n",
        "- **Negative Growth Risk:** Neglecting the instances of higher call frequencies may lead to inadequate resource allocation and a failure to address the needs of a subset of customers. Ignoring this variability might result in negative growth as the business might miss opportunities to improve service quality and customer experience for those with higher service call requirements."
      ],
      "metadata": {
        "id": "xvSq8iUTphqO"
      }
    },
    {
      "cell_type": "markdown",
      "source": [],
      "metadata": {
        "id": "qrjL0wrc9U5C"
      }
    },
    {
      "cell_type": "markdown",
      "source": [
        "# **Bivariate analysis**"
      ],
      "metadata": {
        "id": "k1SbXjwr9VpZ"
      }
    },
    {
      "cell_type": "code",
      "source": [
        "# defining a function for getting percentages\n",
        "def crosstab_function(df, var):\n",
        "    tab = pd.DataFrame(pd.crosstab(df[var], df[\"churn\"], margins=True)).reset_index()\n",
        "    tab['Percentage'] = tab[1] / tab['All'] * 100\n",
        "    tab.columns = [var, 'churn_NO', 'churn_YES', 'total', 'churn_percentage']\n",
        "    return tab"
      ],
      "metadata": {
        "id": "PHmsGZAaazhz"
      },
      "execution_count": null,
      "outputs": []
    },
    {
      "cell_type": "markdown",
      "source": [
        "### 5) Barplot"
      ],
      "metadata": {
        "id": "4F5-QbGbLa-w"
      }
    },
    {
      "cell_type": "code",
      "source": [],
      "metadata": {
        "id": "F8fYsF1CLkZh"
      },
      "execution_count": null,
      "outputs": []
    },
    {
      "cell_type": "markdown",
      "source": [
        "##### 1. Why did you pick the specific chart?"
      ],
      "metadata": {
        "id": "qtQL-3yQDjQq"
      }
    },
    {
      "cell_type": "markdown",
      "source": [
        "##### 2. What is/are the insight(s) found from the chart?"
      ],
      "metadata": {
        "id": "CnYNvRIuDn3k"
      }
    },
    {
      "cell_type": "markdown",
      "source": [
        "##### 3. Will the gained insights help creating a positive business impact?\n",
        "Are there any insights that lead to negative growth? Justify with specific reason."
      ],
      "metadata": {
        "id": "UP-xk58cDn3y"
      }
    },
    {
      "cell_type": "markdown",
      "source": [
        "Answer Here"
      ],
      "metadata": {
        "id": "ajrvBWmJDn3z"
      }
    },
    {
      "cell_type": "code",
      "source": [
        "\n",
        "target_column = 'churn'\n",
        "\n",
        "included_columns = df.columns[df.columns != target_column]\n",
        "corr_with_churn = df[included_columns].corrwith(df[target_column])\n",
        "corr_df = pd.DataFrame({'Correlation with Churn': corr_with_churn})\n",
        "\n",
        "corr_df = corr_df.sort_values(by='Correlation with Churn', ascending=False)\n",
        "plt.figure(figsize=(14, 5))\n",
        "sns.barplot(x=corr_df.index, y='Correlation with Churn', data=corr_df, palette='coolwarm')\n",
        "plt.title('Correlation with Churn', fontsize=16)\n",
        "plt.xticks(rotation=45, ha='right')\n",
        "plt.show()\n"
      ],
      "metadata": {
        "id": "wWmpgqOuAKo6"
      },
      "execution_count": null,
      "outputs": []
    },
    {
      "cell_type": "markdown",
      "source": [
        "##### 1. Why did you pick the specific chart?"
      ],
      "metadata": {
        "id": "jj7wYXLtphqO"
      }
    },
    {
      "cell_type": "markdown",
      "source": [],
      "metadata": {
        "id": "Ob8u6rCTphqO"
      }
    },
    {
      "cell_type": "markdown",
      "source": [
        "##### 2. What is/are the insight(s) found from the chart?"
      ],
      "metadata": {
        "id": "eZrbJ2SmphqO"
      }
    },
    {
      "cell_type": "markdown",
      "source": [
        "Answer Here"
      ],
      "metadata": {
        "id": "mZtgC_hjphqO"
      }
    },
    {
      "cell_type": "markdown",
      "source": [
        "##### 3. Will the gained insights help creating a positive business impact?\n",
        "Are there any insights that lead to negative growth? Justify with specific reason."
      ],
      "metadata": {
        "id": "rFu4xreNphqO"
      }
    },
    {
      "cell_type": "markdown",
      "source": [
        "Answer Here"
      ],
      "metadata": {
        "id": "ey_0qi68phqO"
      }
    },
    {
      "cell_type": "markdown",
      "source": [
        "#### Chart - 9"
      ],
      "metadata": {
        "id": "YJ55k-q6phqO"
      }
    },
    {
      "cell_type": "markdown",
      "source": [
        "#### How does Total day minutes spoken relate to the Churn rate"
      ],
      "metadata": {
        "id": "yh-Pcz-KN5gs"
      }
    },
    {
      "cell_type": "code",
      "source": [
        "# Chart - 9 visualization code\n",
        "palette = sns.color_palette(\"pastel\")\n",
        "\n",
        "plt.figure(figsize=(12, 6))\n",
        "\n",
        "ax = sns.barplot(data=df, x='customer_service_calls', y='total_day_charge', hue='churn',ci=False, palette=palette)\n",
        "\n",
        "plt.title('Total Day Charges vs Customer Service Calls (Churn vs Non-Churn)', fontsize=18)\n",
        "\n",
        "plt.xlabel('Customer Service Calls', fontsize=15)\n",
        "plt.ylabel('Total Day Charges', fontsize=15)\n",
        "\n",
        "plt.legend(title='Churn', title_fontsize='14', loc='upper right')\n",
        "plt.grid(True, linestyle='--', alpha=0.7)\n",
        "plt.xticks(fontsize=12)\n",
        "plt.yticks(fontsize=12)\n",
        "plt.show()\n"
      ],
      "metadata": {
        "id": "B2aS4O1ophqO"
      },
      "execution_count": null,
      "outputs": []
    },
    {
      "cell_type": "code",
      "source": [
        "crosstab_function(df,'customer_service_calls')"
      ],
      "metadata": {
        "id": "ugXwed4cbBrF"
      },
      "execution_count": null,
      "outputs": []
    },
    {
      "cell_type": "code",
      "source": [],
      "metadata": {
        "id": "umviECkLa9qe"
      },
      "execution_count": null,
      "outputs": []
    },
    {
      "cell_type": "markdown",
      "source": [
        "##### 1. Why did you pick the specific chart?"
      ],
      "metadata": {
        "id": "gCFgpxoyphqP"
      }
    },
    {
      "cell_type": "markdown",
      "source": [
        "Answer Here."
      ],
      "metadata": {
        "id": "TVxDimi2phqP"
      }
    },
    {
      "cell_type": "markdown",
      "source": [
        "##### 2. What is/are the insight(s) found from the chart?"
      ],
      "metadata": {
        "id": "OVtJsKN_phqQ"
      }
    },
    {
      "cell_type": "markdown",
      "source": [
        "We can see that if customer service calls are made more than 7 times, then the service is bound to be cancelled. This also comes with high charges imposed on the user.\n",
        "At the same time we can see that many users leave the service over 1 to 3 calls made to the customer service when are charged more. Analysis of the total day charge to the minutes spoken over churn rate could give us a better understanding of the same."
      ],
      "metadata": {
        "id": "ngGi97qjphqQ"
      }
    },
    {
      "cell_type": "markdown",
      "source": [
        "##### 3. Will the gained insights help creating a positive business impact?\n",
        "Are there any insights that lead to negative growth? Justify with specific reason."
      ],
      "metadata": {
        "id": "lssrdh5qphqQ"
      }
    },
    {
      "cell_type": "markdown",
      "source": [
        "Answer Here"
      ],
      "metadata": {
        "id": "tBpY5ekJphqQ"
      }
    },
    {
      "cell_type": "code",
      "source": [
        "\n",
        "palette = sns.color_palette(\"Set2\")\n",
        "\n",
        "# Create a figure and axis\n",
        "plt.figure(figsize=(15, 6))\n",
        "\n",
        "# Plot the jointplot\n",
        "joint_plot = sns.jointplot(data=df, x='total_day_minutes', y='total_day_charge',\n",
        "                           hue='churn', alpha=0.3, marker='o', s=50, palette=palette)\n",
        "\n",
        "# Add a title\n",
        "plt.subplots_adjust(top=0.9)\n",
        "joint_plot.fig.suptitle('Total Day Minutes vs Total Day Charges (Churn vs Non-Churn)', fontsize=16)\n",
        "\n",
        "# Set labels and font size\n",
        "plt.xlabel('Total Day Minutes', fontsize=13)\n",
        "plt.ylabel('Total Day Charges', fontsize=13)\n",
        "\n",
        "# Customize legend\n",
        "joint_plot.ax_joint.legend(title='Churn', title_fontsize='13', loc='lower right')\n",
        "plt.show()\n"
      ],
      "metadata": {
        "id": "ZT2cL-U9QPYC"
      },
      "execution_count": null,
      "outputs": []
    },
    {
      "cell_type": "markdown",
      "source": [
        "A linear relationship can be observed between the two Variables.\n",
        "\n",
        "Visible Churn can be seen with higher charges imposed when spoken for longer times."
      ],
      "metadata": {
        "id": "9wyEZNo_RAP3"
      }
    },
    {
      "cell_type": "markdown",
      "source": [
        "#### Chart - 10"
      ],
      "metadata": {
        "id": "U2RJ9gkRphqQ"
      }
    },
    {
      "cell_type": "code",
      "source": [
        "# Chart - 10 visualization code\n",
        "\n",
        "palette = sns.color_palette(\"Set2\")\n",
        "\n",
        "# Create a figure and subplots\n",
        "plt.figure(figsize=(12, 6))\n",
        "\n",
        "# Subplot 1\n",
        "plt.subplot(1, 3, 1)\n",
        "sns.scatterplot(data=df, x='total_day_charge', y='total_day_minutes',\n",
        "                hue='churn', alpha=0.6, palette=palette, marker='o', s=50)\n",
        "plt.title('Total Day', fontsize=12)\n",
        "plt.xlabel('Total Day Charge', fontsize=9)\n",
        "plt.ylabel('Total Day Minutes', fontsize=9)\n",
        "plt.legend(title='Churn', title_fontsize='9', loc='lower right')\n",
        "plt.grid(True, linestyle='--', alpha=0.6)\n",
        "\n",
        "# Subplot 2\n",
        "plt.subplot(1, 3, 2)\n",
        "sns.scatterplot(data=df, x='total_eve_charge', y='total_eve_minutes',\n",
        "                hue='churn', alpha=0.6, palette=palette, marker='o', s=50)\n",
        "plt.title('Total Eve', fontsize=12)\n",
        "plt.xlabel('Total Eve Charge', fontsize=9)\n",
        "plt.ylabel('Total Eve Minutes', fontsize=9)\n",
        "plt.legend(title='Churn', title_fontsize='9', loc='lower right')\n",
        "plt.grid(True, linestyle='--', alpha=0.6)\n",
        "\n",
        "# Subplot 3\n",
        "plt.subplot(1, 3, 3)\n",
        "sns.scatterplot(data=df, x='total_night_charge', y='total_night_minutes',\n",
        "                hue='churn', alpha=0.6, palette=palette, marker='o', s=50)\n",
        "plt.title('Total Night', fontsize=12)\n",
        "plt.xlabel('Total Night Charge', fontsize=9)\n",
        "plt.ylabel('Total Night Minutes', fontsize=9)\n",
        "plt.legend(title='Churn', title_fontsize='9', loc='lower right')\n",
        "plt.grid(True, linestyle='--', alpha=0.6)\n",
        "\n",
        "# Adjust layout\n",
        "plt.tight_layout()\n",
        "\n",
        "# Show the plot\n",
        "plt.show()\n"
      ],
      "metadata": {
        "id": "GM7a4YP4phqQ"
      },
      "execution_count": null,
      "outputs": []
    },
    {
      "cell_type": "markdown",
      "source": [
        "##### 1. Why did you pick the specific chart?"
      ],
      "metadata": {
        "id": "1M8mcRywphqQ"
      }
    },
    {
      "cell_type": "markdown",
      "source": [
        "We can observe from the three scatterplots that the churn rate is maximum times True in the Day.\n",
        "In the evening and night we can see that the churn rate is not so relevant."
      ],
      "metadata": {
        "id": "8agQvks0phqQ"
      }
    },
    {
      "cell_type": "markdown",
      "source": [
        "##### 2. What is/are the insight(s) found from the chart?"
      ],
      "metadata": {
        "id": "tgIPom80phqQ"
      }
    },
    {
      "cell_type": "markdown",
      "source": [
        "Answer Here"
      ],
      "metadata": {
        "id": "Qp13pnNzphqQ"
      }
    },
    {
      "cell_type": "markdown",
      "source": [
        "##### 3. Will the gained insights help creating a positive business impact?\n",
        "Are there any insights that lead to negative growth? Justify with specific reason."
      ],
      "metadata": {
        "id": "JMzcOPDDphqR"
      }
    },
    {
      "cell_type": "markdown",
      "source": [
        "Answer Here"
      ],
      "metadata": {
        "id": "R4Ka1PC2phqR"
      }
    },
    {
      "cell_type": "markdown",
      "source": [
        "#### Chart - 11\n",
        "\n",
        "How do Users with international plan relate with the churn?"
      ],
      "metadata": {
        "id": "x-EpHcCOp1ci"
      }
    },
    {
      "cell_type": "code",
      "source": [
        "# Chart - 11 visualization code\n",
        "\n",
        "palette = sns.color_palette(\"pastel\")\n",
        "\n",
        "# Create a categorical plot\n",
        "catplot = sns.catplot(data=df, x='international_plan', hue='churn', kind='count', palette=palette)\n",
        "\n",
        "# Add title\n",
        "plt.subplots_adjust(top=0.9)\n",
        "catplot.fig.suptitle('Churn Count Based on International Plan Status', fontsize=16)\n",
        "\n",
        "# Set labels and font size\n",
        "catplot.set_xlabels('International Plan Status', fontsize=12)\n",
        "catplot.set_ylabels('Count', fontsize=12)\n",
        "\n",
        "# Show the plot\n",
        "plt.show()\n"
      ],
      "metadata": {
        "id": "mAQTIvtqp1cj"
      },
      "execution_count": null,
      "outputs": []
    },
    {
      "cell_type": "code",
      "source": [
        "df.columns"
      ],
      "metadata": {
        "id": "yfbefoPyeSo5"
      },
      "execution_count": null,
      "outputs": []
    },
    {
      "cell_type": "code",
      "source": [
        "crosstab_function(df,'international_plan')"
      ],
      "metadata": {
        "id": "oe313Q6BeRcH"
      },
      "execution_count": null,
      "outputs": []
    },
    {
      "cell_type": "markdown",
      "source": [
        "##### 1. Why did you pick the specific chart?"
      ],
      "metadata": {
        "id": "X_VqEhTip1ck"
      }
    },
    {
      "cell_type": "markdown",
      "source": [
        "Answer Here."
      ],
      "metadata": {
        "id": "-vsMzt_np1ck"
      }
    },
    {
      "cell_type": "markdown",
      "source": [
        "##### 2. What is/are the insight(s) found from the chart?"
      ],
      "metadata": {
        "id": "8zGJKyg5p1ck"
      }
    },
    {
      "cell_type": "markdown",
      "source": [
        "Users who Have an international plan are relatively very less than those who do not.\n",
        "We can also observe that people who have an international plan have almost equal churn rate.\n",
        "\n",
        "peoples having international plan are 42% likely to churn"
      ],
      "metadata": {
        "id": "ZYdMsrqVp1ck"
      }
    },
    {
      "cell_type": "markdown",
      "source": [
        "##### 3. Will the gained insights help creating a positive business impact?\n",
        "Are there any insights that lead to negative growth? Justify with specific reason."
      ],
      "metadata": {
        "id": "PVzmfK_Ep1ck"
      }
    },
    {
      "cell_type": "markdown",
      "source": [
        "Answer Here"
      ],
      "metadata": {
        "id": "druuKYZpp1ck"
      }
    },
    {
      "cell_type": "markdown",
      "source": [
        "#### Chart - 12"
      ],
      "metadata": {
        "id": "n3dbpmDWp1ck"
      }
    },
    {
      "cell_type": "code",
      "source": [
        "# Chart - 12 visualization code\n",
        "palette = sns.color_palette(\"pastel\")\n",
        "\n",
        "# Create a categorical plot\n",
        "catplot = sns.catplot(data=df, x='voice_mail_plan', hue='churn', kind='count', palette=palette)\n",
        "\n",
        "# Add title\n",
        "plt.subplots_adjust(top=0.9)\n",
        "catplot.fig.suptitle('Churn Count Based on Voice mail Plan Status', fontsize=16)\n",
        "\n",
        "# Set labels and font size\n",
        "catplot.set_xlabels('Voice mail Plan Status', fontsize=12)\n",
        "catplot.set_ylabels('Count', fontsize=12)\n",
        "\n",
        "# Show the plot\n",
        "plt.show()\n"
      ],
      "metadata": {
        "id": "bwevp1tKp1ck"
      },
      "execution_count": null,
      "outputs": []
    },
    {
      "cell_type": "code",
      "source": [
        "crosstab_function(df,'voice_mail_plan')"
      ],
      "metadata": {
        "id": "jkC93uIbfBt4"
      },
      "execution_count": null,
      "outputs": []
    },
    {
      "cell_type": "markdown",
      "source": [
        "##### 1. Why did you pick the specific chart?"
      ],
      "metadata": {
        "id": "ylSl6qgtp1ck"
      }
    },
    {
      "cell_type": "markdown",
      "source": [
        "Answer Here."
      ],
      "metadata": {
        "id": "m2xqNkiQp1ck"
      }
    },
    {
      "cell_type": "markdown",
      "source": [
        "##### 2. What is/are the insight(s) found from the chart?"
      ],
      "metadata": {
        "id": "ZWILFDl5p1ck"
      }
    },
    {
      "cell_type": "markdown",
      "source": [
        "Comparison of Churn Percentages:\n",
        "\n",
        "Customers without a voice mail plan seem to have a higher churn percentage compared to those with a voice mail plan.\n",
        "This suggests that the presence of a voice mail plan might be associated with lower churn rates.\n",
        "Insights for Stakeholders:\n",
        "\n",
        "Stakeholders can consider promoting or emphasizing the voice mail plan feature as it appears to be associated with lower churn.\n",
        "Marketing efforts could target customers without a voice mail plan to encourage adoption and potentially reduce churn.\n",
        "Further Analysis:\n",
        "\n",
        "To strengthen these insights, you might want to explore additional features and conduct a more in-depth analysis.\n",
        "Consider visualizations, such as bar plots or pie charts, to represent the churn percentages visually."
      ],
      "metadata": {
        "id": "x-lUsV2mp1ck"
      }
    },
    {
      "cell_type": "markdown",
      "source": [
        "##### 3. Will the gained insights help creating a positive business impact?\n",
        "Are there any insights that lead to negative growth? Justify with specific reason."
      ],
      "metadata": {
        "id": "M7G43BXep1ck"
      }
    },
    {
      "cell_type": "markdown",
      "source": [
        "Answer Here"
      ],
      "metadata": {
        "id": "5wwDJXsLp1cl"
      }
    },
    {
      "cell_type": "markdown",
      "source": [
        "#### Chart - 13"
      ],
      "metadata": {
        "id": "Ag9LCva-p1cl"
      }
    },
    {
      "cell_type": "code",
      "source": [
        "df.columns"
      ],
      "metadata": {
        "id": "DeOFQWkIgNeh"
      },
      "execution_count": null,
      "outputs": []
    },
    {
      "cell_type": "code",
      "source": [
        "# Chart - 13 visualization code\n",
        "palette = sns.color_palette(\"pastel\")\n",
        "\n",
        "# Create a categorical plot\n",
        "catplot = sns.catplot(data=df, x='customer_service_calls', hue='churn', kind='count', palette=palette)\n",
        "\n",
        "# Add title\n",
        "plt.subplots_adjust(top=0.9)\n",
        "catplot.fig.suptitle('Churn Count Based on customer_service_calls', fontsize=16)\n",
        "\n",
        "# Set labels and font size\n",
        "catplot.set_xlabels('customer_service_calls', fontsize=12)\n",
        "catplot.set_ylabels('Count', fontsize=12)\n",
        "\n",
        "# Show the plot\n",
        "plt.show()\n"
      ],
      "metadata": {
        "id": "EUfxeq9-p1cl"
      },
      "execution_count": null,
      "outputs": []
    },
    {
      "cell_type": "code",
      "source": [
        "76/166"
      ],
      "metadata": {
        "id": "IP4TRdIYkyW4"
      },
      "execution_count": null,
      "outputs": []
    },
    {
      "cell_type": "code",
      "source": [
        "crosstab_function(df[df['customer_service_calls']>3],'customer_service_calls')"
      ],
      "metadata": {
        "id": "pfsreEDogfpd"
      },
      "execution_count": null,
      "outputs": []
    },
    {
      "cell_type": "markdown",
      "source": [
        "##### 1. Why did you pick the specific chart?"
      ],
      "metadata": {
        "id": "E6MkPsBcp1cl"
      }
    },
    {
      "cell_type": "markdown",
      "source": [
        "Answer Here."
      ],
      "metadata": {
        "id": "V22bRsFWp1cl"
      }
    },
    {
      "cell_type": "markdown",
      "source": [
        "##### 2. What is/are the insight(s) found from the chart?"
      ],
      "metadata": {
        "id": "2cELzS2fp1cl"
      }
    },
    {
      "cell_type": "markdown",
      "source": [
        "Answer Here"
      ],
      "metadata": {
        "id": "ozQPc2_Ip1cl"
      }
    },
    {
      "cell_type": "markdown",
      "source": [
        "##### 3. Will the gained insights help creating a positive business impact?\n",
        "Are there any insights that lead to negative growth? Justify with specific reason."
      ],
      "metadata": {
        "id": "3MPXvC8up1cl"
      }
    },
    {
      "cell_type": "markdown",
      "source": [
        "Answer Here"
      ],
      "metadata": {
        "id": "GL8l1tdLp1cl"
      }
    },
    {
      "cell_type": "code",
      "source": [],
      "metadata": {
        "id": "r5Uy6Os-h23Y"
      },
      "execution_count": null,
      "outputs": []
    },
    {
      "cell_type": "markdown",
      "source": [
        "#### Chart - 14 - Correlation Heatmap"
      ],
      "metadata": {
        "id": "NC_X3p0fY2L0"
      }
    },
    {
      "cell_type": "code",
      "source": [
        "\n",
        "plt.figure(figsize=(15, 10))\n",
        "\n",
        "# Customize the heatmap\n",
        "sns.heatmap(corr_matrix, annot=True, fmt=\".2f\", linewidths=.5)\n",
        "\n",
        "# Add title\n",
        "plt.title('Correlation Heatmap)', fontsize=16)\n",
        "\n",
        "plt.xticks(rotation=45, ha='right')\n",
        "\n",
        "plt.show()\n"
      ],
      "metadata": {
        "id": "RtnwK7e6I5Df"
      },
      "execution_count": null,
      "outputs": []
    },
    {
      "cell_type": "markdown",
      "source": [
        "##### 1. Why did you pick the specific chart?"
      ],
      "metadata": {
        "id": "UV0SzAkaZNRQ"
      }
    },
    {
      "cell_type": "markdown",
      "source": [
        "The heatmap was chosen due to its ability to visually represent correlations in a concise manner. Its color gradients and annotations facilitate the identification of high correlation values. It efficiently communicates relationships between variables, aiding in the interpretation of patterns. Specific details, such as the correlation of 'churn' with various features, become easily noticeable. The heatmap's clarity and visual appeal make it an effective tool for exploring complex interdependencies in the dataset."
      ],
      "metadata": {
        "id": "bfSqtnDqZNRR"
      }
    },
    {
      "cell_type": "markdown",
      "source": [
        "##### 2. What is/are the insight(s) found from the chart?"
      ],
      "metadata": {
        "id": "YPEH6qLeZNRQ"
      }
    },
    {
      "cell_type": "markdown",
      "source": [
        "**With regard to the heatmap we can see high correlation bettween the following variables:¶**\n",
        "\n",
        "**With respect to churn**\n",
        "* Total day minutes to Churn at 0.21\n",
        "* Total day charge to Churn at 0.21\n",
        "* Customer service calls to Churn at 0.21\n",
        "* International plan to Churn at 0.26\n",
        "\n",
        "**Other relations:**\n",
        "* Total day charge to Total day minutes at 1\n",
        "* Total evening charge to total eve minutes at 1\n",
        "* total night charge to total night minutes at 1"
      ],
      "metadata": {
        "id": "5OhWGXSgVIYX"
      }
    },
    {
      "cell_type": "markdown",
      "source": [
        "#### Chart - 15 - Pair Plot"
      ],
      "metadata": {
        "id": "q29F0dvdveiT"
      }
    },
    {
      "cell_type": "code",
      "source": [
        "# Pair Plot visualization code"
      ],
      "metadata": {
        "id": "o58-TEIhveiU"
      },
      "execution_count": null,
      "outputs": []
    },
    {
      "cell_type": "markdown",
      "source": [
        "##### 1. Why did you pick the specific chart?"
      ],
      "metadata": {
        "id": "EXh0U9oCveiU"
      }
    },
    {
      "cell_type": "markdown",
      "source": [
        "Answer Here."
      ],
      "metadata": {
        "id": "eMmPjTByveiU"
      }
    },
    {
      "cell_type": "markdown",
      "source": [
        "##### 2. What is/are the insight(s) found from the chart?"
      ],
      "metadata": {
        "id": "22aHeOlLveiV"
      }
    },
    {
      "cell_type": "markdown",
      "source": [
        "Answer Here"
      ],
      "metadata": {
        "id": "uPQ8RGwHveiV"
      }
    },
    {
      "cell_type": "markdown",
      "source": [
        "## **5. Solution to Business Objective**"
      ],
      "metadata": {
        "id": "JcMwzZxoAimU"
      }
    },
    {
      "cell_type": "markdown",
      "source": [
        "#### What do you suggest the client to achieve Business Objective ?\n",
        "Explain Briefly."
      ],
      "metadata": {
        "id": "8G2x9gOozGDZ"
      }
    },
    {
      "cell_type": "markdown",
      "source": [
        "Answer Here."
      ],
      "metadata": {
        "id": "pASKb0qOza21"
      }
    },
    {
      "cell_type": "markdown",
      "source": [
        "# **Conclusion**"
      ],
      "metadata": {
        "id": "gCX9965dhzqZ"
      }
    },
    {
      "cell_type": "markdown",
      "source": [
        "\n",
        "Based on my observation I can see that most people who leave the service are the ones who use the service in the day/morning.\n",
        "It can also be observed that most people who use the service in the morning speak for shorter amounts of time but make more calls.\n",
        "International plan users are more consistent with their churn w.r.t the ones who do not have the service.\n",
        "Prescription:\n",
        "Introducing plans which minimize costs for more number of calls can be used.\n",
        "Decreasing the prices as the talk-time increases can be an effective way to reduce the churn.\n",
        "Improvement in the customer service can be done to reduce the number of calls which cause the churn."
      ],
      "metadata": {
        "id": "Fjb1IsQkh3yE"
      }
    },
    {
      "cell_type": "markdown",
      "source": [
        "### ***Hurrah! You have successfully completed your EDA Capstone Project !!!***"
      ],
      "metadata": {
        "id": "gIfDvo9L0UH2"
      }
    },
    {
      "cell_type": "code",
      "source": [
        "pd.crosstab(df[\"churn\"], df[\"voice_mail_plan\"], normalize=True).unstack()"
      ],
      "metadata": {
        "id": "XWtFy3okkT04"
      },
      "execution_count": null,
      "outputs": []
    },
    {
      "cell_type": "code",
      "source": [
        "temp_df_1 = df[(df['customer_service_calls']>3) & (df['international_plan']==1)]"
      ],
      "metadata": {
        "id": "UDT__WaboZKy"
      },
      "execution_count": null,
      "outputs": []
    },
    {
      "cell_type": "code",
      "source": [
        "temp_df_2 = df[(df['customer_service_calls']>3) & (df['international_plan']==0)]"
      ],
      "metadata": {
        "id": "zUT6arqypRGh"
      },
      "execution_count": null,
      "outputs": []
    },
    {
      "cell_type": "code",
      "source": [
        "temp_df_1['churn'].value_counts()"
      ],
      "metadata": {
        "id": "TaeLAKx2pCc3"
      },
      "execution_count": null,
      "outputs": []
    },
    {
      "cell_type": "code",
      "source": [
        "temp_df_2['churn'].value_counts()"
      ],
      "metadata": {
        "id": "1dWhj0e-pa7R"
      },
      "execution_count": null,
      "outputs": []
    },
    {
      "cell_type": "code",
      "source": [
        "sns.countplot(data =temp_df_2,x=\"churn\")"
      ],
      "metadata": {
        "id": "IaFM-7ljpWzG"
      },
      "execution_count": null,
      "outputs": []
    },
    {
      "cell_type": "code",
      "source": [
        "sns.countplot(data =temp_df_1,x=\"churn\")"
      ],
      "metadata": {
        "id": "xR8svIRnotqn"
      },
      "execution_count": null,
      "outputs": []
    }
  ]
}